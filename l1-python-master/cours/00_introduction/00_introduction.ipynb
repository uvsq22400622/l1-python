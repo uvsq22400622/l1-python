{
 "cells": [
  {
   "cell_type": "markdown",
   "metadata": {
    "id": "qrC4jJvl8_22",
    "slideshow": {
     "slide_type": "slide"
    }
   },
   "source": [
    "#  IN100N : Introduction au cours"
   ]
  },
  {
   "cell_type": "markdown",
   "metadata": {
    "slideshow": {
     "slide_type": "slide"
    }
   },
   "source": [
    "##  1. Infos pratiques \n",
    "* Ce module s'appelle **LS**IN100**N**. \n",
    "* Responsable du cours : [Zaineb GARCIA](https://sites.google.com/site/zeinebchelly/home)\n",
    "* [Emploi du temps officiel](https://edt.uvsq.fr/cal?vt=month&dt=2024-09-11&et=module&fid0=LSIN100N) \n",
    "* Chaque créneau de CM dure 1 heure et 30 minutes.\n",
    "* Les TDs ont lieu toutes les semaines. Le premier TD commence la semaine du 16 septembre."
   ]
  },
  {
   "cell_type": "markdown",
   "metadata": {
    "id": "fHwT7KAr8_25",
    "slideshow": {
     "slide_type": "slide"
    }
   },
   "source": [
    "### Remarques :\n",
    "\n",
    "* Il est  impératif d'être inscrit au cours IN100N sur eCampus, c'est via eCampus que vous recevrez les informations importantes.\n",
    "* Tous les supports de cours et sujets de TDs seront accessibles via eCampus.\n",
    "* Dépot - **guide installation seulement** [github](https://github.com/uvsq-info/l1-python)\n",
    "* **Le support du cours/TDs est sur e-Campus et non pas sur Github !**\n",
    "* Il faut disposer d'un ordinateur pour les TDs. Emprunts possibles à la bibliothèque, mais on essaye d'avoir tout de suite une solution pour programmer."
   ]
  },
  {
   "cell_type": "markdown",
   "metadata": {
    "id": "rwBbL-YJ8_26",
    "slideshow": {
     "slide_type": "slide"
    }
   },
   "source": [
    "## 2. Environnement de programmation pour Python\n",
    "Un programme est un *fichier texte* qui doit être interprété pour être exécuté. Pour cela il faut installer des logiciels:\n",
    "* un interpréteur : Python3 issu de la distribution Miniconda\n",
    "* un éditeur de texte : VisualStudioCode (ou vscode pour faire court)\n",
    "* des bibliothèques : numpy, matplotlib, jupyter\n",
    "* des outils de programmation : git, flake8, mypy"
   ]
  },
  {
   "cell_type": "markdown",
   "metadata": {
    "id": "5aoajIsU8_26",
    "slideshow": {
     "slide_type": "slide"
    }
   },
   "source": [
    "Sur votre ordinateur personnel, vous devez suivre la procédure d'installation décrite sur [ce site](https://github.com/uvsq-info/l1-python/blob/master/INSTALL.md).\n",
    "## Remarques :\n",
    "* Vous avez seulement besoin de suivre les étapes précédant l'**installation du système de gestion de versions**. Si vous avez l'intention d'utiliser **Git**, veuillez compléter l'intégralité du processus d'installation détaillé dans le document **INSTALL.md**.\n",
    "* Même si vous avez déjà une installation Python, il est fortement recommandé de faire cette nouvelle installation."
   ]
  },
  {
   "cell_type": "markdown",
   "metadata": {
    "id": "o8w4cSux8_26",
    "slideshow": {
     "slide_type": "slide"
    }
   },
   "source": [
    "* Il faut impérativement **installer le maximum de logiciels avant votre premier TD** durant lequel on pourra vous aider\n",
    "* On utilise **Python3** et pas Python2"
   ]
  },
  {
   "cell_type": "markdown",
   "metadata": {
    "id": "JoS9VXfL8_27",
    "slideshow": {
     "slide_type": "slide"
    }
   },
   "source": [
    "**Environnement de programmation : plusieurs solutions**\n",
    "* solution à privilégier : ordinateur personnel avec l'installation de l'environnement\n",
    "* sinon, pour les TDs : utilisation du cartable numérique\n",
    "    * prêt à la demi-journée à la bibliothèque\n",
    "    * carte d'étudiant obligatoire"
   ]
  },
  {
   "cell_type": "markdown",
   "metadata": {
    "id": "-9hFknS_8_27",
    "slideshow": {
     "slide_type": "slide"
    }
   },
   "source": [
    "* sauvegarde :\n",
    "     * Flash Disk, google drive, etc.\n",
    "     * ou bien via l'outil git et compte [github](https://github.com/) [seulement si vous avez compléter l'intégralité du processus d'installation détaillé dans le document **INSTALL.md**]\n",
    "* en cas d'impossibilité d'installer l'environnement : utilisation d'un notebook Python en ligne comme [Google Colab](https://colab.research.google.com/notebooks/intro.ipynb#recent=true). Cette solution ne permet pas d'utiliser les outils de programmation."
   ]
  },
  {
   "cell_type": "markdown",
   "metadata": {
    "id": "v_ZSQD678_27",
    "slideshow": {
     "slide_type": "slide"
    }
   },
   "source": [
    "## 3. Evaluation du cours\n",
    "* **Pas de session 2 en L1 !** Principe de la deuxième chance.\n",
    "* 4 contrôles continus (CC1, CC2, CC3 & CC4)   \n",
    "* Principe de la deuxième chance : <font color='green'>CC1 * 1 + CC2 * 2 + max(CC3; CC4) * 3 </font>"
   ]
  },
  {
   "cell_type": "markdown",
   "metadata": {
    "id": "VBjdmxCJ8_28",
    "slideshow": {
     "slide_type": "slide"
    }
   },
   "source": [
    "## 3.1. Evaluation du cours : organisation\n",
    "* CC1 & CC3 : passage de 20 minutes dans la salle de TD pour préparer un sujet puis 5 minutes d'oral avec le.a chargé.e de TD\n",
    "* Note CC1 & CC3 : de 0 à 5 sans demi-point, remis sur 20 après. A priori une, deux ou trois questions comprenant un petit problème ou une question simple, et trouver la réponse en utilisant la programmation, ou bien un exercice demandant d'écrire un programme faisant une tâche précise."
   ]
  },
  {
   "cell_type": "markdown",
   "metadata": {
    "slideshow": {
     "slide_type": "slide"
    }
   },
   "source": [
    "## 3.1. Evaluation du cours : organisation (suite)\n",
    "* CC2 & CC4 : QCM d'une heure en Amphithéatre. Noté sur 20. \n",
    "* Les QCMs sont à point négatifs : 20 questions, 1 point bonne réponse, 0 point sans réponse, -0,3 mauvaise réponse"
   ]
  },
  {
   "cell_type": "markdown",
   "metadata": {
    "slideshow": {
     "slide_type": "slide"
    }
   },
   "source": [
    "* **Dates**  :\n",
    "    * **CCs** :\n",
    "        * CC1 : semaine du 04/11/2024 (en TD)\n",
    "        * CC2 : 12/11/2024 (1h en amphi)\n",
    "        * <font color='red'> CC3 : semaine du 02/12/2024 (en TD) **-- à confirmer**</font>\n",
    "        * <font color='red'> CC4 : 10/12/2024 (1h en amphi)  **-- à confirmer**</font>\n",
    "    * **Rattrapage** :\n",
    "        * <font color='red'> semaine du 16/12/2024   **-- à confirmer**</font>"
   ]
  },
  {
   "cell_type": "markdown",
   "metadata": {
    "id": "ifagfGJo8_28",
    "slideshow": {
     "slide_type": "slide"
    }
   },
   "source": [
    "## 3.2. Evaluation du cours : ce qui est attendu\n",
    "* savoir lire du code\n",
    "* comprendre l'éxécution de programmes simples et imbriqués\n",
    "* retranscription de langage courant en langage Python\n",
    "* être capable, face à un problème simple, de le résoudre en utilisant la programmation"
   ]
  },
  {
   "cell_type": "markdown",
   "metadata": {
    "id": "QCPy1x7Y8_28",
    "slideshow": {
     "slide_type": "slide"
    }
   },
   "source": [
    "## 4. Python\n",
    "* créé par Guido van Russom (Pays-Bas), fan des Monty-Python\n",
    "* première version de Python en 1991\n",
    "* entre autres caractéristiques du langage:\n",
    "    * multiplateformes: Windows, Linux, MacOs, Android...\n",
    "    * gratuit et open-source\n",
    "    * langage de haut-niveau\n",
    "    * bénéficie d'une communauté active\n",
    "    * caractéristiques techniques du langage vues au fur et à mesure du cours"
   ]
  },
  {
   "cell_type": "markdown",
   "metadata": {
    "id": "ltWa0erB8_28",
    "slideshow": {
     "slide_type": "slide"
    }
   },
   "source": [
    "**Manières de programmer en Python**\n",
    "* notebook Python (cf cellule suivante)\n",
    "* interpréteur en mode interactif (démo dans le terminal)\n",
    "* programme (aussi appelé script)\n",
    "    * fichier texte qui contient une suite d'instructions\n",
    "    * on écrit avec un *éditeur de texte*, ce que n'est pas le logiciel word\n",
    "    * on exécute avec un interpréteur"
   ]
  },
  {
   "cell_type": "markdown",
   "metadata": {
    "id": "Qxw2ynzB8_29",
    "slideshow": {
     "slide_type": "slide"
    }
   },
   "source": [
    "* programmer c'est aussi:\n",
    "    * écrire un programme lisible pour soi et les autres\n",
    "    * savoir débugger un programme\n",
    "    * maîtriser des outils de sauvegarde et de gestion de version"
   ]
  },
  {
   "cell_type": "markdown",
   "metadata": {
    "id": "u48wUZqw8_2-",
    "slideshow": {
     "slide_type": "slide"
    }
   },
   "source": [
    "**Quelques références**\n",
    "\n",
    "---\n",
    "\n",
    "Vous trouverez beaucoup de cours en ligne. Voici une sélection de références:\n",
    "\n",
    "* livre de cours [en ligne](https://python.sdv.univ-paris-diderot.fr/)\n",
    "* site [https://courspython.com/bases-python.html](https://courspython.com/bases-python.html)\n",
    "* le [tutoriel](https://docs.python.org/fr/3/tutorial/index.html) et la [documentation officielle de Python3](https://docs.python.org/fr/3/)\n",
    "* Outil Basthon : https://basthon.fr/\n",
    "\n",
    "et des réponses possibles à vos questions sur le site de questions-réponses [stackoverflow](https://stackoverflow.com/) (en anglais)\n",
    "\n"
   ]
  }
 ],
 "metadata": {
  "celltoolbar": "Slideshow",
  "colab": {
   "provenance": []
  },
  "kernelspec": {
   "display_name": "Python 3 (ipykernel)",
   "language": "python",
   "name": "python3"
  },
  "language_info": {
   "codemirror_mode": {
    "name": "ipython",
    "version": 3
   },
   "file_extension": ".py",
   "mimetype": "text/x-python",
   "name": "python",
   "nbconvert_exporter": "python",
   "pygments_lexer": "ipython3",
   "version": "3.9.7"
  }
 },
 "nbformat": 4,
 "nbformat_minor": 1
}
