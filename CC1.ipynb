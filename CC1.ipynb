{
 "cells": [
  {
   "cell_type": "code",
   "execution_count": null,
   "metadata": {},
   "outputs": [],
   "source": [
    "#exercice 1\n",
    "# a=11, puisque a = 1 puis a+=5 est égal à 6\n",
    "# puis a+=5 est égal à 11, a = 1+5+5 = 11"
   ]
  },
  {
   "cell_type": "code",
   "execution_count": null,
   "metadata": {},
   "outputs": [
    {
     "name": "stdout",
     "output_type": "stream",
     "text": [
      "Le maximum de 45 , 3 et 4 est 45\n"
     ]
    }
   ],
   "source": [
    "#exercice 2\n",
    "num1 = int(input(\"Saisissez un nombre entier.\"))\n",
    "num2 = int(input(\"Saisissez un deuxième nombre entier.\"))\n",
    "num3 = int(input(\"Saisissez un troisième nombre entier.\"))\n",
    "if num1>num2 and num1>num3:\n",
    "    print(\"Le maximum de\", num1, \",\", num2, \"et\", num3, \"est\", num1)\n",
    "elif num2>num1 and num2>num3:\n",
    "    print(\"Le maximum de\", num1, \",\", num2, \"et\", num3, \"est\", num2)\n",
    "elif num3>num1 and num3>num2:\n",
    "    print(\"Le maximum de\", num1, \",\", num2, \"et\", num3, \"est\", num3)"
   ]
  },
  {
   "cell_type": "code",
   "execution_count": null,
   "metadata": {},
   "outputs": [
    {
     "name": "stdout",
     "output_type": "stream",
     "text": [
      "a est plus grand !\n",
      "a est plus petit !\n",
      "Bravo, vous avez fait 2 tentatives !\n"
     ]
    }
   ],
   "source": [
    "#exercice 3\n",
    "\n",
    "a = 40\n",
    "n = 0\n",
    "tentatives = 0\n",
    "while a != n:\n",
    "    n = int(input(\"Tentez de deviner a !\"))\n",
    "    if n < a:\n",
    "        print(\"a est plus grand !\")\n",
    "        tentatives += 1\n",
    "    elif n > a:\n",
    "        print(\"a est plus petit !\")\n",
    "        tentatives += 1\n",
    "    else: \n",
    "        break\n",
    "print(\"Bravo, vous avez fait\", tentatives, \"tentatives !\")\n",
    "        "
   ]
  }
 ],
 "metadata": {
  "kernelspec": {
   "display_name": "l1-python",
   "language": "python",
   "name": "python3"
  },
  "language_info": {
   "codemirror_mode": {
    "name": "ipython",
    "version": 3
   },
   "file_extension": ".py",
   "mimetype": "text/x-python",
   "name": "python",
   "nbconvert_exporter": "python",
   "pygments_lexer": "ipython3",
   "version": "3.12.5"
  }
 },
 "nbformat": 4,
 "nbformat_minor": 2
}
