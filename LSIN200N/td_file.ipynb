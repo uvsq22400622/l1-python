{
 "cells": [
  {
   "cell_type": "markdown",
   "metadata": {},
   "source": [
    "# <center>  Fichiers texte - TD </center>"
   ]
  },
  {
   "cell_type": "markdown",
   "metadata": {},
   "source": [
    "## Exercice 1 :  Écriture/Lecture dans un fichier\n",
    "\n",
    "### Question 1\n",
    "Définir un programme qui écrit dans un fichier tous les entiers inférieurs à 10 000. Chaque entier est sur une ligne différente du fichier. Puis faire un programme qui lit le contenu de ce fichier et mémorise toutes les valeurs dans un tableau."
   ]
  },
  {
   "cell_type": "code",
   "execution_count": null,
   "metadata": {},
   "outputs": [],
   "source": [
    "#-------------------------#\n",
    "#    Écrire le code ici   #\n",
    "#-------------------------#\n",
    "\n",
    "\n"
   ]
  },
  {
   "cell_type": "markdown",
   "metadata": {},
   "source": [
    "### Question 2\n",
    "Refaire la même chose qu'à la question précédente, mais cette fois-ci tous les entiers sont sur une même ligne et sont séparés par un `;`."
   ]
  },
  {
   "cell_type": "code",
   "execution_count": null,
   "metadata": {},
   "outputs": [],
   "source": [
    "#-------------------------#\n",
    "#    Écrire le code ici   #\n",
    "#-------------------------#\n",
    "\n",
    "\n"
   ]
  },
  {
   "cell_type": "markdown",
   "metadata": {},
   "source": [
    "## Exercice 2:  Lecture/Écriture dans un fichier\n",
    "\n",
    "### Question 1: Écriture dans un fichier\n",
    "Définir un programme qui écrit dans un fichier nommé `'prenoms.txt'` les prénoms contenus dans le tableau initial de l'exercice précédant. Chaque prénom sera écrit sur une ligne différente:"
   ]
  },
  {
   "cell_type": "code",
   "execution_count": 1,
   "metadata": {},
   "outputs": [],
   "source": [
    "#-------------------------#\n",
    "#    Écrire le code ici   #\n",
    "#-------------------------#\n",
    "\n"
   ]
  },
  {
   "cell_type": "markdown",
   "metadata": {},
   "source": [
    "### Question 2:  Lecture dans un fichier\n",
    "\n",
    "Définir un programme qui lit les prénoms du fichier `'prenoms.txt'` et qui affiche en plus du prénom lu le nombre de caractères qui le constitue. Chaque prénom et son nombre de caractère seront affichés sur une ligne différente et séparés par une virgule."
   ]
  },
  {
   "cell_type": "code",
   "execution_count": null,
   "metadata": {},
   "outputs": [],
   "source": [
    "#-------------------------#\n",
    "#    Écrire le code ici   #\n",
    "#-------------------------#\n",
    "\n"
   ]
  },
  {
   "cell_type": "markdown",
   "metadata": {},
   "source": [
    "### Question 3: Lecture et Ecriture dans un fichier\n",
    "\n",
    "Définir un programme qui, au moyen d'une seule boucle, lit les prénoms du fichier `prenoms.txt` et qui écrit dans un fichier `prenoms.csv` en plus du prénom le nombre de caractère qui le constitue. Sur chaque ligne du fichier le prénom et sa longueur sont séparé par une virgule."
   ]
  },
  {
   "cell_type": "code",
   "execution_count": null,
   "metadata": {},
   "outputs": [],
   "source": [
    "#-------------------------#\n",
    "#    Écrire le code ici   #\n",
    "#-------------------------#\n"
   ]
  },
  {
   "cell_type": "markdown",
   "metadata": {},
   "source": [
    "## Exercice 3 : JSON\n",
    "\n",
    "Écrire un programme permettant à partir d’un fichier texte en français d’en déduire la fréquence d’apparition des caractères qu’il contient. Le résultat de cette analyse sera consigné dans un fichier JSON `files/statistiques.json`. Pour des statistiques fiables, on utilisera un texte assez long disponible dans le fichier `files/zadig.txt`."
   ]
  },
  {
   "cell_type": "code",
   "execution_count": null,
   "metadata": {},
   "outputs": [],
   "source": [
    "#-------------------------#\n",
    "#    Écrire le code ici   #\n",
    "#-------------------------#\n",
    "\n",
    "\n"
   ]
  }
 ],
 "metadata": {
  "kernelspec": {
   "display_name": "Python 3",
   "language": "python",
   "name": "python3"
  },
  "language_info": {
   "codemirror_mode": {
    "name": "ipython",
    "version": 3
   },
   "file_extension": ".py",
   "mimetype": "text/x-python",
   "name": "python",
   "nbconvert_exporter": "python",
   "pygments_lexer": "ipython3",
   "version": "3.8.5"
  },
  "latex_envs": {
   "LaTeX_envs_menu_present": true,
   "autoclose": false,
   "autocomplete": true,
   "bibliofile": "biblio.bib",
   "cite_by": "apalike",
   "current_citInitial": 1,
   "eqLabelWithNumbers": true,
   "eqNumInitial": 1,
   "hotkeys": {
    "equation": "Ctrl-E",
    "itemize": "Ctrl-I"
   },
   "labels_anchors": false,
   "latex_user_defs": false,
   "report_style_numbering": false,
   "user_envs_cfg": false
  },
  "toc": {
   "base_numbering": 1,
   "nav_menu": {},
   "number_sections": true,
   "sideBar": true,
   "skip_h1_title": false,
   "title_cell": "Table of Contents",
   "title_sidebar": "Contents",
   "toc_cell": false,
   "toc_position": {},
   "toc_section_display": true,
   "toc_window_display": false
  }
 },
 "nbformat": 4,
 "nbformat_minor": 2
}
