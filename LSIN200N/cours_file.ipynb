{
 "cells": [
  {
   "cell_type": "markdown",
   "metadata": {
    "slideshow": {
     "slide_type": "slide"
    }
   },
   "source": [
    "# <center>  Fichiers texte </center>"
   ]
  },
  {
   "cell_type": "markdown",
   "metadata": {
    "slideshow": {
     "slide_type": "subslide"
    }
   },
   "source": [
    "# Lecture et écriture dans les fichiers\n",
    "\n",
    "Les outils informatiques ont été développés dans le but de travailler sur de gros volumes de données. Les données ne sont pas saisies par l'utilisateur lors de l'exécution du programme mais le plus souvent lues dans des fichiers, puis stockées dans des structures de données telles que les tableaux ou les dictionnaires. \n",
    "\n",
    "Les fichiers permettent en effet de stocker de façon stable de l'information dans un système informatique. Ces fichiers peuvent prendre différents formats. On n'utilise dans ce cours que trois types de fichiers, mais les règles présentées ici sont assez facilement généralisables à d'autres formats:\n"
   ]
  },
  {
   "cell_type": "markdown",
   "metadata": {
    "slideshow": {
     "slide_type": "subslide"
    }
   },
   "source": [
    "- les fichiers `texte` non formatés, c'est à dire des fichiers dont le contenu est directement lisible par un être humain qui ouvrirait le fichier avec un éditeur de texte simple ne respectant pas de format particulier,\n",
    "- les fichiers `CSV` qui sont des fichiers texte respectant un format particulier adapté aux données tabulaires,\n",
    "- les fichiers `JSON` qui sont aussi des fichiers texte respectant un format particulier adapté aux données de type association clé/valeur.\n"
   ]
  },
  {
   "cell_type": "markdown",
   "metadata": {
    "slideshow": {
     "slide_type": "subslide"
    }
   },
   "source": [
    "\n",
    "De nombreux autres types de fichiers existent dont certains sont dans un format binaire (pdf, png, gif). Afin de lire ces fichiers il faut le plus souvent disposer d'une librairie adaptée proposant des fonctions de lecture appropriées au format. Dans ce cas, la documentation de la librairie indique les fonctions d'intéraction existantes et les structures de données qui leur sont associées.\n",
    "\n"
   ]
  },
  {
   "cell_type": "markdown",
   "metadata": {
    "slideshow": {
     "slide_type": "subslide"
    }
   },
   "source": [
    "## Généralités\n",
    "Afin d'importer des données depuis un fichier vers la mémoire d'un programme, il faut:\n",
    "- un sous-programme:\n",
    "    - interagissant avec le système de fichier pour localiser le fichier dans la mémoire - - sur un disque dur par exemple - et l'*ouvrir* afin de pouvoir lire/écrire son contenu,\n",
    "    - permettant de naviguer dans le fichier *i.e.* de déplacer le curseur de lecture/écriture - pour passer d'un caractère à l'autre, d'un mot à l'autre ou d'une ligne à l'autre, ...\n",
    "    - permettant de stocker dans une variable de la mémoire du programme une donnée lue dans le fichier pour pouvoir le cas échéant l'utiliser dans le programme ou de lire une donnée d'une variable de la mémoire du programme pour l'écrire dans le fichier.\n",
    "- dans le cas des fichiers formatés, il faut aussi un algorithme permettant de lire le contenu du fichier en suivant son format et ainsi structurer dans la mémoire du programmes les différentes informations encodées dans le format.\n",
    "\n",
    "**NB :** Les opérations de lecture/écriture sont exécutées à la position du curseur.\n",
    "\n"
   ]
  },
  {
   "cell_type": "markdown",
   "metadata": {
    "slideshow": {
     "slide_type": "slide"
    }
   },
   "source": [
    "## Interaction avec le système de fichiers\n",
    "\n",
    "Pour qu'un programme puisse utiliser les données inscrites dans un fichier, ce dernier doit pouvoir être *accessible* et *lu* par le programme. De façon symétrique, un programme souhaitant *sauvegarder* des données doit pouvoir accéder à l'emplacement du fichier les *écrire* des données dans celui-ci.\n",
    "\n",
    "Dans le cas de la *lecture* comme dans le cas de *l'écriture*, le fichier est identifié par un chemin (appelé `path`) qui est composé de son nom précédé de la séquence des répertoires de l'arborescence du système de fichiers qu'il faut traverser pour l'atteindre. Le chemin peut être donné comme un chemin absolu ou relatif. On n'utilise ici que des chemins relatifs au répertoire contenant le notebook (qui est supposé contenir un répertoire `files/`).\n",
    "\n",
    "La mécanique de la lecture et de l'écriture d'un fichier sont assez similaires et introduites ci-dessous:\n",
    "\n",
    "La première étape consiste à ouvrir le fichier. Ceci est réalisé par la fonction `open()`. Cette fonction admet 2 paramètres:\n",
    "- le premier paramètre est le nom du fichier. Il s'agit d'une chaîne de caractères qui indique le chemin du fichier (`path`).\n",
    "- le second paramètre indique le mode d'ouverture du fichier. Il y a 4 modes d'ouverture de fichier possibles:\n"
   ]
  },
  {
   "cell_type": "markdown",
   "metadata": {
    "slideshow": {
     "slide_type": "subslide"
    }
   },
   "source": [
    "\n",
    "| Mode  | Description | Remarques |\n",
    "|--------|-------------------|---------------|\n",
    "|`r`     | Read - Valeur par défaut. Ouvre le fichier en lecture et renvoie une erreur si le fichier n'existe pas.| |\n",
    "|`w`     | Write - Ouvre le fichier en écriture et crée le fichier si il ne le trouve pas.| **Attention** Si le fichier prééxiste, le contenu intial du fichier est écrasé par le nouveau contenu.|\n",
    "|`a`     | Append - Ouvre le fichier en écriture à la fin  et crée le fichier si il ne le trouve pas.| **Attention** Si le fichier prééxiste, le contenu intial du fichier est préservé, le nouveau contenu est écrit à la suite du contenu prééxistant.|\n",
    "|`x`     | Create - Crée le fichier ou retourne une erreur si il existe déjà.| |\n",
    "\n",
    "Cette fonction retourne un *objet fichier* qui doit être affecté à une variable. Cette variable représente le fichier durant l'exécution de votre programme.\n",
    "\n",
    "**NB:** Lors de l'ouverture d'un fichier, le curseur est automatiquement positionné au début du fichier *i.e.* devant le premier caratère.\n",
    "\n",
    "Voici un exemple de procédure d'ouverture d'un fichier en lecture"
   ]
  },
  {
   "cell_type": "code",
   "execution_count": null,
   "metadata": {
    "slideshow": {
     "slide_type": "subslide"
    }
   },
   "outputs": [],
   "source": [
    "# Définition du chemin vers le fichier\n",
    "path = \"files/lorem.txt\"\n",
    "# Définition du mode d'ouverture du fichier en lecture\n",
    "mode = 'r'\n",
    "# Ouverture du fichier et association du flux à une variable\n",
    "f_input = open(path, mode)\n",
    "f_input.close() #Il faut fermer le dossier pour exécuter la cellule"
   ]
  },
  {
   "cell_type": "markdown",
   "metadata": {
    "slideshow": {
     "slide_type": "subslide"
    }
   },
   "source": [
    "A ce moment de l'exécution du programme une variable `f_input` est définie dans la mémoire et permet d'accéder au contenu du fichier en lecture au moyen de différentes fonctions.\n",
    "\n",
    "**Bonne pratique** :  Tout fichier ouvert par un programme (en écriture comme en lecture) **DOIT** être fermé par le programme. Cette fermeture doit avoir lieu au plus tôt, dès que le programme n'a plus à écrire ou lire dans le fichier et dans tout les cas avant la fin de l'exécution du programme. La fermeture du fichier s'opère au moyen de la fonction `close` et du nom de la variable fichier. Il est conseillé d'écrire l'instruction `close` au même moment que l'instruction `open`:"
   ]
  },
  {
   "cell_type": "code",
   "execution_count": null,
   "metadata": {
    "slideshow": {
     "slide_type": "fragment"
    }
   },
   "outputs": [],
   "source": [
    "f_input.close()"
   ]
  },
  {
   "cell_type": "markdown",
   "metadata": {
    "slideshow": {
     "slide_type": "subslide"
    }
   },
   "source": [
    "Entre l'ouverture et la fermeture du fichier, selon le mode d'ouverture choisie, le programme peut\n",
    "- lire des données dans le fichier au moyen de la fonction `readline()`,\n",
    "- écrire des données dans le fichier au moyen de la fonction `write()`.\n",
    "\n",
    "Il est à noter que la fonction `readline()` ne retourne que des chaînes de caractères (de type `str`). De façon analogue, la fonction `write()` ne sait écrire (prendre en paramètre) que des chaînes de caractères (de type `str`)."
   ]
  },
  {
   "cell_type": "markdown",
   "metadata": {
    "slideshow": {
     "slide_type": "subslide"
    }
   },
   "source": [
    "**Remarque :** \n",
    "La méthode `strip()` permet supprimer tous les espaces notamment \" \" et le retour chariot `\\n` au début et à la fin d'une chaîne de caractères."
   ]
  },
  {
   "cell_type": "code",
   "execution_count": 2,
   "metadata": {
    "slideshow": {
     "slide_type": "subslide"
    }
   },
   "outputs": [
    {
     "name": "stdout",
     "output_type": "stream",
     "text": [
      " Bonjour \n",
      "\n",
      "Bonjour\n"
     ]
    }
   ],
   "source": [
    "chaine = \" Bonjour \\n\"\n",
    "print(chaine)\n",
    "chaine=chaine.strip()\n",
    "print(chaine)"
   ]
  },
  {
   "cell_type": "markdown",
   "metadata": {
    "slideshow": {
     "slide_type": "subslide"
    }
   },
   "source": [
    "### Écriture dans un fichier\n",
    "\n",
    "L'écriture des données dans un fichier est une procédure qui suit le modèle suivant :\n",
    "- ouverture du fichier en écriture :"
   ]
  },
  {
   "cell_type": "code",
   "execution_count": 3,
   "metadata": {
    "slideshow": {
     "slide_type": "subslide"
    }
   },
   "outputs": [],
   "source": [
    "f_output = open( 'files/test_ecriture4' , 'w')"
   ]
  },
  {
   "cell_type": "markdown",
   "metadata": {
    "slideshow": {
     "slide_type": "subslide"
    }
   },
   "source": [
    "Dès que cette instruction est évaluée, un fichier vide est créé à l'emplacement indiqué dans le système de fichier de l'ordinateur. \n",
    "\n",
    "- Ecriture de texte dans le fichier :\n",
    "\n",
    "Il est alors possible d'écrire dans ce fichier au moyen de la fonction `write` et de la variable de flux `f_output`. L'instruction suivante écrit la chaîne de caractère `'bonjour'` dans le fichier `files/test_ecriture'`:"
   ]
  },
  {
   "cell_type": "code",
   "execution_count": 4,
   "metadata": {
    "slideshow": {
     "slide_type": "subslide"
    }
   },
   "outputs": [
    {
     "data": {
      "text/plain": [
       "9"
      ]
     },
     "execution_count": 4,
     "metadata": {},
     "output_type": "execute_result"
    }
   ],
   "source": [
    "f_output.write('Bonjour \\n')"
   ]
  },
  {
   "cell_type": "markdown",
   "metadata": {
    "slideshow": {
     "slide_type": "subslide"
    }
   },
   "source": [
    "Il est possible que la chaîne `'Bonjour \\n'` ne soit pas écrite immédiatement dans le fichier. Certain langage ne procède à l'écriture effective dans le fichier que lorsqu'il y a suffisament de choses à écrire pour limiter les accès disque qui prennent du temps. Ces systèmes conservent les éléments à écrire dans un tampon et lorsque celui-ci est plein, il écrit dans le fichier le contenu du tampon et vide le tampon. Il est possible de forcer l'écriture du tampon dans le fichier en utilisant la fonction `flush` (par exemple avec une instruction de la forme: `f_output.flush()`)\n",
    "\n",
    "- Fermeture du fichier :\n",
    "\n",
    "Dans tout les cas, lorsque le flux du fichier est fermé, le contenu du tampon est écrit dans le fichier. Ainsi après l'exécution de l'instruction `close`, le fichier contient la chaîne de caractère `'Bonjour \\n'`."
   ]
  },
  {
   "cell_type": "code",
   "execution_count": 5,
   "metadata": {
    "slideshow": {
     "slide_type": "fragment"
    }
   },
   "outputs": [],
   "source": [
    "f_output.close()"
   ]
  },
  {
   "cell_type": "markdown",
   "metadata": {
    "slideshow": {
     "slide_type": "slide"
    }
   },
   "source": [
    "Il est possible d'écrire à la fin d'un fichier existant au moyen du mode d'ouverture `'a'`(pour append):"
   ]
  },
  {
   "cell_type": "code",
   "execution_count": 6,
   "metadata": {
    "slideshow": {
     "slide_type": "fragment"
    }
   },
   "outputs": [],
   "source": [
    "f_output = open( 'files/test_ecriture4' , 'a')\n",
    "i = 0\n",
    "while( i < 10 ) :\n",
    "    f_output.write( str(2 * i + 1) + '\\n')\n",
    "    i += 1\n",
    "f_output.close()"
   ]
  },
  {
   "cell_type": "markdown",
   "metadata": {
    "slideshow": {
     "slide_type": "fragment"
    }
   },
   "source": [
    "A l'issue de ces deux opérations d'écriture dans ce même fichier `'files/test_ecriture'`, le contenu de celui-ci est le suivant:\n",
    "```\n",
    "Bonjour \n",
    "1\n",
    "3\n",
    "5\n",
    "7\n",
    "9\n",
    "11\n",
    "13\n",
    "15\n",
    "17\n",
    "19\n",
    "```"
   ]
  },
  {
   "cell_type": "markdown",
   "metadata": {
    "slideshow": {
     "slide_type": "slide"
    }
   },
   "source": [
    "### Lecture dans un fichier\n",
    "\n",
    "Afin de lire les données dans un fichier, on utlise la fonction `readline()`. Cette fonction lit le contenu du fichier *ligne à ligne*. A chaque appel, elle renvoie une ligne du fichier sous la forme d'une chaîne de caractères. Si l'on veut lire d'autre *types* de données il faut **caster** la valeur lue. Pour lire le contenu du fichier créé précédemment, on peut donc procèder de la façon suivante."
   ]
  },
  {
   "cell_type": "markdown",
   "metadata": {
    "slideshow": {
     "slide_type": "subslide"
    }
   },
   "source": [
    "On ouvre d'abord le fichier en lecture avec le mode `'r'`"
   ]
  },
  {
   "cell_type": "code",
   "execution_count": 8,
   "metadata": {
    "slideshow": {
     "slide_type": "fragment"
    }
   },
   "outputs": [],
   "source": [
    "# Ouverture du fichier en lecture\n",
    "f_input = open( 'files/test_ecriture4' , \"r\")"
   ]
  },
  {
   "cell_type": "markdown",
   "metadata": {
    "slideshow": {
     "slide_type": "fragment"
    }
   },
   "source": [
    "Puis on va lire séquentiellement son contenu. La première ligne est une chaîne de caractère:"
   ]
  },
  {
   "cell_type": "code",
   "execution_count": 9,
   "metadata": {
    "slideshow": {
     "slide_type": "subslide"
    }
   },
   "outputs": [],
   "source": [
    "ligne_1 = f_input.readline()"
   ]
  },
  {
   "cell_type": "markdown",
   "metadata": {
    "slideshow": {
     "slide_type": "fragment"
    }
   },
   "source": [
    "On peut vérifier que le contenu de la variable `ligne_1` est bien de type chaîne de caractère et que sa valeur, conformément au contenu du fichier est `'Bonjour \\n'`."
   ]
  },
  {
   "cell_type": "code",
   "execution_count": 10,
   "metadata": {
    "slideshow": {
     "slide_type": "fragment"
    }
   },
   "outputs": [
    {
     "name": "stdout",
     "output_type": "stream",
     "text": [
      "<class 'str'>\n",
      "<DEBUT>Bonjour \n",
      "<FIN>\n"
     ]
    }
   ],
   "source": [
    "print( type(ligne_1))\n",
    "\n",
    "print( '<DEBUT>' + ligne_1 + '<FIN>')"
   ]
  },
  {
   "cell_type": "markdown",
   "metadata": {
    "deletable": false,
    "run_control": {
     "frozen": true
    },
    "slideshow": {
     "slide_type": "subslide"
    }
   },
   "source": [
    "Il est ensuite possible de lire le reste du contenu du fichier (constitués d'entiers) et par exemple de les stocker dans un tableau. Pour cela on utilise une boucle. On lit donc  le contenu du fichier tant qu'il y a un contenu. Lorsque le curseur de lecture atteint  à la fin du fichier, la fonction `readline` renvoie une chaîne vide `''`.\n",
    "\n",
    "Il faut donc répéter des appels à la fonction `readline` tant que celle-ci renvoie une chaîne de caractère différente de la chaîne vide.\n",
    "\n",
    "**NB** :  Une ligne vide contient au minimum un caractère, le caractère non imprimé de retour à la ligne `'\\n'`."
   ]
  },
  {
   "cell_type": "code",
   "execution_count": 11,
   "metadata": {
    "slideshow": {
     "slide_type": "subslide"
    }
   },
   "outputs": [
    {
     "name": "stdout",
     "output_type": "stream",
     "text": [
      "1\n",
      "\n",
      "[1, 3, 5, 7, 9, 11, 13, 15, 17, 19]\n"
     ]
    }
   ],
   "source": [
    "tab = []\n",
    "li = f_input.readline()\n",
    "print(li)\n",
    "while(li!='') :\n",
    "    tab.append(int(li))\n",
    "    li = f_input.readline()\n",
    "print(tab)\n",
    "f_input.close()"
   ]
  },
  {
   "cell_type": "markdown",
   "metadata": {
    "slideshow": {
     "slide_type": "subslide"
    }
   },
   "source": [
    "On peut vérifier que le contenu du tableau est conforme au contenu du fichier:"
   ]
  },
  {
   "cell_type": "code",
   "execution_count": 12,
   "metadata": {
    "slideshow": {
     "slide_type": "fragment"
    }
   },
   "outputs": [
    {
     "name": "stdout",
     "output_type": "stream",
     "text": [
      "[1, 3, 5, 7, 9, 11, 13, 15, 17, 19]\n"
     ]
    }
   ],
   "source": [
    "print(tab)"
   ]
  },
  {
   "cell_type": "markdown",
   "metadata": {
    "slideshow": {
     "slide_type": "fragment"
    }
   },
   "source": [
    "Lors de l'ajout de la valeur lue dans le fichier au tableau, celle-ci est castée en entier (`int()`). Ceci est nécessaire pour que les valeurs du tableau soient des entiers. Si on ne le fait pas, la fonction `readline` renvoyant comme valeur de retour une chaîne de caractères, les valeurs du tableau seront des caractères.\n",
    "\n",
    "**NB** :  Lors du cast de la chaîne de caractères `'1\\n'` en entier, le caractère de retour à la ligne est ignoré."
   ]
  },
  {
   "cell_type": "markdown",
   "metadata": {
    "slideshow": {
     "slide_type": "slide"
    }
   },
   "source": [
    "### Lecture et ecriture formatée\n",
    "Quand on importe dans un programme des données depuis un fichier formaté, il faut définir un programme de lecture qui tient compte du format. dans le cas du fichier `'files/planetes.csv'` suivant:\n",
    "```\n",
    "Planete , Distance au soleil en millions de km , Nombre de satellites\n",
    "Mercure , 57.9 , 0\n",
    "Venus , 108.2 , 0\n",
    "Terre , 149.6 , 1\n",
    "Mars , 227.9 , 2\n",
    "Jupiter , 778.8 , 63\n",
    "Saturne , 1434 , 60\n",
    "Uranus , 2871 , 27\n",
    "Neptune , 4495 , 13\n",
    "```\n"
   ]
  },
  {
   "cell_type": "markdown",
   "metadata": {
    "slideshow": {
     "slide_type": "subslide"
    }
   },
   "source": [
    "le format est `CSV` ce qui indique qu'il s'agit d'un tableau comportant potentiellement plusieurs lignes et que sur chaque ligne les valeurs de chaque colonne sont séparées par une virgule (`,`).\n",
    "\n",
    "Ici la première ligne ne contient pas de valeur, elle contient juste la description du type de données contenues dans chaque colonne. Le fichier contient donc 1 ligne de libellés et 8 lignes de données. Chaque ligne contient 3 colonnes. On se fixe pour objectif ici de créer 3 tableaux  pour collecter le contenu de chaque colonne:\n",
    "- le tableau `planetes` contiendra le nom des planétes (1ère colonne) sous forme de chaîne de caractères,\n",
    "- le tableau `distances` contiendra la distance des planétes au soleil (2ème colonne) sous forme de flotants,\n",
    "- le tableau `satellites` contiendra le nombre de satellites des planétes (3ème colonne) sous forme d'entiers.\n",
    "Les informations de la première ligne ne seront pas stockées en mémoire.\n",
    "\n",
    "Pour lire le contenu de ce fichier il faut développer un programme de lecture adapté au format. Lorsque chaque ligne suit le même format, il est conseillé de définir une fonction de *parsing* qui prend en paramètre une chaîne de caractère correspondant à la lecture d'une ligne (ce qui est la valeur retournée par `read`), la decription du séprateur des colonnes `sep` et qui est capable d'extraire de façon individuelle la valeur d'une colonne indiqué par son numéro `num_colonne` et de la retourner avec un `type` `ty` paramétré."
   ]
  },
  {
   "cell_type": "markdown",
   "metadata": {
    "slideshow": {
     "slide_type": "subslide"
    }
   },
   "source": [
    "| fonction utiles lors du parsing | Utilisation |\n",
    "|----------|-------------|\n",
    "| chaine.strip() | supprime les caractères espace en début et fin de ligne (aussi le caractère `'\\n'`) |\n",
    "| chaine.split( separateur ) | sépare la chaine là où il y a un caractère séparateur et retourne le tableau des chaines séparées. |\n"
   ]
  },
  {
   "cell_type": "code",
   "execution_count": 13,
   "metadata": {
    "slideshow": {
     "slide_type": "fragment"
    }
   },
   "outputs": [],
   "source": [
    "def parse_line( ligne , sep, num_colonne, ty) :\n",
    "        li = ligne.split(sep)\n",
    "        if ty == \"int\" :\n",
    "            return(int(li[num_colonne]))\n",
    "        elif ty == \"float\" :\n",
    "            return(float(li[num_colonne]))\n",
    "        elif ty == \"str\" :\n",
    "            return(li[num_colonne])\n",
    "        elif ty == \"bool\" :\n",
    "            return(bool(li[num_colonne]))\n",
    "        else:\n",
    "            print(\"Erreur type non reconnu.\")"
   ]
  },
  {
   "cell_type": "markdown",
   "metadata": {
    "slideshow": {
     "slide_type": "slide"
    }
   },
   "source": [
    "Ensuite il faut écrire un programme de parsing du fichier complet. Ce programme doit prendre en charge l'ouverture et la fermeture du fichier, lire les données et les mémoriser dans des variables.\n",
    "\n",
    "Voici un exemple de fonction de parsing du contenu du fichier `CSV`."
   ]
  },
  {
   "cell_type": "code",
   "execution_count": 14,
   "metadata": {
    "slideshow": {
     "slide_type": "fragment"
    }
   },
   "outputs": [],
   "source": [
    "f_input = open( 'files/planetes.csv' , 'r')\n",
    "planetes = []\n",
    "distances = []\n",
    "satellites = []\n",
    "f_input.readline()       # saut de la 1ère ligne de libellés\n",
    "li = f_input.readline()  # lecture de la 1ère ligne de données\n",
    "while( '' != li ) :      # tant que ce n'est pas la fin du fichier \n",
    "    planetes.append(parse_line(li, ',', 0, \"str\")) # mémorisation des données lues\n",
    "    distances.append(parse_line(li, ',', 1, \"float\"))\n",
    "    satellites.append(parse_line(li, ',', 2, \"int\"))\n",
    "    li = f_input.readline()  # lecture de la ligne suivante\n",
    "f_input.close()"
   ]
  },
  {
   "cell_type": "markdown",
   "metadata": {
    "slideshow": {
     "slide_type": "subslide"
    }
   },
   "source": [
    "On peut vérifier que le programme s'est déroulé comme attendu en consultant le contenu des variables de stockages des données du fichier:"
   ]
  },
  {
   "cell_type": "code",
   "execution_count": 15,
   "metadata": {
    "slideshow": {
     "slide_type": "fragment"
    }
   },
   "outputs": [
    {
     "name": "stdout",
     "output_type": "stream",
     "text": [
      "['Mercure ', 'Venus ', 'Terre ', 'Mars ', 'Jupiter ', 'Saturne ', 'Uranus ', 'Neptune ']\n",
      "[57.9, 108.2, 149.6, 227.9, 778.8, 1434.0, 2871.0, 4495.0]\n",
      "[0, 0, 1, 2, 63, 60, 27, 13]\n"
     ]
    }
   ],
   "source": [
    "print(planetes)\n",
    "print(distances)\n",
    "print(satellites)"
   ]
  },
  {
   "cell_type": "code",
   "execution_count": null,
   "metadata": {},
   "outputs": [],
   "source": []
  }
 ],
 "metadata": {
  "celltoolbar": "Diaporama",
  "kernelspec": {
   "display_name": "Python 3",
   "language": "python",
   "name": "python3"
  },
  "language_info": {
   "codemirror_mode": {
    "name": "ipython",
    "version": 3
   },
   "file_extension": ".py",
   "mimetype": "text/x-python",
   "name": "python",
   "nbconvert_exporter": "python",
   "pygments_lexer": "ipython3",
   "version": "3.8.5"
  },
  "latex_envs": {
   "LaTeX_envs_menu_present": true,
   "autoclose": false,
   "autocomplete": true,
   "bibliofile": "biblio.bib",
   "cite_by": "apalike",
   "current_citInitial": 1,
   "eqLabelWithNumbers": true,
   "eqNumInitial": 1,
   "hotkeys": {
    "equation": "Ctrl-E",
    "itemize": "Ctrl-I"
   },
   "labels_anchors": false,
   "latex_user_defs": false,
   "report_style_numbering": false,
   "user_envs_cfg": false
  },
  "toc": {
   "base_numbering": 1,
   "nav_menu": {},
   "number_sections": true,
   "sideBar": true,
   "skip_h1_title": false,
   "title_cell": "Table of Contents",
   "title_sidebar": "Contents",
   "toc_cell": false,
   "toc_position": {},
   "toc_section_display": true,
   "toc_window_display": false
  }
 },
 "nbformat": 4,
 "nbformat_minor": 2
}
