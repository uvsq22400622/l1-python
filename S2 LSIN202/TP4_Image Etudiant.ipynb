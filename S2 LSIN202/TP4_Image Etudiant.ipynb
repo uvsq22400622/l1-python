{
 "cells": [
  {
   "cell_type": "markdown",
   "metadata": {},
   "source": [
    "<img style=\"position: absolute;right: 0;\" src=\"data:image/svg+xml,%3Csvg%20height%3D%2295.834%22%20width%3D%2289.004%22%20xml%3Aspace%3D%22preserve%22%20xmlns%3D%22http%3A%2F%2Fwww.w3.org%2F2000%2Fsvg%22%3E%3Cpath%20style%3D%22fill%3A%230092bd%3Bfill-opacity%3A1%3Bfill-rule%3Anonzero%3Bstroke%3Anone%3Bstroke-width%3A.721541%22%20d%3D%22m39.987%200%204.506%2056.336L48.986%200ZM0%2041.473c7.22%205.11%2030.7%2021.33%2030.7%2021.33L0%2032.02Zm0-11.61%2032.69%2031.06L0%2016.767ZM29.056%200l12.985%2056.536L38.711%200Zm10.6%2057.1L27.769%200H6.177c-3.4%200-6.17%202.9-6.17%206.475v8.1l34.915%2044.747L6.458%206.202c.354-.212.688-.426%201.038-.637l29.558%2052.46L16.56%201.037c.359-.153.73-.314%201.1-.46zM0%2071.853c.422.088%201.091.171%202.013.171l24.83.066C19.369%2070.775%202.508%2068.863%200%2068.42Zm0-5.447c3.731.656%2027.2%203.62%2027.2%203.62S4.3%2062.468%200%2061.001zm0-15.54c6.295%203.108%2029.304%2014.059%2029.304%2014.059S6.777%2048.527%200%2043.546zm0%208.139c3.968%201.254%2028.244%208.561%2028.244%208.561S6.312%2056.218%200%2052.914zm86.24%2013.332c1.567%200%202.415-.237%202.764-.4V68.42c-2.588.466-19.182%202.52-26.645%203.854zM82.824%200h-21.59L49.692%2056.966%2071.312.573c.006%200%20.012.01.016.015l.008-.015c.37.146.749.312%201.123.463l-20.155%2057.21%2029.174-52.68c.005.013.009.013.017.018l.013-.018c.34.219.68.425%201.04.636l-27.79%2053.337%2034.245-44.987V6.473C89.003%202.897%2086.226%200%2082.824%200m-26.14%2061.16%2032.318-31.326V16.772Zm32.319-19.705V32.02l-30.64%2031.05c1.523-1.081%2023.69-16.692%2030.64-21.615M50.294%200l-3.01%2056.388L60.234%200Zm38.709%2066.406v-5.41c-4.247%201.447-26.813%208.905-27.178%209.026.87-.129%2023.62-2.998%2027.178-3.616m0-15.558v-7.302c-6.614%204.845-28.127%2020.823-29.264%2021.673%201.365-.679%2023.203-11.375%2029.264-14.37m0%208.149v-6.084c-6.209%203.252-27.195%2014.27-27.9%2014.64%201.215-.383%2024.118-7.365%2027.9-8.556%22%2F%3E%3Cpath%20style%3D%22fill%3A%2380ba27%3Bfill-opacity%3A1%3Bfill-rule%3Anonzero%3Bstroke%3Anone%3Bstroke-width%3A.721541%22%20d%3D%22M88.544%2074.062c-.455.13-1.204.249-2.304.249l-41.284.015L.87%2074.192a6.236%206.236%200%200%201-.842-.118v5.553c0%204.546%203.081%206.827%207.855%208.234%200%200%2032.092%207.973%2037.04%207.973%204.968%200%2036.218-7.973%2036.218-7.973%204.121-1.236%207.863-3.688%207.863-8.234v-5.718c-.106.047-.254.1-.46.153%22%2F%3E%3C%2Fsvg%3E\" alt=\"UVSQ Logo\"/>\n",
    "<h1><center>IN202 – Représentation des données</center></h1>\n",
    "<h2><center>TD 4 – Manipulation d'images</center></h2>"
   ]
  },
  {
   "attachments": {},
   "cell_type": "markdown",
   "metadata": {
    "editable": true,
    "slideshow": {
     "slide_type": ""
    },
    "tags": []
   },
   "source": [
    "On va dans ce TD manipuler des images. Quel format de stockage utilise-t-on pour stocker un pixel ? Et du coup, une image&nbsp;?\n",
    "\n",
    "<em>matrice de pixelou une matrice de tableau de trois valeur = a trois composantes ou 4 (CMYK)</em>\n",
    "\n",
    "Donc, avant de se lancer directement dans la manipulation de telles données, on va s'entrainer sur des matrices simples.\n",
    "\n",
    "## 1. Matrices\n",
    "\n",
    "Commençons par les imports."
   ]
  },
  {
   "cell_type": "code",
   "execution_count": 2,
   "metadata": {
    "editable": true,
    "slideshow": {
     "slide_type": ""
    },
    "tags": []
   },
   "outputs": [],
   "source": [
    "import numpy as np"
   ]
  },
  {
   "cell_type": "markdown",
   "metadata": {
    "editable": true,
    "slideshow": {
     "slide_type": ""
    },
    "tags": []
   },
   "source": [
    "Créez une matrice avec 3 lignes et 4 colonnes. Définissez la matrice comme une liste de listes Python sans utiliser de boucles."
   ]
  },
  {
   "cell_type": "code",
   "execution_count": 14,
   "metadata": {
    "editable": true,
    "slideshow": {
     "slide_type": ""
    },
    "tags": []
   },
   "outputs": [],
   "source": [
    "mat_liste = [\n",
    "    [1,2,3,4],\n",
    "    [5,6,7,8],\n",
    "    [9,10,11,12]\n",
    "]"
   ]
  },
  {
   "cell_type": "markdown",
   "metadata": {
    "editable": true,
    "slideshow": {
     "slide_type": ""
    },
    "tags": []
   },
   "source": [
    "Si on veut utiliser NumPy pour manipuler nos matrices, il va falloir convertir cette liste en une structure `numpy array`. Rien de plus simple&nbsp;:"
   ]
  },
  {
   "cell_type": "code",
   "execution_count": 15,
   "metadata": {
    "editable": true,
    "slideshow": {
     "slide_type": ""
    },
    "tags": []
   },
   "outputs": [],
   "source": [
    "#définir la matrice comme un numpy array à deux dimensions\n",
    "mat_numpy = np.array(mat_liste)"
   ]
  },
  {
   "attachments": {},
   "cell_type": "markdown",
   "metadata": {
    "editable": true,
    "slideshow": {
     "slide_type": ""
    },
    "tags": []
   },
   "source": [
    "Affichez maintenant le nombre de lignes et de colonnes de `mat_liste` et de `mat_numpy`."
   ]
  },
  {
   "cell_type": "code",
   "execution_count": 11,
   "metadata": {
    "editable": true,
    "slideshow": {
     "slide_type": ""
    },
    "tags": []
   },
   "outputs": [
    {
     "name": "stdout",
     "output_type": "stream",
     "text": [
      "mat_liste, Nombre de lignes: 3 Nombre de colonnes: 4\n",
      "mat_numpy, Nombre de lignes: 3 Nombre de colonnes: 4\n"
     ]
    }
   ],
   "source": [
    "print(\"mat_liste, Nombre de lignes:\",\n",
    "      len(mat_liste),\n",
    "      \"Nombre de colonnes:\",\n",
    "      len(mat_liste[0]))\n",
    "#supposant que chaque liste a le même nombre d'élements\n",
    "print(\"mat_numpy, Nombre de lignes:\",\n",
    "      len(mat_numpy),\n",
    "      \"Nombre de colonnes:\",\n",
    "      len(mat_numpy[0]))"
   ]
  },
  {
   "attachments": {},
   "cell_type": "markdown",
   "metadata": {
    "editable": true,
    "slideshow": {
     "slide_type": ""
    },
    "tags": []
   },
   "source": [
    "Les valeurs sont les mêmes (heureusement...).\n",
    "\n",
    "Remplissez `mat_numpy` de valeur 9 en utilisant deux boucles imbriquées sur les index de la matrice."
   ]
  },
  {
   "cell_type": "code",
   "execution_count": 5,
   "metadata": {
    "editable": true,
    "slideshow": {
     "slide_type": ""
    },
    "tags": []
   },
   "outputs": [
    {
     "name": "stdout",
     "output_type": "stream",
     "text": [
      "[[9 9 9 9]\n",
      " [9 9 9 9]\n",
      " [9 9 9 9]]\n"
     ]
    }
   ],
   "source": [
    "def rempli9(matrice:list)->list:\n",
    "    lignes = len(matrice)\n",
    "    colonnes = len(matrice[0])\n",
    "    for i in range(lignes):\n",
    "        for j in range(colonnes):\n",
    "            matrice[i,j]=9            \n",
    "\n",
    "rempli9(mat_numpy)\n",
    "print(mat_numpy)"
   ]
  },
  {
   "attachments": {},
   "cell_type": "markdown",
   "metadata": {
    "editable": true,
    "slideshow": {
     "slide_type": ""
    },
    "tags": []
   },
   "source": [
    "Maintenant, remplissez la matrice de 8, mais cette fois en utilisant [les fonctions spécifiques de numpy](https://numpy.org/doc/2.1/reference/generated/numpy.ndarray.html), sans faire de boucle. "
   ]
  },
  {
   "cell_type": "code",
   "execution_count": 7,
   "metadata": {
    "editable": true,
    "slideshow": {
     "slide_type": ""
    },
    "tags": []
   },
   "outputs": [
    {
     "name": "stdout",
     "output_type": "stream",
     "text": [
      "[[8 8 8 8]\n",
      " [8 8 8 8]\n",
      " [8 8 8 8]]\n"
     ]
    }
   ],
   "source": [
    "def rempli8(matrice):\n",
    "    matrice[:]= np.full(matrice.shape,8)\n",
    "#shape:The elements of the shape tuple give the lengths of the corresponding array dimensions.\n",
    "rempli8(mat_numpy)\n",
    "print(mat_numpy)"
   ]
  },
  {
   "cell_type": "code",
   "execution_count": null,
   "metadata": {},
   "outputs": [
    {
     "name": "stdout",
     "output_type": "stream",
     "text": [
      "[[8 8 8 8]\n",
      " [8 8 8 8]\n",
      " [8 8 8 8]]\n"
     ]
    }
   ],
   "source": [
    "def rempli8(matrice):\n",
    "    matrice.fill(8)\n",
    "rempli8(mat_numpy)\n",
    "print(mat_numpy)"
   ]
  },
  {
   "attachments": {},
   "cell_type": "markdown",
   "metadata": {
    "editable": true,
    "slideshow": {
     "slide_type": ""
    },
    "tags": []
   },
   "source": [
    "Créez une liste de taille 50 qui ne contient que des 3, en utilisant une compréhension de liste. Créez ensuite une matrice comme une liste de listes dont la première ligne contient des 1, la deuxième des 2 etc.\n",
    "\n",
    "Il y a plusieurs manières de faire, la compréhension n'étant pas la plus efficace (cherchez dans la doc NumPy).\n",
    "\n"
   ]
  },
  {
   "cell_type": "code",
   "execution_count": null,
   "metadata": {
    "editable": true,
    "slideshow": {
     "slide_type": ""
    },
    "tags": []
   },
   "outputs": [
    {
     "name": "stdout",
     "output_type": "stream",
     "text": [
      "[[1 1 1 1]\n",
      " [2 2 2 2]\n",
      " [3 3 3 3]]\n",
      "[[1 1 1 1]\n",
      " [2 2 2 2]\n",
      " [3 3 3 3]]\n"
     ]
    }
   ],
   "source": [
    "liste_3 = [3 for i in range(50)]\n",
    "\n",
    "lignes_range = np.arange(1, 3 + 1).reshape(-1, 1)\n",
    "#créer un tableau [1,2,3], reshape va transformer le tableau en 2 dimensions = une colonne\n",
    "mat2 = lignes_range * np.ones((1, 4), dtype=int)\n",
    "#np.ones : créer un tableau de 1, dont la taille est spécifiée (1 l, 4c), dtype=int : précise la nature \n",
    "#lignes_range * = chaque élément de lignes_ranges est multiplié par chaque élement de np.ones\n",
    "print(mat2)\n",
    "\n",
    "mat = np.array([[i + 1] * 4 for i in range(3)])\n",
    "print(mat)\n",
    "\n",
    "#arrange : Return evenly spaced values within a given interval.\n",
    "#reshape : Gives a new shape to an array without changing its data.\n",
    "#ones : Return a new array of given shape and type, filled with ones.\n",
    "#array = créer un tableau"
   ]
  },
  {
   "cell_type": "markdown",
   "metadata": {
    "editable": true,
    "slideshow": {
     "slide_type": ""
    },
    "tags": []
   },
   "source": [
    "Dernier exercice sur des matrices, créez la matrice identité de taille 50. Essayez de trouver les 3 manières de faire&nbsp;:\n",
    "* avec une double boucle (facile, pas performant)\n",
    "* avec une double compréhension (moins facile, très bon exercice, mais pas forcément performant dans le cas de NumPy)\n",
    "* avec une fonction adaptée de NumPy"
   ]
  },
  {
   "cell_type": "code",
   "execution_count": 40,
   "metadata": {
    "editable": true,
    "slideshow": {
     "slide_type": ""
    },
    "tags": []
   },
   "outputs": [
    {
     "name": "stdout",
     "output_type": "stream",
     "text": [
      "[[1. 0. 0. ... 0. 0. 0.]\n",
      " [0. 1. 0. ... 0. 0. 0.]\n",
      " [0. 0. 1. ... 0. 0. 0.]\n",
      " ...\n",
      " [0. 0. 0. ... 1. 0. 0.]\n",
      " [0. 0. 0. ... 0. 1. 0.]\n",
      " [0. 0. 0. ... 0. 0. 1.]]\n"
     ]
    }
   ],
   "source": [
    "n = 50\n",
    "\n",
    "identite = np.zeros((n,n))\n",
    "for i in range(n):\n",
    "    for j in range(n):\n",
    "        if i == j :\n",
    "            identite[i, j]=1\n",
    "\n",
    "print(identite)"
   ]
  },
  {
   "cell_type": "code",
   "execution_count": 42,
   "metadata": {},
   "outputs": [
    {
     "name": "stdout",
     "output_type": "stream",
     "text": [
      "[[1 0 0 ... 0 0 0]\n",
      " [0 1 0 ... 0 0 0]\n",
      " [0 0 1 ... 0 0 0]\n",
      " ...\n",
      " [0 0 0 ... 1 0 0]\n",
      " [0 0 0 ... 0 1 0]\n",
      " [0 0 0 ... 0 0 1]]\n"
     ]
    }
   ],
   "source": [
    "n = 50\n",
    "\n",
    "identite = np.array([[1 if i == j else 0 for j in range(n)] for i in range(n)])\n",
    "\n",
    "print(identite)"
   ]
  },
  {
   "cell_type": "code",
   "execution_count": null,
   "metadata": {},
   "outputs": [
    {
     "name": "stdout",
     "output_type": "stream",
     "text": [
      "[[1. 0. 0. ... 0. 0. 0.]\n",
      " [0. 1. 0. ... 0. 0. 0.]\n",
      " [0. 0. 1. ... 0. 0. 0.]\n",
      " ...\n",
      " [0. 0. 0. ... 1. 0. 0.]\n",
      " [0. 0. 0. ... 0. 1. 0.]\n",
      " [0. 0. 0. ... 0. 0. 1.]]\n"
     ]
    }
   ],
   "source": [
    "n = 50\n",
    "\n",
    "identite = np.identity(n)\n",
    "#créer directement une matrice identité de taille n x n.\n",
    "print(identite)"
   ]
  },
  {
   "attachments": {},
   "cell_type": "markdown",
   "metadata": {
    "editable": true,
    "slideshow": {
     "slide_type": ""
    },
    "tags": []
   },
   "source": [
    "Bien, on arrive sans trop de problème à manipuler des `numpy array` à 2 dimensions. On va pouvoir passer aux images&nbsp;!\n",
    "\n",
    "## 2. Matrices de Pixels\n",
    "\n",
    "On va importer la librairie PIL pour charger et afficher des images. On importe aussi TkInter, mais uniquement pour l'interface d'ouverture de fichier (pour cette séance...)."
   ]
  },
  {
   "cell_type": "code",
   "execution_count": 5,
   "metadata": {
    "editable": true,
    "slideshow": {
     "slide_type": ""
    },
    "tags": []
   },
   "outputs": [],
   "source": [
    "from PIL import Image"
   ]
  },
  {
   "attachments": {},
   "cell_type": "markdown",
   "metadata": {
    "editable": true,
    "slideshow": {
     "slide_type": ""
    },
    "tags": []
   },
   "source": [
    "On va implémenter deux fonctions qui vont nous simplifier la vie&nbsp;:\n",
    "* La fonction <code class=\"language-python\"><span class=\"ͼv\">charger</span></code> renvoie la matrice représentant l'image stockée dans le fichier nommé `nom_fichier`.\n",
    "* La fonction <code class=\"language-python\"><span class=\"ͼv\">sauver</span></code> permet de stocker la matrice de pixels passée en paramètre dans un fichier de nom `nom_fichier`.\n"
   ]
  },
  {
   "cell_type": "code",
   "execution_count": 3,
   "metadata": {
    "editable": true,
    "slideshow": {
     "slide_type": ""
    },
    "tags": []
   },
   "outputs": [],
   "source": [
    "def sauver(matPix, nom_fichier):\n",
    "    Image.fromarray(matPix).save(nom_fichier)\n",
    "\n",
    "def charger(nom_fichier):\n",
    "    return np.array(Image.open(nom_fichier))"
   ]
  },
  {
   "cell_type": "markdown",
   "metadata": {
    "editable": true,
    "slideshow": {
     "slide_type": ""
    },
    "tags": []
   },
   "source": [
    "Créez une matrice de pixels de taille 100$\\times$100 ainsi qu'une fonction qui définit les pixels de la moitié gauche de l'image en vert, et les pixels de moitié droite en bleu. Vous pouvez&nbsp;:\n",
    " * utiliser une double boucle imbriquée\n",
    " * utiliser le slicing\n",
    " * utiliser l'[affectation conditionnelle](https://www.nickmccullum.com/advanced-python/numpy-indexing-assignment/#conditional-selection-using-numpy-arrays) en générant les indices avec la fonction [`np.indices`](https://numpy.org/doc/stable/reference/generated/numpy.indices.html)\n",
    "\n",
    "Pour visualiser l'image obtenue, vous utiliserez la fonction <code class=\"language-python\"><span class=\"ͼv\">save</span></code> et vous ouvrirez le fichier ainsi généré."
   ]
  },
  {
   "cell_type": "code",
   "execution_count": 50,
   "metadata": {
    "editable": true,
    "slideshow": {
     "slide_type": ""
    },
    "tags": []
   },
   "outputs": [],
   "source": [
    "def remplit_vert_bleu(matrice):\n",
    "    lignes, colonnes, _ = matrice.shape\n",
    "    millieu = colonnes // 2\n",
    "    for i in range(lignes):\n",
    "        for j in range(colonnes):\n",
    "            if j < millieu:\n",
    "                matrice[i,j] = [0,255,0] #vert\n",
    "            else:\n",
    "                matrice[i,j] = [0,0,255] #Bleu\n",
    "\n",
    "matVB = np.empty((100, 100, 3), dtype=np.uint8)\n",
    "remplit_vert_bleu(matVB)\n",
    "sauver(matVB, \"vertbleu.png\")"
   ]
  },
  {
   "cell_type": "code",
   "execution_count": 52,
   "metadata": {},
   "outputs": [],
   "source": [
    "def remplit_vert_bleu(matrice):\n",
    "    millieu = matrice.shape[1]//2\n",
    "    matrice[:,:millieu] = [0,255,0]\n",
    "    matrice[:,millieu:] = [0,0,255]\n",
    "\n",
    "matVB = np.empty((100, 100, 3), dtype=np.uint8)\n",
    "remplit_vert_bleu(matVB)\n",
    "sauver(matVB, \"vertbleu1.png\")"
   ]
  },
  {
   "cell_type": "code",
   "execution_count": 53,
   "metadata": {},
   "outputs": [
    {
     "ename": "IndexError",
     "evalue": "boolean index did not match indexed array along dimension 1; dimension is 100 but corresponding boolean dimension is 1",
     "output_type": "error",
     "traceback": [
      "\u001b[1;31m---------------------------------------------------------------------------\u001b[0m",
      "\u001b[1;31mIndexError\u001b[0m                                Traceback (most recent call last)",
      "Cell \u001b[1;32mIn[53], line 10\u001b[0m\n\u001b[0;32m      7\u001b[0m     matrice[:, indices_colonnes \u001b[38;5;241m>\u001b[39m\u001b[38;5;241m=\u001b[39m colonnes \u001b[38;5;241m/\u001b[39m\u001b[38;5;241m/\u001b[39m \u001b[38;5;241m2\u001b[39m] \u001b[38;5;241m=\u001b[39m [\u001b[38;5;241m0\u001b[39m, \u001b[38;5;241m0\u001b[39m, \u001b[38;5;241m255\u001b[39m]\n\u001b[0;32m      9\u001b[0m matVB \u001b[38;5;241m=\u001b[39m np\u001b[38;5;241m.\u001b[39mempty((\u001b[38;5;241m100\u001b[39m, \u001b[38;5;241m100\u001b[39m, \u001b[38;5;241m3\u001b[39m), dtype\u001b[38;5;241m=\u001b[39mnp\u001b[38;5;241m.\u001b[39muint8)\n\u001b[1;32m---> 10\u001b[0m remplit_vert_bleu(matVB)\n\u001b[0;32m     11\u001b[0m sauver(matVB, \u001b[38;5;124m\"\u001b[39m\u001b[38;5;124mvertbleu2.png\u001b[39m\u001b[38;5;124m\"\u001b[39m)\n",
      "Cell \u001b[1;32mIn[53], line 5\u001b[0m, in \u001b[0;36mremplit_vert_bleu\u001b[1;34m(matrice)\u001b[0m\n\u001b[0;32m      3\u001b[0m     indices_colonnes \u001b[38;5;241m=\u001b[39m np\u001b[38;5;241m.\u001b[39mindices((\u001b[38;5;241m1\u001b[39m, colonnes))[\u001b[38;5;241m1\u001b[39m]\n\u001b[0;32m      4\u001b[0m \u001b[38;5;66;03m#crée un tableau de tableaux, contient les indices 1 et le millieu de la matrice\u001b[39;00m\n\u001b[1;32m----> 5\u001b[0m     matrice[:, indices_colonnes \u001b[38;5;241m<\u001b[39m colonnes \u001b[38;5;241m/\u001b[39m\u001b[38;5;241m/\u001b[39m \u001b[38;5;241m2\u001b[39m] \u001b[38;5;241m=\u001b[39m [\u001b[38;5;241m0\u001b[39m, \u001b[38;5;241m255\u001b[39m, \u001b[38;5;241m0\u001b[39m]  \u001b[38;5;66;03m# Vert\u001b[39;00m\n\u001b[0;32m      6\u001b[0m \u001b[38;5;66;03m#sélectionne la moitié gauche\u001b[39;00m\n\u001b[0;32m      7\u001b[0m     matrice[:, indices_colonnes \u001b[38;5;241m>\u001b[39m\u001b[38;5;241m=\u001b[39m colonnes \u001b[38;5;241m/\u001b[39m\u001b[38;5;241m/\u001b[39m \u001b[38;5;241m2\u001b[39m] \u001b[38;5;241m=\u001b[39m [\u001b[38;5;241m0\u001b[39m, \u001b[38;5;241m0\u001b[39m, \u001b[38;5;241m255\u001b[39m]\n",
      "\u001b[1;31mIndexError\u001b[0m: boolean index did not match indexed array along dimension 1; dimension is 100 but corresponding boolean dimension is 1"
     ]
    }
   ],
   "source": [
    "def remplit_vert_bleu(matrice):\n",
    "    colonnes = matrice.shape[1]\n",
    "    indices_colonnes = np.indices((1, colonnes))[1]\n",
    "#crée un tableau de tableaux, contient les indices 1 et le millieu de la matrice\n",
    "    matrice[:, indices_colonnes < colonnes // 2] = [0, 255, 0]  # Vert\n",
    "#sélectionne la moitié gauche\n",
    "    matrice[:, indices_colonnes >= colonnes // 2] = [0, 0, 255]\n",
    "\n",
    "matVB = np.empty((100, 100, 3), dtype=np.uint8)\n",
    "remplit_vert_bleu(matVB)\n",
    "sauver(matVB, \"vertbleu2.png\")"
   ]
  },
  {
   "attachments": {},
   "cell_type": "markdown",
   "metadata": {
    "editable": true,
    "slideshow": {
     "slide_type": ""
    },
    "tags": []
   },
   "source": [
    "En vous servant de la fonction <code class=\"language-python\"><span class=\"ͼv\">charger</span></code>, calculez le nombre de pixels dans une image `.bmp` de votre choix, puis calculez la taille de l'image en octets. Comparez avec la taille donnée par votre machine."
   ]
  },
  {
   "cell_type": "code",
   "execution_count": null,
   "metadata": {
    "editable": true,
    "slideshow": {
     "slide_type": ""
    },
    "tags": []
   },
   "outputs": [
    {
     "name": "stdout",
     "output_type": "stream",
     "text": [
      "Nombre de pixel : 40000 Taille de l'image : 120000 octets\n"
     ]
    }
   ],
   "source": [
    "matrice = charger(\"test.bmp\")\n",
    "print(\n",
    "    f\"Nombre de pixel : {matrice.shape[0]*matrice.shape[1]}\",\n",
    "    f\"Taille de l'image : {(matrice.shape[0]*matrice.shape[1])*matrice.shape[2]} octets\"\n",
    ")\n",
    "\n",
    "#matrice.shape[1] = hauteur, [0] = largeur, [2] = nombre de canaux"
   ]
  },
  {
   "attachments": {},
   "cell_type": "markdown",
   "metadata": {
    "editable": true,
    "slideshow": {
     "slide_type": ""
    },
    "tags": []
   },
   "source": [
    "Modifiez l'image que vous avez créé précédemment en ajoutant un rectangle noir au milieu de l'image, qui occupera 1/3 de l'espace. Là aussi, vous pouvez utiliser une double boucle ou le slicing.\n",
    "\n",
    "Pour rappel, si vous voulez diviser deux entiers et ne récupérer que la partie entière du résultat, vous pouvez utiliser l'instruction <span class=\"ͼ10\">//</span>."
   ]
  },
  {
   "cell_type": "code",
   "execution_count": 38,
   "metadata": {
    "editable": true,
    "slideshow": {
     "slide_type": ""
    },
    "tags": []
   },
   "outputs": [],
   "source": [
    "matrice = charger(\"vertbleu.png\")\n",
    "\n",
    "def ajouteCarreNoir(mat):\n",
    "    nblig = mat.shape[0]\n",
    "    nbcol = mat.shape[1]\n",
    "    tiersl = nbcol//3\n",
    "    tiersh = nblig//3\n",
    "    for i in range(nblig):\n",
    "        for j in range(nbcol):\n",
    "            if j > tiersl and j < tiersl*2:\n",
    "                matrice[i,j] = [0,0,0]\n",
    "#avec le slicing :  nblig = mat.shape[0]\n",
    "#                   nbcol = mat.shape[1]\n",
    "#                   mat[:, nbcol//3:2*(nblig//3), :]=[0,0,0]\n",
    "\n",
    "ajouteCarreNoir(matrice)\n",
    "sauver(matrice,\"vertbleumodif.png\")"
   ]
  },
  {
   "cell_type": "code",
   "execution_count": 36,
   "metadata": {},
   "outputs": [],
   "source": [
    "matrice = charger(\"vertbleu.png\")\n",
    "\n",
    "def ajouteCarreNoir(mat):\n",
    "    nblig = mat.shape[0]\n",
    "    nbcol = mat.shape[1]\n",
    "    mat[nbcol//3:2*(nblig//3), nbcol//3:2*(nblig//3), :]=[0,0,0]\n",
    "    \n",
    "ajouteCarreNoir(matrice)\n",
    "sauver(matrice,\"vertbleumodif1.png\")"
   ]
  },
  {
   "cell_type": "markdown",
   "metadata": {
    "editable": true,
    "slideshow": {
     "slide_type": ""
    },
    "tags": []
   },
   "source": [
    "De la même manière, ajoutez un filtre qui ne conserve que la composante verte d'une image (une fois encore, double boucle ou slicing, au choix... mais si vous ne l'avez jamais fait, tentez le slicing !).\n",
    "\n",
    "Pour le slicing, sachez que les numpy array permettent de spécifier certains indices de dimensions explicitement. Par exemple, <code class=\"language-python\">tableau<span class=\"ͼ14\">[[</span><span class=\"ͼu\">3</span><span class=\"ͼ19\">,</span><span class=\"ͼu\">5</span><span class=\"ͼ19\">,</span><span class=\"ͼu\">7</span><span class=\"ͼ14\">]]</span> <span class=\"ͼ10\">=</span> <span class=\"ͼu\">1</span></code> met la valeur `1` aux indices `3`, `5`, et `7` de l'array (notez qu'au lieu d'un indice, on a passé une _liste_ d'indices, c'est une notation spécifique aux numpy array, ça ne marche pas sur les conteneurs standards Python)."
   ]
  },
  {
   "cell_type": "code",
   "execution_count": null,
   "metadata": {
    "editable": true,
    "slideshow": {
     "slide_type": ""
    },
    "tags": []
   },
   "outputs": [],
   "source": [
    "matrice = charger(\"cheetah.png\")\n",
    "\n",
    "def filtre_vert(mat):\n",
    "    mat[:,:,[0,2]] = 0\n",
    "    #selectionne toutes les lignes, colonnes, et les composantes rouges (id 0) et bleues (id 2)\n",
    "\n",
    "filtre_vert(matrice)\n",
    "sauver(matrice, \"filtre.png\")"
   ]
  },
  {
   "cell_type": "markdown",
   "metadata": {},
   "source": [
    "Créez maintenant une méthode qui permet d'afficher le négatif de l'image (on inverse la luminosité). Petit indice &nbsp;: Si une composante était très foncée (par exemple $2$), il faudrait qu'elle devienne très claire ($253$ pour reprendre le même exemple).\n",
    "\n",
    "Une fois de plus, la double boucle est une solution, mais pas la seule. Les plus à l'aise en Python pourraient être tentés de faire une double compréhension. C'est faisable mais pas recommandé&nbsp;:\n",
    "* Cette approche créerait une nouvelle matrice au lieu de modifier l'originale, qu'il faudrait donc réaffecter à la variable (ou à une autre)\n",
    "* L'approche par slicing, là encore possible, sera nettement plus simple à l'écriture, et beaucoup plus rapide à l'exécution."
   ]
  },
  {
   "cell_type": "code",
   "execution_count": 66,
   "metadata": {},
   "outputs": [],
   "source": [
    "matrice = charger(\"cheetah.png\")\n",
    "\n",
    "def negatif(mat):   \n",
    "    mat_copie = mat.copy()\n",
    "    mat_copie[:,:,:] = 255 - mat_copie[:,:,:]\n",
    "    return mat_copie\n",
    "\n",
    "matrice_negatif = negatif(matrice)\n",
    "sauver(matrice_negatif,\"negatif.png\")"
   ]
  },
  {
   "cell_type": "markdown",
   "metadata": {},
   "source": [
    "Maintenant, créez une méthode qui permet d'afficher le symétrique de l'image par rapport à la droite verticale en son milieu. Là, on peut de nouveau utiliser 3 approches&nbsp;:\n",
    "* La double boucle&nbsp;: il faudra vraisemblablement créer un array vide et le remplir avec les données de la matrice initiale prises dans le sens inverse\n",
    "* Le slincing&nbsp;: cette solution est particulièrement astucieuse et élégante. Un indice&nbsp;: ça joue sur le _pas_ du slicing (le troisième argument) et la possibilité de spécifier un pas _négatif_...\n",
    "* La double compréhension&nbsp;: utilise la même astuce que le slicing, mais est affublée des mêmes défauts que pour la question précédente.\n",
    "* Une fonction spécifique de NumPy (on vous laisse chercher...)\n",
    "\n",
    "Ici, la version avec slicing est fortement recommandée. D'ailleurs, si vous arrivez à l'implémenter, vous pouvez appliquer le même principe pour faire très simplement une rotation de 180° à l'image."
   ]
  },
  {
   "cell_type": "code",
   "execution_count": 70,
   "metadata": {},
   "outputs": [],
   "source": [
    "matrice = charger(\"cheetah.png\")\n",
    "\n",
    "def symetrique(mat):   \n",
    "    return mat[:, ::-1, :]\n",
    "#inverse l'odre des colonnes, créeant le symétrique\n",
    "sauver(symetrique(matrice), \"sym.png\")"
   ]
  },
  {
   "cell_type": "code",
   "execution_count": null,
   "metadata": {},
   "outputs": [],
   "source": [
    "matrice = charger(\"cheetah.png\")\n",
    "\n",
    "def symetrique(mat):   \n",
    "    return np.fliplr(mat)\n",
    "\n",
    "sauver(symetrique(matrice), \"sym.png\")"
   ]
  },
  {
   "cell_type": "code",
   "execution_count": 68,
   "metadata": {},
   "outputs": [],
   "source": [
    "matrice = charger(\"cheetah.png\")\n",
    "\n",
    "def symetrique(mat):   \n",
    "    return mat[::-1, ::-1, :]\n",
    "\n",
    "sauver(symetrique(matrice), \"sym1.png\")"
   ]
  },
  {
   "cell_type": "markdown",
   "metadata": {
    "editable": true,
    "slideshow": {
     "slide_type": ""
    },
    "tags": []
   },
   "source": [
    "Maintenant, on va faire varier la clarté de l'image, en lui appliquant un facteur. Par exemple, $1,5$ éclaircira l'image de 50%. Comment faire&nbsp;?\n",
    "\n",
    "<em>multiplier les composantes RGB par un facteur : f>1 = plus claire\n",
    "                                                    f(<)1 = plus sombre\n",
    "</em>\n",
    "\n",
    "On va changer de fichier, histoire de voir un peu mieux les effets de notre traitement. Et on va arrêter de sauver à chaque fois le fichier. À partir de maintenant, on va juste afficher la modification appliquée avec Pillow."
   ]
  },
  {
   "cell_type": "code",
   "execution_count": 9,
   "metadata": {
    "editable": true,
    "slideshow": {
     "slide_type": ""
    },
    "tags": []
   },
   "outputs": [],
   "source": [
    "matrice = charger(\"paysage.jpg\")\n",
    "\n",
    "def clarte(facteur):\n",
    "    nouvelle_matrice = matrice.copy()\n",
    "    nouvelle_matrice = np.clip(nouvelle_matrice * facteur, 0, 255).astype(np.uint8) \n",
    "    #.astype() permet de convertir les éléments d'un tableau d'un type de données à un autre. \n",
    "    #Par exemple, convertir des nombres flottants en entiers, des entiers en chaînes de caractères, etc.\n",
    "    # np.uint8 : représente des entiers non signés de 8 bits\n",
    "    \n",
    "    nouvelle_image = Image.fromarray(nouvelle_matrice)\n",
    "    return nouvelle_image\n",
    "\n",
    "facteur = 1.5  # Augmente la luminosité de 50%\n",
    "\n",
    "resultat = clarte(facteur)\n",
    "resultat.show()  # Affiche l'image résultante\n"
   ]
  },
  {
   "cell_type": "markdown",
   "metadata": {
    "editable": true,
    "slideshow": {
     "slide_type": ""
    },
    "tags": []
   },
   "source": [
    "Ça a l'air d'aller. Mais on a tout de même perdu certains détails (regardez les nuages, notamment ceux à la base de la montagne dans le fond). À votre avis, pourquoi&nbsp;?\n",
    "\n",
    "<em>À COMPLÉTER</em>\n"
   ]
  },
  {
   "cell_type": "markdown",
   "metadata": {
    "editable": true,
    "slideshow": {
     "slide_type": ""
    },
    "tags": []
   },
   "source": [
    "## 3. Traitement avancé d'images\n",
    "\n",
    "Pour remédier au problème qu'on a eu, on va appliquer la méthode de _correction gamma_. La correction gamma utilise la fonction suivante :\n",
    "$$ V_{out} = V_{in}^{\\gamma} $$\n",
    "avec&nbsp;:\n",
    "* $V_{in}$ la valeur d'entrée du pixel\n",
    "* $V_{out}$ la valeur de sortie\n",
    " * $\\gamma$ le facteur de correction.\n",
    "\n",
    "Mais attention, ça ne s'applique pas directement sur une matrice de pixels&nbsp;! Réfléchissez, le but est d'éviter le dépassement de capacité de la représentation d'un canal. Ce qui veut dire que, si on applique la correction gamma sur une image en 24 bits, les pixels de sortie devront avoir des valeurs dans $[0, 255]$ comme les valeurs de départ. Si on applique la correction gamma tel quel, ça ne marche pas (parce que la seule valeur de $\\gamma$ pour laquelle on ne dépasse pas 255, c'est 1, c'est-à-dire une absence de correction). Pour corriger ce défaut, on va _normaliser_ les valeurs de pixels, c'est-à-dire les ramener à une plage de valeur plus adaptée. À votre avis, quelles sont les valeurs de $V_{in}$ pour lesquelles l'application de la fonction gamma ne provoquent pas de dépassent à droite&nbsp;?\n",
    "\n",
    "<em> doit être entre 0 et 1 </em>\n",
    "\n",
    "Grace à ça, on va éviter la saturation numérique &nbsp;! Après transformation, il faudra juste renormaliser ces valeurs au nombre de bits utilisés pour représenter un canal.\n",
    "\n",
    "Vous noterez que l'ajustement est non linéaire, l'exposant $\\gamma$ affecte différemment les valeurs selon leur intensité. Pour les valeurs proches de 0 ou 1, la fonction gamma a un effet moins prononcé&nbsp:\n",
    "* Quand $V_{in}$ approche 0 : $V_{out}$ tend aussi vers 0, mais plus lentement.\n",
    "* Quand $V_{in}$ approche 1 : $V_{out}$ tend aussi vers 1, mais plus lentement.\n",
    "\n",
    "Et si vous regarder le comportement de cette fonction, vous verrez que pour $\\gamma < 1$, l'effet est plus prononcé sur les valeurs sombres, tandis que pour $\\gamma > 1$, l'effet est plus marqué sur les valeurs claires. C'est donc particulièrement adapté à l'ajustement de luminosité&nbsp;! \n",
    "<center><img width=\"50%\" alt=\"Gamma_correction\" src=\"attachment:b42ddf3e-c40a-43b9-bc4d-2ddb9a47b387.png\"></center>\n",
    "\n",
    "Comment pourrait-on calculer ce $\\gamma$ à partir de notre facteur d'éclaircissement/assombrissement&nbsp;?\n",
    "\n",
    "<em>$V_{out}$=fX$V_{in}$ et  $V_{out}$=$V_{in}$**$\\gamma$ donc f = 1/$\\gamma$\n",
    "gamma pas linéaire \n",
    "</em>\n",
    "\n",
    "On peut donc utiliser cette méthode pour modifier la luminosité, en quatre étapes :\n",
    "1) Calcul du $\\gamma$ à partir du facteur de luminosité\n",
    "2) Normalisation : $\\frac{V_{in}}{255}$\n",
    "3) Application de la puissance gamma : $\\left(\\frac{V_{in}}{255}\\right)^{\\gamma}$\n",
    "4) Remise à l'échelle : $255 \\times \\left(\\frac{V_{in}}{255}\\right)^{\\gamma}$\n",
    "\n",
    "Essayons pour voir si ça marche mieux. Par contre, faites attention aux types, vous avez des entiers, mais vous allez leur appliquer des divisions, et contrairement aux types classiques de Python, les array NumPy ne se convertissent pas tous seuls à la précision nécessaire pour faire un calcul. Il faudra donc gérer les conversions vous-mêmes. Ceci dit, c'est très facile avec [<code class=\"language-python\">np.<span class=\"ͼz\">astype</span></code>](https://numpy.org/doc/stable//reference/generated/numpy.astype.html).\n",
    "\n",
    "2**(f) pour deduire le gamma"
   ]
  },
  {
   "cell_type": "code",
   "execution_count": null,
   "metadata": {
    "editable": true,
    "slideshow": {
     "slide_type": ""
    },
    "tags": []
   },
   "outputs": [],
   "source": [
    "matrice = charger(\"paysage.jpg\")\n",
    "\n",
    "def correction_gamma(matrice, facteur):\n",
    "    nouvelle_matrice = matrice.copy()\n",
    "    gamma = 1/facteur\n",
    "    matrice_gamma = (((nouvelle_matrice / 255) ** gamma)*255).astype(np.uint8) #pas //\n",
    "    img_ajustee = Image.fromarray(matrice_gamma)\n",
    "    \n",
    "    return img_ajustee\n",
    "\n",
    "facteur = 1.5 # Augmente la luminosité\n",
    "resultat = correction_gamma(matrice, facteur)\n",
    "resultat.show()\n",
    "#numpy converti en float\n",
    "#255 max pour 8 bits, on normalise par la valeur max qui depend selon le nombre de bits"
   ]
  },
  {
   "cell_type": "markdown",
   "metadata": {
    "editable": true,
    "slideshow": {
     "slide_type": ""
    },
    "tags": []
   },
   "source": [
    "Qu'en pensez-vous&nbsp;? Est-ce mieux que l'ajustement linéaire&nbsp;?\n",
    " \n"
   ]
  },
  {
   "cell_type": "markdown",
   "metadata": {
    "editable": true,
    "slideshow": {
     "slide_type": ""
    },
    "tags": []
   },
   "source": [
    "Voilà&nbsp;! On a déjà implémenté un certain nombre d'opérations de manipulation d'images. Et on a surtout vu à la fin que les traitements avancés utilisent en général une approche assez mathématique des choses...\n",
    "\n",
    "Maintenant, la suite logique, ce serait pouvoir appliquer ces traitements directement depuis une interface TkInter..."
   ]
  }
 ],
 "metadata": {
  "kernelspec": {
   "display_name": "l1-python",
   "language": "python",
   "name": "python3"
  },
  "language_info": {
   "codemirror_mode": {
    "name": "ipython",
    "version": 3
   },
   "file_extension": ".py",
   "mimetype": "text/x-python",
   "name": "python",
   "nbconvert_exporter": "python",
   "pygments_lexer": "ipython3",
   "version": "3.12.5"
  },
  "toc": {
   "base_numbering": 3
  }
 },
 "nbformat": 4,
 "nbformat_minor": 4
}
