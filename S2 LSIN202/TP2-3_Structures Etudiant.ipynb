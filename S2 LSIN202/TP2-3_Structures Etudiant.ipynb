{
 "cells": [
  {
   "cell_type": "markdown",
   "id": "9d061080-c743-4de5-82e9-569cf5261b56",
   "metadata": {},
   "source": [
    "<img style=\"position: absolute;right: 0;\" src=\"data:image/svg+xml,%3Csvg%20height%3D%2295.834%22%20width%3D%2289.004%22%20xml%3Aspace%3D%22preserve%22%20xmlns%3D%22http%3A%2F%2Fwww.w3.org%2F2000%2Fsvg%22%3E%3Cpath%20style%3D%22fill%3A%230092bd%3Bfill-opacity%3A1%3Bfill-rule%3Anonzero%3Bstroke%3Anone%3Bstroke-width%3A.721541%22%20d%3D%22m39.987%200%204.506%2056.336L48.986%200ZM0%2041.473c7.22%205.11%2030.7%2021.33%2030.7%2021.33L0%2032.02Zm0-11.61%2032.69%2031.06L0%2016.767ZM29.056%200l12.985%2056.536L38.711%200Zm10.6%2057.1L27.769%200H6.177c-3.4%200-6.17%202.9-6.17%206.475v8.1l34.915%2044.747L6.458%206.202c.354-.212.688-.426%201.038-.637l29.558%2052.46L16.56%201.037c.359-.153.73-.314%201.1-.46zM0%2071.853c.422.088%201.091.171%202.013.171l24.83.066C19.369%2070.775%202.508%2068.863%200%2068.42Zm0-5.447c3.731.656%2027.2%203.62%2027.2%203.62S4.3%2062.468%200%2061.001zm0-15.54c6.295%203.108%2029.304%2014.059%2029.304%2014.059S6.777%2048.527%200%2043.546zm0%208.139c3.968%201.254%2028.244%208.561%2028.244%208.561S6.312%2056.218%200%2052.914zm86.24%2013.332c1.567%200%202.415-.237%202.764-.4V68.42c-2.588.466-19.182%202.52-26.645%203.854zM82.824%200h-21.59L49.692%2056.966%2071.312.573c.006%200%20.012.01.016.015l.008-.015c.37.146.749.312%201.123.463l-20.155%2057.21%2029.174-52.68c.005.013.009.013.017.018l.013-.018c.34.219.68.425%201.04.636l-27.79%2053.337%2034.245-44.987V6.473C89.003%202.897%2086.226%200%2082.824%200m-26.14%2061.16%2032.318-31.326V16.772Zm32.319-19.705V32.02l-30.64%2031.05c1.523-1.081%2023.69-16.692%2030.64-21.615M50.294%200l-3.01%2056.388L60.234%200Zm38.709%2066.406v-5.41c-4.247%201.447-26.813%208.905-27.178%209.026.87-.129%2023.62-2.998%2027.178-3.616m0-15.558v-7.302c-6.614%204.845-28.127%2020.823-29.264%2021.673%201.365-.679%2023.203-11.375%2029.264-14.37m0%208.149v-6.084c-6.209%203.252-27.195%2014.27-27.9%2014.64%201.215-.383%2024.118-7.365%2027.9-8.556%22%2F%3E%3Cpath%20style%3D%22fill%3A%2380ba27%3Bfill-opacity%3A1%3Bfill-rule%3Anonzero%3Bstroke%3Anone%3Bstroke-width%3A.721541%22%20d%3D%22M88.544%2074.062c-.455.13-1.204.249-2.304.249l-41.284.015L.87%2074.192a6.236%206.236%200%200%201-.842-.118v5.553c0%204.546%203.081%206.827%207.855%208.234%200%200%2032.092%207.973%2037.04%207.973%204.968%200%2036.218-7.973%2036.218-7.973%204.121-1.236%207.863-3.688%207.863-8.234v-5.718c-.106.047-.254.1-.46.153%22%2F%3E%3C%2Fsvg%3E\" alt=\"UVSQ Logo\"/>\n",
    "<h1><center>IN202 – Représentation des données</center></h1>\n",
    "<h2><center>TD 2 – Structures de données Python</center></h2>\n",
    "\n"
   ]
  },
  {
   "cell_type": "markdown",
   "id": "cd7651c3-639c-47d1-becc-5e6b8cb9797a",
   "metadata": {},
   "source": [
    "# Introduction\n",
    "\n",
    "Pour prendre en main les différentes structures de données Python et apprendre à les utiliser, on va implémenter un annuaire téléphonique. Voici les contraintes&nbsp;:\n",
    "* On stocke Nom, Prénom, et Numéro de téléphone, chacun sous forme de chaine de caractères\n",
    "* On veut pouvoir faire une recherche par Nom, Prénom, ou les deux\n",
    "* On veut pouvoir vérifier si un numéro est sur liste rouge. Dans ce cas, on n'a pas besoin de l'identité de la personne, juste du numéro\n",
    "\n",
    "Avant tout, on va avoir besoin de générer beaucoup de données nominatives fictives. Pour ça, on va utiliser le package `Faker`. Installez-le en exécutant la cellule du dessous (une fois le pakage installé sur votre ordinateur, vous n'aurez plus jamais besoin d'exécuter cette commande). Patientez le temps que le package soit téléchargé et installé, ça peut prendre quelques dizaines de secondes."
   ]
  },
  {
   "cell_type": "code",
   "execution_count": 2,
   "id": "d8a55c91-87b0-486e-aff1-5179126b81c6",
   "metadata": {},
   "outputs": [
    {
     "name": "stdout",
     "output_type": "stream",
     "text": [
      "Collecting fakerNote: you may need to restart the kernel to use updated packages.\n",
      "\n",
      "  Downloading Faker-36.1.1-py3-none-any.whl.metadata (15 kB)\n",
      "Collecting tzdata (from faker)\n",
      "  Downloading tzdata-2025.1-py2.py3-none-any.whl.metadata (1.4 kB)\n",
      "Downloading Faker-36.1.1-py3-none-any.whl (1.9 MB)\n",
      "   ---------------------------------------- 0.0/1.9 MB ? eta -:--:--\n",
      "   ---------------------------------------- 1.9/1.9 MB 13.2 MB/s eta 0:00:00\n",
      "Downloading tzdata-2025.1-py2.py3-none-any.whl (346 kB)\n",
      "Installing collected packages: tzdata, faker\n",
      "Successfully installed faker-36.1.1 tzdata-2025.1\n"
     ]
    },
    {
     "name": "stderr",
     "output_type": "stream",
     "text": [
      "  WARNING: The script faker.exe is installed in 'c:\\Users\\lauraadao\\miniconda3\\envs\\l1-python\\Scripts' which is not on PATH.\n",
      "  Consider adding this directory to PATH or, if you prefer to suppress this warning, use --no-warn-script-location.\n"
     ]
    }
   ],
   "source": [
    "%pip install faker"
   ]
  },
  {
   "cell_type": "markdown",
   "id": "e389ac32-5921-4324-9c95-8183aef1a072",
   "metadata": {},
   "source": [
    "# 1. Annuaire téléphonique\n",
    "\n",
    "Maintenant, voyons comment on peut utiliser ce package. Ce qui nous intéresse, c'est de générer des noms, prénoms, et numéros de téléphone. Rien de plus simple&nbsp;"
   ]
  },
  {
   "cell_type": "code",
   "execution_count": 11,
   "id": "1a429f57-c99e-4f8f-b6fa-67fe736cdf9d",
   "metadata": {},
   "outputs": [
    {
     "name": "stdout",
     "output_type": "stream",
     "text": [
      "Pages Élise +33 (0)4 88 83 77 67\n"
     ]
    }
   ],
   "source": [
    "# Importation du package\n",
    "from faker import Faker\n",
    "\n",
    "# On configure Faker pour utiliser des noms et numéros de type français\n",
    "fake = Faker(['fr_FR'])\n",
    "\n",
    "# On génère un ensemble de données pour une personne\n",
    "print(fake.last_name(), fake.first_name(), fake.phone_number())"
   ]
  },
  {
   "cell_type": "markdown",
   "id": "07758d7c-ac50-458e-a4cf-067f2aa1a931",
   "metadata": {},
   "source": [
    "Mais ce qu'on voudrait faire, c'est stocker une identité. On peut le faire dans une liste, ou un tuple. Quelle est la limitation du tuple dans ce cas ?\n",
    "\n",
    "<em>Le tuple est immuable, une fois crée on ne peut modifier son contenu, contrairement à la liste.</em>\n"
   ]
  },
  {
   "cell_type": "code",
   "execution_count": 7,
   "id": "e1afa37b-d076-4239-9017-8650b996e6c1",
   "metadata": {},
   "outputs": [
    {
     "name": "stdout",
     "output_type": "stream",
     "text": [
      "[('Green', 'Aaron', '937.348.1297x83515')]\n"
     ]
    }
   ],
   "source": [
    "identite = [(fake.last_name(), fake.first_name(), fake.phone_number())]\n",
    "print(identite)"
   ]
  },
  {
   "cell_type": "markdown",
   "id": "7c497804-dee7-431d-8c94-d4d679352ab3",
   "metadata": {},
   "source": [
    "Bien. Mais ce qu'on veut, c'est stocker de nombreuses identités dans une structure. Et on veut pouvoir en ajouter, en retirer, voire en modifier. Cela exclut donc quelle structure, avant même de réfléchir à l'organisation des données&nbsp;?\n",
    "\n",
    "<em>Cela exclue les tuples.</em>\n",
    "\n",
    "Donc, quelle est la solution la plus simple à notre portée&nbsp;?\n",
    "\n",
    "<em>Utiliser une liste.</em>\n",
    "\n",
    "Allons-y, créons une structure contenant 4 identités."
   ]
  },
  {
   "cell_type": "code",
   "execution_count": 12,
   "id": "4267e3ec-6184-48b0-aecf-40ad0b37a042",
   "metadata": {},
   "outputs": [
    {
     "name": "stdout",
     "output_type": "stream",
     "text": [
      "[{'identité': {'nom': 'Waters', 'prénom': 'Patrick', 'numéro': '(420)388-1790x05696'}}, {'identité': {'nom': 'Price', 'prénom': 'Jillian', 'numéro': '928-970-9133x142'}}, {'identité': {'nom': 'Hale', 'prénom': 'Nicholas', 'numéro': '001-378-862-6688x977'}}, {'identité': {'nom': 'Johnson', 'prénom': 'Susan', 'numéro': '001-432-210-3251x48249'}}]\n"
     ]
    }
   ],
   "source": [
    "annuaire = []\n",
    "#une boucle pour générer différentes identités\n",
    "for _ in range(4):\n",
    "    annuaire.append({\n",
    "        \"identité\":{\n",
    "        \"nom\":fake.last_name(),\n",
    "        \"prénom\":fake.first_name(),\n",
    "        \"numéro\":fake.phone_number(),\n",
    "   }})\n",
    "print(annuaire)"
   ]
  },
  {
   "cell_type": "code",
   "execution_count": 10,
   "id": "768d0a08",
   "metadata": {},
   "outputs": [
    {
     "ename": "NameError",
     "evalue": "name 'fake' is not defined",
     "output_type": "error",
     "traceback": [
      "\u001b[1;31m---------------------------------------------------------------------------\u001b[0m",
      "\u001b[1;31mNameError\u001b[0m                                 Traceback (most recent call last)",
      "Cell \u001b[1;32mIn[10], line 2\u001b[0m\n\u001b[0;32m      1\u001b[0m annuaire \u001b[38;5;241m=\u001b[39m [\n\u001b[1;32m----> 2\u001b[0m     [fake\u001b[38;5;241m.\u001b[39mlast_name(), fake\u001b[38;5;241m.\u001b[39mfirst_name(), fake\u001b[38;5;241m.\u001b[39mphone_number()],\n\u001b[0;32m      3\u001b[0m     [fake\u001b[38;5;241m.\u001b[39mlast_name(), fake\u001b[38;5;241m.\u001b[39mfirst_name(), fake\u001b[38;5;241m.\u001b[39mphone_number()],\n\u001b[0;32m      4\u001b[0m     [fake\u001b[38;5;241m.\u001b[39mlast_name(), fake\u001b[38;5;241m.\u001b[39mfirst_name(), fake\u001b[38;5;241m.\u001b[39mphone_number()],\n\u001b[0;32m      5\u001b[0m     [fake\u001b[38;5;241m.\u001b[39mlast_name(), fake\u001b[38;5;241m.\u001b[39mfirst_name(), fake\u001b[38;5;241m.\u001b[39mphone_number()]\n\u001b[0;32m      6\u001b[0m ]\n\u001b[0;32m      7\u001b[0m \u001b[38;5;28mprint\u001b[39m(annuaire)\n",
      "\u001b[1;31mNameError\u001b[0m: name 'fake' is not defined"
     ]
    }
   ],
   "source": [
    "annuaire = [\n",
    "    [fake.last_name(), fake.first_name(), fake.phone_number()],\n",
    "    [fake.last_name(), fake.first_name(), fake.phone_number()],\n",
    "    [fake.last_name(), fake.first_name(), fake.phone_number()],\n",
    "    [fake.last_name(), fake.first_name(), fake.phone_number()]\n",
    "]\n",
    "print(annuaire)"
   ]
  },
  {
   "cell_type": "markdown",
   "id": "01bfd0dc-7bbb-4cdd-87a2-effa11064a4e",
   "metadata": {},
   "source": [
    "Bon, mais si on veut générer un annuaire d'une taille réaliste&nbsp;? Mettons 2&nbsp;000&nbsp;000 d'entrées&nbsp;? Là, il va falloir le faire de manière un peu automatisée. Il y a deux manières&nbsp;:\n",
    "* avec une boucle. C'est la méthode la plus inntuitive quand on n'a pas l'habitude de Python. Dans ce cas, la [documentation Python sur les listes](https://docs.python.org/3.9/tutorial/datastructures.html) devrait vous être utile\n",
    "* avec une compréhension. Cette approche est à la fois plus concise et lisible\n",
    "\n",
    "Mais les deux font globalement la même chose (ne vous y habituez pas, vous rencontrerez souvent dans ce module des questions pour lesquelles il y a plusieurs solutions, avec des performances très différentes...). D'ailleurs, si vous voulez vérifier ça, vous pouvez ajouter la commande magique `%%time` au début de la cellule pour voir son temps d'exécution. Une commande magique est une instruction qui n'est pas interprétée par Python mais directement par Jupyter. Il y en a [de nombreuses](https://ipython.readthedocs.io/en/stable/interactive/magics.htm), souvent très utiles. Celle qu'on utilise va mesurer le temps d'exécution de la cellule et afficher le résultat. Attention, il y a deux valeurs&nbsp;:\n",
    "* CPU times&nbsp;: le temps que la cellule a nécessité au CPU pour être exécutée\n",
    "* Wall time&nbsp;: le temps réellement écoulé\n",
    "Évidemment, c'est la première valeur qui nous intéresse, la deuxième inclue toutes les interruptions que le CPU a effectuées pour aller faire autre chose (oui, il se passe plein de choses dans votre ordinateur...).\n",
    "\n"
   ]
  },
  {
   "cell_type": "code",
   "execution_count": 91,
   "id": "6d632caa-85ee-4f81-8ead-01344bd11c9a",
   "metadata": {},
   "outputs": [
    {
     "name": "stderr",
     "output_type": "stream",
     "text": [
      "UsageError: Cell magic `%%time##` not found.\n"
     ]
    }
   ],
   "source": [
    "%%time## NON\n",
    "taille_annuaire = 2_000 # Notation pratique pour faciliter la lecture des grands nombres\n",
    "\n",
    "annuaire = []\n",
    "#for _ in range(taille_annuaire):\n",
    "    annuaire.append({\n",
    "        \"identité\":{\n",
    "        \"nom\":fake.last_name(),\n",
    "        \"prénom\":fake.first_name(),\n",
    "        \"numéro\":fake.phone_number(),\n",
    "   }})\n",
    "print(annuaire)\n",
    "#a fermer l'application"
   ]
  },
  {
   "cell_type": "code",
   "execution_count": 92,
   "id": "9b97abf0",
   "metadata": {},
   "outputs": [
    {
     "name": "stdout",
     "output_type": "stream",
     "text": [
      "['Lecoq', 'Laetitia', '+33 2 33 56 88 27']\n",
      "CPU times: total: 672 ms\n",
      "Wall time: 800 ms\n"
     ]
    }
   ],
   "source": [
    "%%time\n",
    "taille_annuaire = 9_000\n",
    "annuaire = [[fake.last_name(),fake.first_name(), fake.phone_number()] for _ in range(taille_annuaire)]\n",
    "#for _ in range(taille_annuaire):\n",
    "    #annuaire.append((fake.last_name(),fake.first_name(), fake.phone_number()))\n",
    "print(annuaire[235])"
   ]
  },
  {
   "cell_type": "markdown",
   "id": "747bde77-2985-4151-a894-dd8d57e6028d",
   "metadata": {},
   "source": [
    "Bon, ça a pris un peu de temps, mais maintenant on a un gros annuaire&nbsp;! Affichons les 10 premières entrées sous la forme _\"Nom Prénom&nbsp;: Numéro\"_. On pourrait faire une boucle sur <code class=\"language-python\">range<span class=\"ͼ19\">(</span><span class=\"ͼu\">10</span><span class=\"ͼ19\">)</span></code>, mais on va plutôt itérer directement sur le tableau, en utilisant une boucle et le slicing (un indice&nbsp;: on va découper directement dans l'annuaire les 10 lignes qui nous intéressent, et on va boucler dessus pour les afficher)."
   ]
  },
  {
   "cell_type": "code",
   "execution_count": 31,
   "id": "76f6de69-3b82-462b-b879-87528ec08bdf",
   "metadata": {},
   "outputs": [],
   "source": [
    "for _ in range(10):\n",
    "    annuaire.append({\n",
    "        \"identité\":{\n",
    "        \"nom\":fake.last_name(),\n",
    "        \"prénom\":fake.first_name(),\n",
    "        \"numéro\":fake.phone_number(),\n",
    "   }})"
   ]
  },
  {
   "cell_type": "code",
   "execution_count": 27,
   "id": "e6a4fb3f",
   "metadata": {},
   "outputs": [
    {
     "name": "stdout",
     "output_type": "stream",
     "text": [
      "nom : Taylor, prénom : Mary, tel : 438-287-3268x5822\n",
      "nom : Ellis, prénom : Kelli, tel : +1-315-386-5969\n",
      "nom : Long, prénom : Stacy, tel : 414.361.2984x0941\n",
      "nom : Snyder, prénom : Mark, tel : (474)926-4736x4928\n",
      "nom : Knight, prénom : Joseph, tel : (282)224-9512x2376\n",
      "nom : Short, prénom : Carl, tel : 670-325-3875x66370\n",
      "nom : Jones, prénom : Courtney, tel : 989-567-5666x663\n",
      "nom : Russell, prénom : Bridget, tel : (228)830-2489x9633\n",
      "nom : Rose, prénom : Jason, tel : 001-275-251-2223x2190\n",
      "nom : Goodwin, prénom : Elizabeth, tel : 001-824-342-3925x6014\n"
     ]
    }
   ],
   "source": [
    "for i in range(10):\n",
    "    print(f\"nom : {annuaire[i][0]}, prénom : {annuaire[i][1]}, tel : {annuaire[i][2]}\")\n",
    "    #{} évalue ce qu'il y a dedans et donc ne l'affiche pas tel quel"
   ]
  },
  {
   "cell_type": "code",
   "execution_count": 29,
   "id": "c81cba76",
   "metadata": {},
   "outputs": [
    {
     "ename": "ValueError",
     "evalue": "too many values to unpack (expected 3)",
     "output_type": "error",
     "traceback": [
      "\u001b[1;31m---------------------------------------------------------------------------\u001b[0m",
      "\u001b[1;31mValueError\u001b[0m                                Traceback (most recent call last)",
      "Cell \u001b[1;32mIn[29], line 1\u001b[0m\n\u001b[1;32m----> 1\u001b[0m \u001b[38;5;28;01mfor\u001b[39;00m nom, prenom, tel \u001b[38;5;129;01min\u001b[39;00m annuaire[:\u001b[38;5;241m10\u001b[39m]:\n\u001b[0;32m      2\u001b[0m \u001b[38;5;66;03m#unpacking, stock chaque donnée dans nom, prénom, tel\u001b[39;00m\n\u001b[0;32m      3\u001b[0m     \u001b[38;5;28mprint\u001b[39m(\u001b[38;5;124mf\u001b[39m\u001b[38;5;124m\"\u001b[39m\u001b[38;5;124mNom : \u001b[39m\u001b[38;5;132;01m{\u001b[39;00mnom\u001b[38;5;132;01m}\u001b[39;00m\u001b[38;5;124m, Prénom : \u001b[39m\u001b[38;5;132;01m{\u001b[39;00mprenom\u001b[38;5;132;01m}\u001b[39;00m\u001b[38;5;124m, Téléphone : \u001b[39m\u001b[38;5;132;01m{\u001b[39;00mtel\u001b[38;5;132;01m}\u001b[39;00m\u001b[38;5;124m\"\u001b[39m)\n",
      "\u001b[1;31mValueError\u001b[0m: too many values to unpack (expected 3)"
     ]
    }
   ],
   "source": [
    "for nom, prenom, tel in annuaire[:10]:\n",
    "#unpacking, stock chaque donnée dans nom, prénom, tel\n",
    "    print(f\"Nom : {nom}, Prénom : {prenom}, Téléphone : {tel}\")\n",
    "#plus lisible, donc plus rapide à execuer / priviligier le plus expressif, comprendre ce qu'il se passe quand on  le lit"
   ]
  },
  {
   "cell_type": "markdown",
   "id": "051e8b9b-de94-42ef-80b0-b1fd6843f46e",
   "metadata": {},
   "source": [
    "Maintenant, on va commencer à faire des recherches. Affichez le nombre de personnes dont le nom de famille est \"_Dupont_\" présents dans l'annuaire, en reprenant le principe d'itération de l'exercice précédent. Pensez à mesure le temps d'exécution de la cellule, parce que là on va commencer à faire des opérations un peu couteuses."
   ]
  },
  {
   "cell_type": "code",
   "execution_count": 9,
   "id": "8e92b5d2",
   "metadata": {},
   "outputs": [
    {
     "ename": "NameError",
     "evalue": "name 'annuaire' is not defined",
     "output_type": "error",
     "traceback": [
      "\u001b[1;31m---------------------------------------------------------------------------\u001b[0m",
      "\u001b[1;31mNameError\u001b[0m                                 Traceback (most recent call last)",
      "File \u001b[1;32m<timed exec>:3\u001b[0m\n",
      "\u001b[1;31mNameError\u001b[0m: name 'annuaire' is not defined"
     ]
    }
   ],
   "source": [
    "%%time\n",
    "\n",
    "nombre = 0\n",
    "#les _,_ annoncent qu'on ne les utilisera pas\n",
    "for nom, _, _ in annuaire:\n",
    "    if (nom == \"Dupont\"):\n",
    "        nombre+=1\n",
    "print(f\"{nombre} numéros\")"
   ]
  },
  {
   "cell_type": "markdown",
   "id": "fe6e6cef-14b4-45a1-beff-37b857ca61d0",
   "metadata": {},
   "source": [
    "Évidemment, ça semble rapide, mais on voit déjà que ce n'est pas instantané. Ceci dit, on pourrait gagner du temps, en utilisant une compréhension. L'idée est de générer par compréhension une liste ne contenant que les entrées qui nous intéresse, puis de regarder la taille de cette liste. Implémentez cette solution et comparez les performances."
   ]
  },
  {
   "cell_type": "code",
   "execution_count": 52,
   "id": "052fc222-b1f9-4870-8e4b-2eb35c20c45e",
   "metadata": {},
   "outputs": [
    {
     "name": "stdout",
     "output_type": "stream",
     "text": [
      "0 numéros\n",
      "CPU times: total: 0 ns\n",
      "Wall time: 0 ns\n"
     ]
    }
   ],
   "source": [
    "%%time\n",
    "\n",
    "résultat = [ nom for nom,_,_ in annuaire if nom == \"Dupont\"]\n",
    "\n",
    "print(f\"{len(résultat)} numéros\")"
   ]
  },
  {
   "cell_type": "markdown",
   "id": "34d29344-0d3a-4535-bbee-a510e43e43a1",
   "metadata": {},
   "source": [
    "On a gagné environ un facteur 2&nbsp;! C'est assez important. Une fois de plus, si vous ne sentez pas la différence, sur des calculs dont la durée se compte en secondes, minutes, heures, voire jours (et ça vient plus vite que vous ne l'imaginez...), diviser un temps par 2, c'est énorme&nbsp;!\n",
    "\n",
    "\n",
    "Maintenant, est-ce qu'on ne pourrait pas arranger les données autrement, de manière à ce qu'une recherche sur le nom soit beaucoup plus rapide&nbsp;? Quelle structure permettant d'associer des données à des identifiants est réputée pour ses performances&nbsp;?\n",
    "\n",
    "<em>Le dictionnaire</em>\n",
    "\n",
    "Comment pourrait-on utiliser cette structure&nbsp;?\n",
    "\n",
    "<em>Faire en sorte que la clé soit le nom et la valeur, le reste : le prénom et le téléphone.</em>\n",
    "\n",
    "Tentons d'implémenter cette structure. Plutôt que de regénérer des données depuis `Faker`, on va plutôt construire notre nouvelle structure à partir de l'annuaire actuel. À votre avis, pourquoi&nbsp;?\n",
    "\n",
    "<em>Comparer les performances des résultats.</em>\n"
   ]
  },
  {
   "cell_type": "code",
   "execution_count": 16,
   "id": "f0da0826-ce52-4b8b-8906-fce1aaf22dcf",
   "metadata": {},
   "outputs": [
    {
     "ename": "KeyError",
     "evalue": "'Jourdan'",
     "output_type": "error",
     "traceback": [
      "\u001b[1;31m---------------------------------------------------------------------------\u001b[0m",
      "\u001b[1;31mKeyError\u001b[0m                                  Traceback (most recent call last)",
      "Cell \u001b[1;32mIn[16], line 5\u001b[0m\n\u001b[0;32m      3\u001b[0m \u001b[38;5;28;01mif\u001b[39;00m nom \u001b[38;5;129;01min\u001b[39;00m annuaire_optim:\n\u001b[0;32m      4\u001b[0m     annuaire_optim[nom] \u001b[38;5;241m=\u001b[39m []\n\u001b[1;32m----> 5\u001b[0m annuaire_optim[nom]\u001b[38;5;241m.\u001b[39mappend([prenom,tel])\n",
      "\u001b[1;31mKeyError\u001b[0m: 'Jourdan'"
     ]
    }
   ],
   "source": [
    "annuaire_optim = {}\n",
    "for nom, prenom, tel in annuaire:\n",
    "    if nom in annuaire_optim:\n",
    "        annuaire_optim[nom] = []\n",
    "    annuaire_optim[nom].append([prenom,tel])"
   ]
  },
  {
   "cell_type": "markdown",
   "id": "d7929e88-eeda-41e8-83bb-3b8a4e2c27ea",
   "metadata": {},
   "source": [
    "Bien, maintenant, implémentons la recherche par nom. Et cherchons sur le même nom, pour pouvoir comparer avec les performances précédentes. Parmi les différentes implémentations possibles, l'une utilise [la méthode <span class=\"ͼz\">get</span>](https://docs.python.org/3/library/stdtypes.html#dict.get).\n"
   ]
  },
  {
   "cell_type": "code",
   "execution_count": 17,
   "id": "cd3a4661-e18b-49f0-a588-74dc1d590af2",
   "metadata": {},
   "outputs": [
    {
     "name": "stdout",
     "output_type": "stream",
     "text": [
      "0 entrées pour Dupont dans annuaire_optim\n",
      "CPU times: total: 0 ns\n",
      "Wall time: 0 ns\n"
     ]
    }
   ],
   "source": [
    "%%time\n",
    "#len(annuaire_optim[\"Dupont\"]) marche que si le nom est présent\n",
    "#if, compréhension, ou get\n",
    "\n",
    "resultat = annuaire_optim[\"Dupont\"]  if \"Dupont\" in annuaire_optim else []\n",
    "resultat = annuaire_optim.get(\"Dupont\",[])\n",
    "\n",
    "print(f\"{len(resultat)} entrées pour Dupont dans annuaire_optim\")\n"
   ]
  },
  {
   "attachments": {},
   "cell_type": "markdown",
   "id": "b8d7415e-5f2a-4e0c-81cf-e716ea07e966",
   "metadata": {},
   "source": [
    "C'est à la fois beaucoup plus simple, et nettement plus rapide&nbsp;! D'ailleurs, on ne voit même pas le temps d'exécution... \n",
    "\n",
    "Maintenant, comment pourrait-on faire une recherche par nom _et_ prénom&nbsp;? En cherchant par exemple \"_Jean Dupont_\"&nbsp;? Commençons par le faire dans l'annuaire simple, c'est très facile."
   ]
  },
  {
   "cell_type": "code",
   "execution_count": 18,
   "id": "c80d837f",
   "metadata": {},
   "outputs": [
    {
     "name": "stdout",
     "output_type": "stream",
     "text": [
      "0 numéros\n",
      "CPU times: total: 0 ns\n",
      "Wall time: 1.97 ms\n"
     ]
    }
   ],
   "source": [
    "%%time\n",
    "\n",
    "résultat = [(nom) for nom, prenom,_ in annuaire if (nom == \"Dupont\") and (prenom == \"Jean\")]\n",
    "\n",
    "print(f\"{len(resultat)} numéros\")"
   ]
  },
  {
   "cell_type": "markdown",
   "id": "d9208034-3946-4d7f-864c-6c14efffb54a",
   "metadata": {},
   "source": [
    "Et dans l'annuaire optimisé&nbsp;? Là c'est un peu plus compliqué, mais pas beaucoup."
   ]
  },
  {
   "cell_type": "code",
   "execution_count": 19,
   "id": "a05ef2f1-e95e-4c7b-a4eb-13de4955ef0f",
   "metadata": {},
   "outputs": [
    {
     "ename": "TypeError",
     "evalue": "'NoneType' object is not iterable",
     "output_type": "error",
     "traceback": [
      "\u001b[1;31m---------------------------------------------------------------------------\u001b[0m",
      "\u001b[1;31mTypeError\u001b[0m                                 Traceback (most recent call last)",
      "File \u001b[1;32m<timed exec>:1\u001b[0m\n",
      "\u001b[1;31mTypeError\u001b[0m: 'NoneType' object is not iterable"
     ]
    }
   ],
   "source": [
    "%%time\n",
    "\n",
    "resultat = [prenom for prenom,_ in annuaire_optim.get(\"Dupont\") if prenom == \"Jean\"]\n",
    "resultat = annuaire_optim[\"Dupont\"][\"Jean\"]  if \"Dupont\" in annuaire_optim else []\n",
    "\n",
    "print(f\"{len(resultat)} numéros\")"
   ]
  },
  {
   "cell_type": "markdown",
   "id": "712b0839-9b97-45a5-babc-54b523c524c6",
   "metadata": {},
   "source": [
    "Ça reste toujours nettement meilleur qu'avec la version de base, mais on voit tout de même apparaitre un petit temps d'exécution. C'est dommage, on s'était habitués à une exécution instantanée. Et sur des cas d'usage à plusieurs centaines de millions de données (à l'échelle du nombre d'entrées d'un outil comme ChapGPT, ce n'est pas énorme...), on risque de commencer à le sentir. Essayons de rendre la recherche sur prénom et nom aussi efficace que sur le nom seul. Comment faire&nbsp;?\n",
    "\n",
    "<em>Un dictionnaire dans un dictionnaire.</em>\n",
    "\n",
    "Commencez par dessiner un exemple d'une telle structure, avec \"_Jean Dupont_\" associé à deux numéros, \"_Giselle Dupont_\" à un seul, et \"_Maria Von Glott_\" à un seul.\n",
    "\n",
    "<em> { \"Dupont\" :{ \n",
    "                    \"Jean\" : [12, 34]\n",
    "                    \"Giselle\" : [23]}\n",
    "        \"Von Glott :{\n",
    "                    \"Maria\" : [24]}\n",
    "        }</em>\n",
    "\n",
    "Maintenant, essayons d'implémenter cette nouvelle version de l'annuaire optimisé. On va la remplir avec les données de l'annuaire simple, toujours pour les mêmes raisons."
   ]
  },
  {
   "cell_type": "code",
   "execution_count": 50,
   "id": "1d0e92a4-710a-42af-bbe7-c80af6a6ace0",
   "metadata": {},
   "outputs": [
    {
     "ename": "KeyError",
     "evalue": "'Victor'",
     "output_type": "error",
     "traceback": [
      "\u001b[1;31m---------------------------------------------------------------------------\u001b[0m",
      "\u001b[1;31mKeyError\u001b[0m                                  Traceback (most recent call last)",
      "Cell \u001b[1;32mIn[50], line 7\u001b[0m\n\u001b[0;32m      5\u001b[0m \u001b[38;5;28;01mif\u001b[39;00m prenom \u001b[38;5;129;01min\u001b[39;00m annuaire_optim:\n\u001b[0;32m      6\u001b[0m     annuaire_optim[nom][prenom] \u001b[38;5;241m=\u001b[39m []\n\u001b[1;32m----> 7\u001b[0m annuaire_optim[prenom]\u001b[38;5;241m.\u001b[39mappend([tel])\n",
      "\u001b[1;31mKeyError\u001b[0m: 'Victor'"
     ]
    }
   ],
   "source": [
    "annuaire_optim = {}\n",
    "for nom, prenom, tel in annuaire:\n",
    "    if nom in annuaire_optim:\n",
    "        annuaire_optim[nom] = {}\n",
    "    if prenom in annuaire_optim:\n",
    "        annuaire_optim[nom][prenom] = []\n",
    "    annuaire_optim[prenom].append([tel])"
   ]
  },
  {
   "cell_type": "markdown",
   "id": "57cfa02b-1fad-4824-96e7-73f216357b04",
   "metadata": {},
   "source": [
    "Et réimplémentons la recherche de _\"Jean Dupont\"_."
   ]
  },
  {
   "cell_type": "code",
   "execution_count": null,
   "id": "b5fa0a40-0f5d-41b6-aa61-852e402fce45",
   "metadata": {},
   "outputs": [
    {
     "name": "stdout",
     "output_type": "stream",
     "text": [
      "0 numéros\n",
      "CPU times: total: 0 ns\n",
      "Wall time: 0 ns\n"
     ]
    }
   ],
   "source": [
    "%%time\n",
    "\n",
    "resultat = annuaire_optim.get(\"Dupont\", {}).get(\"Jean\", [])\n",
    "\n",
    "print(f\"{len(resultat)} numéros\")"
   ]
  },
  {
   "cell_type": "markdown",
   "id": "500e14b8-7646-4a5c-a720-17b65d53b330",
   "metadata": {},
   "source": [
    "Et testons si la recherche par nom simple est toujours efficace."
   ]
  },
  {
   "cell_type": "code",
   "execution_count": 109,
   "id": "523f06c3-9799-4fd2-9cc8-1446ffb14015",
   "metadata": {},
   "outputs": [
    {
     "name": "stdout",
     "output_type": "stream",
     "text": [
      "0 numéros\n",
      "CPU times: total: 0 ns\n",
      "Wall time: 0 ns\n"
     ]
    }
   ],
   "source": [
    "%%time\n",
    "\n",
    "resultat = annuaire_optim.get(\"Dupont\", {})\n",
    "\n",
    "print(f\"{len(resultat)} numéros\")"
   ]
  },
  {
   "cell_type": "markdown",
   "id": "f4c2d124-de65-4165-b957-7007cfd9589a",
   "metadata": {},
   "source": [
    "Qu'observez-vous&nbsp;? Comment expliquez-vous ce résultat&nbsp;?\n",
    "\n",
    "<em>Pas le même résultat.</em>\n",
    "\n",
    "Comment réimplémenter la recherche par nom simple, dans ce cas&nbsp;?\n",
    "\n",
    "<em>Faire la somme des tailles des listes, avec la fonction sum().\n",
    "d.values() renvoies les valeurs de la liste du dictionnaire, du dictionnaire</em>\n"
   ]
  },
  {
   "cell_type": "code",
   "execution_count": 117,
   "id": "3b6021ec-f895-468d-971a-afe0625e4d8e",
   "metadata": {},
   "outputs": [
    {
     "name": "stdout",
     "output_type": "stream",
     "text": [
      "CPU times: total: 0 ns\n",
      "Wall time: 0 ns\n"
     ]
    },
    {
     "data": {
      "text/plain": [
       "0"
      ]
     },
     "execution_count": 117,
     "metadata": {},
     "output_type": "execute_result"
    }
   ],
   "source": [
    "%%time\n",
    "\n",
    "#print(sum(len([tel for prenom,tel in annuaire_optim[prenom]])))\n",
    "\n",
    "#resultat = [numero\n",
    "#           for prenom, numeros in annuaire_optim.get(\"Dupont\", {}).items()\n",
    "#           for numero in numeros]\n",
    "\n",
    "#print(f\"{len(resultat)} numéros\")\n",
    "\n",
    "sum(len(numeros) for numeros in annuaire_optim.get(\"Dupont\", {}).values())"
   ]
  },
  {
   "cell_type": "markdown",
   "id": "19580c65-c5ab-4c7a-b21e-071519248293",
   "metadata": {},
   "source": [
    "Parfait, on a maintenant une version instantanée, que ce soit par recherche sur Nom, ou sur Prénom Nom. Et si on voulait faire une recherche uniquement par prénom&nbsp;? Faisons les deux recherches dans la même cellule, on mesurera directement la performance de chaque instruction. Pour ça, au lieu de placer `%%time` au début de la cellule, on va utiliser une autre commande, `%time` (avec un seum `%`), qui mesure le temps d'exécution d'une seule instruction (celle devant laquelle elle est placée)."
   ]
  },
  {
   "cell_type": "code",
   "execution_count": null,
   "id": "6aa8a13d-c707-432b-9e89-0b01a21fe9fe",
   "metadata": {},
   "outputs": [
    {
     "ename": "NameError",
     "evalue": "name 'numero' is not defined",
     "output_type": "error",
     "traceback": [
      "\u001b[1;31m---------------------------------------------------------------------------\u001b[0m",
      "\u001b[1;31mNameError\u001b[0m                                 Traceback (most recent call last)",
      "File \u001b[1;32m<timed exec>:1\u001b[0m\n",
      "\u001b[1;31mNameError\u001b[0m: name 'numero' is not defined"
     ]
    },
    {
     "name": "stdout",
     "output_type": "stream",
     "text": [
      "0 numéros (version simple)\n"
     ]
    }
   ],
   "source": [
    "%time resultat_simple = [numero for nom, prenom, tel in annuaire if prenom == \"Jean\" ]\n",
    "print(f\"{len(resultat)} numéros (version simple)\")\n",
    "#implémanter une compréhension\n",
    "#%time resultat_optim = #À COMPLÉTER\n",
    "#print(f\"{len(resultat)} numéros (version optimisée)\") à faire"
   ]
  },
  {
   "cell_type": "markdown",
   "id": "a30dc363-7441-494c-b315-799489098162",
   "metadata": {},
   "source": [
    "Là encore, la version optimisée est instantanée. On a définitivement trouvé la bonne structure&nbsp;!"
   ]
  },
  {
   "cell_type": "markdown",
   "id": "97764508-2f87-4abf-a967-9d488391bed4",
   "metadata": {},
   "source": [
    "# 2. Gestion de liste rouge"
   ]
  },
  {
   "cell_type": "markdown",
   "id": "ad371e99-2066-493a-ae99-74637c2f67f9",
   "metadata": {},
   "source": [
    "Dernier point, l'ajout sur liste rouge. Là, il d'indiquer si le numéro de téléphone est ou non sur liste rouge. Quelle solution vous semble simple à mettre en oeuvre, que ce soit dans la verson basique ou optimisée de l'annuaire&nbsp;?\n",
    "\n",
    "<em></em>\n",
    "\n",
    "Allons-y, ajoutez cette information&nbsp;! Vous pouvez utiliser cette instruction pour générer un booléen aléatoire&nbsp;:\n",
    "```python\n",
    "booleen = random.choice([True, False])\n",
    "```"
   ]
  },
  {
   "cell_type": "code",
   "execution_count": 82,
   "id": "1798d194-aa4a-469a-b1ea-f32559d3eea4",
   "metadata": {},
   "outputs": [
    {
     "name": "stdout",
     "output_type": "stream",
     "text": [
      "[['Neveu', 'Victor', '0449217674', True], ['Poirier', 'Luce', '+33 5 56 50 54 75', True], ['Bourdon', 'Agathe', '05 53 32 58 05', False], ['Lévêque', 'Roland', '0176788263', False], ['Boyer', 'Alix', '+33 2 49 44 42 00', False], ['Robin', 'Jeanne', '+33 (0)2 47 93 11 93', True], ['Le Gall', 'Juliette', '+33 (0)3 84 11 50 48', True], ['Barbe', 'Diane', '03 67 30 27 23', False], ['Mercier', 'Hugues', '0176586643', False], ['Meyer', 'Sophie', '0175735580', False]]\n",
      "{'Agathe': [['0449217674', False]]}\n"
     ]
    }
   ],
   "source": [
    "import random\n",
    "\n",
    "# version de base\n",
    "\n",
    "# Cette fois, on aura besoin de l'indice de chaque entrée\n",
    "# Pour mettre à jour l'annuaire\n",
    "\n",
    "annuaire_liste_rouge = []\n",
    "for i in range(20):#len(annuaire)\n",
    "    nom, prenom, numero = annuaire[i]\n",
    "    annuaire_liste_rouge.append([nom, prenom, numero, random.choice([True, False])])\n",
    "print(annuaire_liste_rouge[:10])\n",
    "\n",
    "# version optimisée\n",
    "\n",
    "# On reconstruit la version optimisée à partir de la version de base\n",
    "annuaire_optim_liste_rouge ={}  \n",
    "for nom, prenom, numero, rouge in annuaire_liste_rouge:\n",
    "    if nom not in annuaire_optim:\n",
    "        annuaire_optim_liste_rouge[nom] = {}\n",
    "    if prenom not in annuaire_optim:\n",
    "        annuaire_optim_liste_rouge[nom][prenom] = []\n",
    "    annuaire_optim_liste_rouge[nom][prenom].append([tel,rouge])\n",
    "\n",
    "print(annuaire_optim_liste_rouge[\"Bourdon\"])"
   ]
  },
  {
   "cell_type": "markdown",
   "id": "221c9da2-cb7a-4cf1-96e4-e0d38b6e0d16",
   "metadata": {},
   "source": [
    "Cette fois, on va créer deux fonctions pour vérifier si un numéro est sur liste rouge. La première regardera dans l'annuaire de base, l'autre dans l'annuaire optimisé."
   ]
  },
  {
   "cell_type": "code",
   "execution_count": 90,
   "id": "28f0fda1-3530-4741-83f5-b8bffa8110e7",
   "metadata": {},
   "outputs": [
    {
     "name": "stdout",
     "output_type": "stream",
     "text": [
      "Résultat pour la liste :\n",
      "CPU times: total: 0 ns\n",
      "Wall time: 0 ns\n",
      "Résultat pour le dictionnaire :\n",
      "CPU times: total: 0 ns\n",
      "Wall time: 0 ns\n"
     ]
    }
   ],
   "source": [
    "def verifier_numero_liste(num):\n",
    "    \"\"\"\n",
    "    Vérifie le booléen associé à un numéro dans la structure de liste.\n",
    "    \"\"\"\n",
    "    for _, _, numero, booleen in annuaire_liste_rouge:\n",
    "        if numero == num:\n",
    "            return booleen\n",
    "    return None\n",
    "\n",
    "def verifier_numero_dict(num):\n",
    "    \"\"\"\n",
    "    Vérifie le booléen associé à un numéro dans la structure de dictionnaire.\n",
    "    \"\"\"\n",
    "    for nom in annuaire_optim_liste_rouge:\n",
    "        for prenom in annuaire_optim_liste_rouge[nom]:\n",
    "            for numero, booleen in annuaire_optim_liste_rouge[nom][prenom]:\n",
    "                if numero == num:\n",
    "                    return booleen\n",
    "    return False\n",
    "\n",
    "# Exemple d'utilisation\n",
    "numero_test = \"0449217674\"  # Remplacez par un numéro réel de votre liste\n",
    "\n",
    "# Test avec la structure de liste\n",
    "print(\"Résultat pour la liste :\")\n",
    "%time resultat_liste = verifier_numero_liste(numero_test)\n",
    "\n",
    "# Test avec la structure de dictionnaire\n",
    "print(\"Résultat pour le dictionnaire :\")\n",
    "%time resultat_dict = verifier_numero_dict(numero_test)\n"
   ]
  },
  {
   "cell_type": "markdown",
   "id": "ceba4b90-baeb-46df-b4a2-9ed08673e8cd",
   "metadata": {},
   "source": [
    "Cette fois, c'est la version avec dictionnaire imbriqué qui est moins performante&nbsp;! Que faire, sachant qu'on ne veut pas renoncer aux performances particulièrement impressionnantes qu'on a réussi à obtenir jusqu'ici&nbsp;?\n",
    "\n",
    "<em>un ensemble, set</em>\n",
    "\n",
    "Mettons en place cette solution. Pas la peine de faire une fonction, la recherche est trop simple à mettre en œuvre."
   ]
  },
  {
   "cell_type": "code",
   "execution_count": 94,
   "id": "db7603ef",
   "metadata": {},
   "outputs": [
    {
     "name": "stdout",
     "output_type": "stream",
     "text": [
      "set()\n",
      "False\n"
     ]
    }
   ],
   "source": [
    "# création de la liste rouge\n",
    "liste_rouge = set()\n",
    "\n",
    "print(liste_rouge)\n",
    "\n",
    "# remplissage de la liste rouge\n",
    "for nom, prenom, tel in annuaire:\n",
    "    if random.choice([True, False]):\n",
    "        liste_rouge.add(tel)\n",
    "print(numero_test in liste_rouge)\n",
    "#de nouveau une recherche instanténée\n",
    "numero_test = \"0123456789\"  # Remplacez par un numéro réel de votre liste"
   ]
  },
  {
   "cell_type": "markdown",
   "id": "81330570-8f61-4661-a942-f3ec96d2ef67",
   "metadata": {},
   "source": [
    "Parfait&nbsp;! On a de nouveau une exécution instantanée.\n",
    "\n",
    "Mais on pourrait se demander ce qui explique cette différence de performance. Pour ça, on va récupérer le premier numéro de la liste, celui au milieu , et le dernier (un indice&nbsp;: récupérez les depuis la liste, c'est bien plus simple qu'avec le dictionnaire). On va aussi ajouter un numéro dont on est sûr de ne pas le trouver dans l'annuaire. Et on va comparer la recherche dans la liste, le dictionnaire, et notre nouvelle solution, pour ces quatre numéros."
   ]
  },
  {
   "cell_type": "code",
   "execution_count": 101,
   "id": "ed962e75-0031-426e-b9a2-34a22c43d556",
   "metadata": {},
   "outputs": [
    {
     "name": "stdout",
     "output_type": "stream",
     "text": [
      "    résultats pour le premier :\n",
      "Liste :\n",
      "2.43 μs ± 184 ns per loop (mean ± std. dev. of 7 runs, 100,000 loops each)\n",
      "Dictionnaire :\n",
      "CPU times: total: 0 ns\n",
      "Wall time: 0 ns\n",
      "Liste rouge :\n",
      "CPU times: total: 0 ns\n",
      "Wall time: 0 ns\n",
      "\n",
      "    résultats pour le milieu :\n",
      "Liste :\n",
      "CPU times: total: 0 ns\n",
      "Wall time: 0 ns\n",
      "Dictionnaire :\n",
      "CPU times: total: 0 ns\n",
      "Wall time: 0 ns\n",
      "Liste rouge :\n",
      "CPU times: total: 0 ns\n",
      "Wall time: 0 ns\n",
      "\n",
      "    résultats pour le dernier :\n",
      "Liste :\n",
      "CPU times: total: 0 ns\n",
      "Wall time: 0 ns\n",
      "Dictionnaire :\n",
      "CPU times: total: 0 ns\n",
      "Wall time: 0 ns\n",
      "Liste rouge :\n",
      "CPU times: total: 0 ns\n",
      "Wall time: 0 ns\n",
      "\n",
      "    résultats pour un numéro absent :\n",
      "Liste :\n",
      "CPU times: total: 0 ns\n",
      "Wall time: 0 ns\n",
      "Dictionnaire :\n",
      "CPU times: total: 0 ns\n",
      "Wall time: 0 ns\n",
      "Liste rouge :\n",
      "CPU times: total: 0 ns\n",
      "Wall time: 0 ns\n"
     ]
    }
   ],
   "source": [
    "premier = annuaire[0][2]\n",
    "milieu = annuaire[len(annuaire)//2][2]\n",
    "dernier = annuaire[-1][2]\n",
    "absent = \"ça m'étonnerait que ce numéro existe, vu que ce n'est pas du tout un numéro\"\n",
    "\n",
    "print(\"    résultats pour le premier :\")\n",
    "print(\"Liste :\")\n",
    "%timeit -n100000 resultat =\\\n",
    "    verifier_numero_liste(premier)\n",
    "print(\"Dictionnaire :\")\n",
    "%time resultat =\\\n",
    "    verifier_numero_dict(premier)\n",
    "print(\"Liste rouge :\")\n",
    "%time resultat = \\\n",
    "    premier in liste_rouge\n",
    "\n",
    "print(\"\\n    résultats pour le milieu :\")\n",
    "print(\"Liste :\")\n",
    "%time resultat =\\\n",
    "    verifier_numero_liste(milieu)\n",
    "print(\"Dictionnaire :\")\n",
    "%time resultat =\\\n",
    "    verifier_numero_dict(milieu)\n",
    "print(\"Liste rouge :\")\n",
    "%time resultat = milieu in liste_rouge\n",
    "\n",
    "print(\"\\n    résultats pour le dernier :\")\n",
    "print(\"Liste :\")\n",
    "%time resultat =\\\n",
    "    verifier_numero_liste(dernier)\n",
    "print(\"Dictionnaire :\")\n",
    "%time resultat =\\\n",
    "    verifier_numero_dict(dernier)\n",
    "print(\"Liste rouge :\")\n",
    "%time resultat = dernier in liste_rouge\n",
    "\n",
    "print(\"\\n    résultats pour un numéro absent :\")\n",
    "print(\"Liste :\")\n",
    "%time resultat =\\\n",
    "    verifier_numero_liste(absent)\n",
    "print(\"Dictionnaire :\")\n",
    "%time resultat =\\\n",
    "    verifier_numero_dict(absent)\n",
    "print(\"Liste rouge :\")\n",
    "%time resultat = absent in liste_rouge\n"
   ]
  },
  {
   "cell_type": "markdown",
   "id": "c09b7edf-ba60-4efe-93b1-950e5bfa2b80",
   "metadata": {},
   "source": [
    "QU'observe-t-on ?\n",
    "\n",
    "<em>À COMPLÉTER</em>\n",
    "\n",
    "Il va falloir utiliser [une autre commande magique](https://ipython.readthedocs.io/en/stable/interactive/magics.html#magic-timeit)&nbsp;!"
   ]
  },
  {
   "cell_type": "code",
   "execution_count": null,
   "id": "69e985fb",
   "metadata": {},
   "outputs": [],
   "source": [
    "%timeit\n",
    "#résultats utiles"
   ]
  },
  {
   "cell_type": "markdown",
   "id": "520277b8-be3b-483f-8b10-cd9b62d1b4f5",
   "metadata": {},
   "source": [
    "Cette fois, on observe quoi&nbsp;?\n",
    "\n",
    "<em>\n",
    "dictionnaire: necessite une clé\n",
    "=> dépend de son utilisation\n",
    "le choix : pour quoi faire ?\n",
    "pour gagner du temps _> gacher du temps et inversement\n",
    "bonne performance si bonne implémentation\n",
    "</em>\n"
   ]
  },
  {
   "cell_type": "markdown",
   "id": "a9eb5aff-4891-4471-bc5b-02e419fb1e7e",
   "metadata": {},
   "source": [
    "# Conclusion\n",
    "\n",
    "Ces mises en pratique nous ont appris pas mal de choses sur l'usage des structures Python. Qu'en pensez-vous&nbsp;?\n",
    "\n"
   ]
  }
 ],
 "metadata": {
  "kernelspec": {
   "display_name": "l1-python",
   "language": "python",
   "name": "python3"
  },
  "language_info": {
   "codemirror_mode": {
    "name": "ipython",
    "version": 3
   },
   "file_extension": ".py",
   "mimetype": "text/x-python",
   "name": "python",
   "nbconvert_exporter": "python",
   "pygments_lexer": "ipython3",
   "version": "3.12.5"
  }
 },
 "nbformat": 4,
 "nbformat_minor": 5
}
