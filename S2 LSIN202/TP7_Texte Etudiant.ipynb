{
 "cells": [
  {
   "cell_type": "markdown",
   "id": "051ac287-747f-409d-b7d0-f97793fc4d11",
   "metadata": {},
   "source": [
    "<img style=\"position: absolute;right: 0;\" src=\"data:image/svg+xml,%3Csvg%20height%3D%2295.834%22%20width%3D%2289.004%22%20xml%3Aspace%3D%22preserve%22%20xmlns%3D%22http%3A%2F%2Fwww.w3.org%2F2000%2Fsvg%22%3E%3Cpath%20style%3D%22fill%3A%230092bd%3Bfill-opacity%3A1%3Bfill-rule%3Anonzero%3Bstroke%3Anone%3Bstroke-width%3A.721541%22%20d%3D%22m39.987%200%204.506%2056.336L48.986%200ZM0%2041.473c7.22%205.11%2030.7%2021.33%2030.7%2021.33L0%2032.02Zm0-11.61%2032.69%2031.06L0%2016.767ZM29.056%200l12.985%2056.536L38.711%200Zm10.6%2057.1L27.769%200H6.177c-3.4%200-6.17%202.9-6.17%206.475v8.1l34.915%2044.747L6.458%206.202c.354-.212.688-.426%201.038-.637l29.558%2052.46L16.56%201.037c.359-.153.73-.314%201.1-.46zM0%2071.853c.422.088%201.091.171%202.013.171l24.83.066C19.369%2070.775%202.508%2068.863%200%2068.42Zm0-5.447c3.731.656%2027.2%203.62%2027.2%203.62S4.3%2062.468%200%2061.001zm0-15.54c6.295%203.108%2029.304%2014.059%2029.304%2014.059S6.777%2048.527%200%2043.546zm0%208.139c3.968%201.254%2028.244%208.561%2028.244%208.561S6.312%2056.218%200%2052.914zm86.24%2013.332c1.567%200%202.415-.237%202.764-.4V68.42c-2.588.466-19.182%202.52-26.645%203.854zM82.824%200h-21.59L49.692%2056.966%2071.312.573c.006%200%20.012.01.016.015l.008-.015c.37.146.749.312%201.123.463l-20.155%2057.21%2029.174-52.68c.005.013.009.013.017.018l.013-.018c.34.219.68.425%201.04.636l-27.79%2053.337%2034.245-44.987V6.473C89.003%202.897%2086.226%200%2082.824%200m-26.14%2061.16%2032.318-31.326V16.772Zm32.319-19.705V32.02l-30.64%2031.05c1.523-1.081%2023.69-16.692%2030.64-21.615M50.294%200l-3.01%2056.388L60.234%200Zm38.709%2066.406v-5.41c-4.247%201.447-26.813%208.905-27.178%209.026.87-.129%2023.62-2.998%2027.178-3.616m0-15.558v-7.302c-6.614%204.845-28.127%2020.823-29.264%2021.673%201.365-.679%2023.203-11.375%2029.264-14.37m0%208.149v-6.084c-6.209%203.252-27.195%2014.27-27.9%2014.64%201.215-.383%2024.118-7.365%2027.9-8.556%22%2F%3E%3Cpath%20style%3D%22fill%3A%2380ba27%3Bfill-opacity%3A1%3Bfill-rule%3Anonzero%3Bstroke%3Anone%3Bstroke-width%3A.721541%22%20d%3D%22M88.544%2074.062c-.455.13-1.204.249-2.304.249l-41.284.015L.87%2074.192a6.236%206.236%200%200%201-.842-.118v5.553c0%204.546%203.081%206.827%207.855%208.234%200%200%2032.092%207.973%2037.04%207.973%204.968%200%2036.218-7.973%2036.218-7.973%204.121-1.236%207.863-3.688%207.863-8.234v-5.718c-.106.047-.254.1-.46.153%22%2F%3E%3C%2Fsvg%3E\" alt=\"UVSQ Logo\"/>\n",
    "<h1><center>IN202 – Représentation des données</center></h1>\n",
    "<h2><center>TD 7 – Texte</center></h2>\n"
   ]
  },
  {
   "cell_type": "markdown",
   "id": "2ef7a2c7-128a-4280-b448-34bfae816495",
   "metadata": {},
   "source": [
    "Commençons par un petit exercice d'échauffement. On va écrire une fonction qui convertit les minuscules du texte en majuscules. Attention à bien ignorer les autres caractères&nbsp;! Et comme on veut modifier le texte, on ne pourra pas passer par un `str` (qui est immuable), donc on va le convertir en liste de caractères.\n",
    "\n",
    "Un point important&nbsp;: pour pouvoir appliquer des opérations mathématiques à un caractère, il faut le convertir en sa valeur _ordinale_ (en gros, sa valeur numérique), avec l'opérateur de type `ord`. Comme ça, on pourra effectuer des calculs sur cette valeur numérique. Une fois le calcul effectué, il ne reste plus qu'à reconvertir le résultat en caractère. Un exemple&nbsp;:\n",
    "\n",
    "```python\n",
    "print(chr(ord(\"a\")+1))\n",
    "```\n",
    "affiche\n",
    "`b` (puisque `b` est juste après `a` dans la table ASCII).\n",
    "\n",
    "Ici, on veut convertir les minuscules en majuscules, donc on va exploiter les valeurs numériques des minuscules, et leur rapport avec les valeurs numériques des majuscules correspondantes. Que sont les valeurs numériques ASCII de `a` et `A`&nbsp;? `b` et `B`&nbsp;? `c` et `C`&nbsp;? Quelle propriété simple apparait&nbsp;? Que peut-on en faire pour résoudre notre problème&nbsp;?\n",
    "\n",
    "<em> a = 97, A = 65, b = 98, B = 66, c = 98, C = 67\n",
    "il y a une différence de 32 entre les minuscules etles majuscules </em>\n"
   ]
  },
  {
   "cell_type": "code",
   "execution_count": null,
   "id": "51d9fb26-1eec-4b78-8c86-9bfcc2305d95",
   "metadata": {},
   "outputs": [
    {
     "name": "stdout",
     "output_type": "stream",
     "text": [
      "['M', 'O', 'N', '\\x00', 'T', 'E', 'X', 'T', 'E', '\\x00', 'T', 'O', 'U', 'T', '\\x00', 'E', 'N', '\\x00', 'M', 'I', 'N', 'U', 'S', 'C', 'U', 'L', 'E', 'S']\n",
      "MON\u0000TEXTE\u0000TOUT\u0000EN\u0000MINUSCULES\n"
     ]
    }
   ],
   "source": [
    "texte = \"mon texte tout en minuscules\"\n",
    "liste = list(texte)\n",
    "\n",
    "for i in range(len(liste)):\n",
    "    liste[i] = chr(ord(liste[i])-32)\n",
    "    # retourne le code unicode du caractère\n",
    "    #chr() retourne le code unicode en caractère\n",
    "    \n",
    "print(liste)\n",
    "print(''.join(liste)) # on reconstitue le texte"
   ]
  },
  {
   "cell_type": "markdown",
   "id": "96106e95-6dfd-400d-8835-7cc4834e4a85",
   "metadata": {},
   "source": [
    "## 1. Sous-chaine\n",
    "\n",
    "Maintenant, on va s'attaquer à la recherche de sous-chaîne. On a deux chaînes de caractères, et on veut vérifier si l'une est contenue dans l'autre. Et comme on ne fait que lire dans ces chaînes, inutile cette fois de les convertir en listes.\n",
    "\n",
    "### 1.1 Recherche naïve \n",
    "\n",
    "Commençons par la version naïve. À priori, rien de compliqué, il faut juste faire attention aux indices qu'on utilise pour lire dans le texte et dans le motif. Si on fait la vérification dans le caractère `i` du texte, et qu'on vérifie le `j`<sup>e</sup> caractère du motif, à quelle position dans le texte fera-t-on la vérification&nbsp;?\n",
    "\n",
    "<em>si le texte commence à la position i, on compare les premiers caractères du motif avec les caractères à partir de l'indice i du texte</em>\n"
   ]
  },
  {
   "cell_type": "code",
   "execution_count": null,
   "id": "fcb91c78-278a-4d4e-a90c-1dd8dde20db5",
   "metadata": {},
   "outputs": [
    {
     "name": "stdout",
     "output_type": "stream",
     "text": [
      "True\n",
      "True\n",
      "False\n",
      "False\n"
     ]
    }
   ],
   "source": [
    "texte = \"mon texte tout en minuscules\"\n",
    "\n",
    "def sous_chaine_naif(texte, motif):\n",
    "    for i in range(len(texte) - len(motif) + 1):\n",
    "        #pour ne pas dépasser l'index, on parcourt le motif dans la liste\n",
    "        trouve = True\n",
    "        for j in range(len(motif)):\n",
    "            if texte[i + j] != motif[j]: #comparaison par caractère\n",
    "                trouve = False\n",
    "                break\n",
    "        if trouve: #si ça correspond\n",
    "            return True\n",
    "    return False\n",
    "\n",
    "print(sous_chaine_naif(texte, \"mon\"))\n",
    "print(sous_chaine_naif(texte, \"en\"))\n",
    "print(sous_chaine_naif(texte, \"ma\"))\n",
    "print(sous_chaine_naif(texte, \"lest\"))"
   ]
  },
  {
   "cell_type": "markdown",
   "id": "932b0e08-4242-43a0-bb9b-ab77ad5745b1",
   "metadata": {},
   "source": [
    "Bien, maintenant, on va implémenter la recherche par tableau de suffixes.\n",
    "\n",
    "### 1.2 Recherche par tableau de suffixes\n",
    "\n",
    "Mais avant de pouvoir implémenter cette fonction, il faut déjà qu'on ait une fonction de comparaison lexicographique. Oui, Python sait le faire lui-même, mais on va quand même implémenter la nôtre, afin de voir si on maitrise bien le principe.\n",
    "\n",
    "La fonction qu'on va coder prend deux chaines en paramètre, et renvoie&nbsp;:\n",
    " * -1 si la première est plus petite que la seconde\n",
    " * 1 si la seconde est plus petite que la première\n",
    " * 0 si les deux sont égales\n",
    "\n",
    "Faites-le en deux temps&nbsp;:\n",
    "1. Vérifiez les caractères des deux chaines sur les indices communs aux deux\n",
    "2. Si ça ne permet pas de déterminer l'ordre, comparez ensuite les tailles"
   ]
  },
  {
   "cell_type": "code",
   "execution_count": 2,
   "id": "b5fb859d-25a8-495f-98b9-be8165636b7f",
   "metadata": {},
   "outputs": [
    {
     "name": "stdout",
     "output_type": "stream",
     "text": [
      "1\n"
     ]
    }
   ],
   "source": [
    "def ordre_lexico(texte1:str, texte2:str):\n",
    "    # -1 si texte1 < texte2,\n",
    "    # 0 si texte1 = texte2,\n",
    "    # 1 si texte1 > texte2\n",
    "\n",
    "    taille1 = len(texte1)\n",
    "    taille2 = len(texte2)\n",
    "    min_taille = min(taille1, taille2)\n",
    "    \n",
    "    # Vérification sur les indexes communs\n",
    "    for i in range(min_taille):\n",
    "        if texte1[i]<texte2[i]:\n",
    "            return -1\n",
    "        elif texte1[i]>texte2[i]:\n",
    "            return 1\n",
    "\n",
    "    # Égalité sur la partie commune, comparaison des tailles\n",
    "    if taille1<taille2:\n",
    "        return -1\n",
    "    elif taille1>taille2:\n",
    "        return 1\n",
    "    elif taille1==taille2:\n",
    "        return 0\n",
    "\n",
    "print(ordre_lexico(\"test\", \"bonjour\"))"
   ]
  },
  {
   "cell_type": "markdown",
   "id": "d33a39db-69a0-405a-92e9-563ffae845e8",
   "metadata": {},
   "source": [
    "Deuxième étape, la plus compliquée (mais qui reste très faisable), générer le tableau des suffixes. Pour ça, il faut&nbsp;:\n",
    " * Parcourir le texte\n",
    " * Générer le suffixe courant (le slicing devrait vous aider)\n",
    " * L'insérer à la bonne position dans le tableau des suffixes.\n",
    "     * Parcourir le tableau\n",
    "     * S'arrêter dès que le suffixe en cours est plus grand que celui qu'on veut insérer\n",
    "     * [Insérer](https://docs.python.org/3/tutorial/datastructures.html) la valeur à cet endroit\n",
    "\n",
    "Une petite remarque concernant l'implémentation&nbsp;: Vous pouvez implémenter cette fonction avec un \n",
    "<code class=\"language-python\"><span class=\"ͼs\">while</span></code> qui itère sur la taille du tableau de suffixes. Mais il est aussi possible d'utiliser `enumerate`, qui vous permet d'itérer à la fois sur le contenu d'une liste et l'index de ce contenu. Vous pouvez même associer un <code class=\"language-python\"><span class=\"ͼs\">else</span></code> au <code class=\"language-python\"><span class=\"ͼs\">for</span></code>. Ce <code class=\"language-python\"><span class=\"ͼs\">else</span></code> sera exécuté sauf si un <code class=\"language-python\"><span class=\"ͼs\">break</span></code> a lieu au sein de la boucle (ce qui sera utile si votre recherche vous amène tout au bout du tableau des suffixes)."
   ]
  },
  {
   "cell_type": "code",
   "execution_count": 3,
   "id": "37b8ea83-34aa-4c16-8703-f8e6d9f776b7",
   "metadata": {},
   "outputs": [
    {
     "name": "stdout",
     "output_type": "stream",
     "text": [
      "['A', 'ACA', 'ATTACA', 'CA', 'GATTACA', 'TACA', 'TTACA']\n"
     ]
    }
   ],
   "source": [
    "def tableau_suffixes(texte):\n",
    "    suffixes = []\n",
    "\n",
    "    # On parcourt le texte pour insérer\n",
    "    # tous les suffixes de ce texte dans la liste\n",
    "    for i in range(len(texte)):\n",
    "        s = texte[i:]\n",
    "\n",
    "        # Calcul de l'indice de liste auquel insérer le suffixe\n",
    "        #À COMPLÉTER\n",
    "        # Insertion de la position à l'indice calculé\n",
    "        j = 0\n",
    "        while j < len(s):\n",
    "            #compare le suffixe de texte avec le suffixe de l'index j\n",
    "            if ordre_lexico(s, s[j]) < 0:\n",
    "                suffixes.insert(j, s)\n",
    "                break\n",
    "            j +=1\n",
    "        else:\n",
    "            suffixes.append(s)\n",
    "    suffixes.sort()\n",
    "    return suffixes  # Liste de listes de caractères (suffixes) triées\n",
    "\n",
    "print(tableau_suffixes(\"GATTACA\"))"
   ]
  },
  {
   "cell_type": "markdown",
   "id": "2ae4fa83-68c4-48bf-a0ac-83948a2748c2",
   "metadata": {},
   "source": [
    "Maintenant, il ne nous reste plus qu'à implémenter la recherche en elle-même. Pensez à déclarer en global le tableau de suffixes, ça ne sert à rien de le recalculer à chaque recherche, tant que le texte ne change pas.\n",
    "\n",
    "Vous pouvez implémenter une recherche linéaire (qui parcourt tout le tableau des suffixes dans l'ordre), mais une recherche dichotomique donnera quand même de bien meilleurs résultats, notamment sur les grandes chaines. Pour rappel, le principe de la recherche dichotomique sur une liste triée consiste à&nbsp;:\n",
    " * regarder au milieu du tableau si la valeur est présente\n",
    " * si elle ne l'est pas, regarder dans le sous-tableau qui serait susceptible de la contenir (la partie de gauche si la valeur du milieu est plus grande que celle qu'on cherche, la partie de droite sinon)\n",
    "\n",
    "Évidemment, quand on regarde dans une sous-partie, on regarde à nouveau au milieu de cette sous-partie&nbsp;:\n",
    "<center><img style=\"width:50%;\" src=\"attachment:793f8b3b-af5f-4299-bdf1-fd8f333c9fa1.png\"></center>\n",
    "\n",
    "Voici une présentation détaillée de l'algorithme de recherche dichotomique (vous noterez qu'il s'applique à une liste d'éléments quelconque, du moment qu'on peut les comparer). Implémentez cet algorithme pour qu'il détermine si la chaine est présente dans le tableau des suffixes. Il s'agit quasiment de traduire en Python chaque instruction. Seule la comparaison entre $tableau[milieu]$ et $valeur$ doit être adaptée, puisqu'elle va utiliser votre fonction <code class=\"language-python\"><span class=\"ͼv\">ordre_lexico</span></code>.\n",
    "\n",
    "Un détail&nbsp;: Dans l'algorithme, on renvoie l'indice auquel se trouve la valeur recherchée (ou -1 si elle est absente). Vous n'avez pas besoin de cette information, adaptez l'algorithme pour renvoyer uniquement un booléen indiquant si la valeur est présente ou pas.\n",
    "\n",
    "<table style=\"text-align:left;border-left: 1px solid black;border-collapse: collapse;margin-left:0\">\n",
    "   <tr>\n",
    "      <td colspan=\"4\">Fonction RechercheDichotomique($tableau$, $valeur$)</td>\n",
    "   </tr>\n",
    "   <tr>\n",
    "      <td style=\"border-left: 1px solid black;padding: 15px;\"></td>\n",
    "      <td colspan=\"3\">$gauche \\leftarrow 0$</td>\n",
    "   </tr>\n",
    "   <tr>\n",
    "      <td style=\"border-left: 1px solid black;\"></td>\n",
    "      <td colspan=\"3\">$droite \\leftarrow |tableau| - 1$</td>\n",
    "   </tr>\n",
    "   <tr>\n",
    "      <td style=\"border-left: 1px solid black;\"></td>\n",
    "      <td colspan=\"3\">Tant que $gauche \\leq droite$ faire</td>\n",
    "   </tr>\n",
    "   <tr>\n",
    "      <td style=\"border-left: 1px solid black;\"></td>\n",
    "      <td style=\"border-left: 1px solid black;padding: 15px;\"></td>\n",
    "      <td style=\"\" colspan=\"2\"> $milieu \\leftarrow \\left\\lfloor\\frac{\\text{gauche} + \\text{droite}}{2}\\right\\rfloor$</td>\n",
    "   </tr>\n",
    "   <tr>\n",
    "      <td style=\"border-left: 1px solid black;\"></td>\n",
    "      <td style=\"border-left: 1px solid black;\"></td>\n",
    "      <td colspan=\"2\">Si $tableau[milieu] = valeur$</td>\n",
    "   </tr>\n",
    "   <tr>\n",
    "      <td style=\"border-left: 1px solid black;\"></td>\n",
    "      <td style=\"border-left: 1px solid black;\"></td>\n",
    "      <td style=\"border-left: 1px solid black;;\"></td>\n",
    "      <td>Retourner $milieu$</td>\n",
    "   </tr>\n",
    "   <tr>\n",
    "      <td style=\"border-left: 1px solid black;\"></td>\n",
    "      <td style=\"border-left: 1px solid black;\"></td>\n",
    "       <td colspan=\"2\">Sinon Si $tableau[milieu] < valeur$ alors</td>\n",
    "   </tr>\n",
    "   <tr>\n",
    "      <td style=\"border-left: 1px solid black;\"></td>\n",
    "      <td style=\"border-left: 1px solid black;\"></td>\n",
    "      <td style=\"border-left: 1px solid black;\"></td>\n",
    "      <td>$gauche \\leftarrow milieu + 1$</td>\n",
    "   </tr>\n",
    "   <tr>\n",
    "      <td style=\"border-left: 1px solid black;\"></td>\n",
    "      <td style=\"border-left: 1px solid black;\"></td>\n",
    "      <td colspan=\"2\">Sinon</td>\n",
    "   </tr>\n",
    "   <tr>\n",
    "      <td style=\"border-left: 1px solid black;\"></td>\n",
    "      <td style=\"border-left: 1px solid black;\"></td>\n",
    "      <td style=\"border-left: 1px solid black;\"></td>\n",
    "      <td>$droite \\leftarrow milieu - 1$</td>\n",
    "   </tr>\n",
    "   <tr>\n",
    "      <td style=\"border-left: 1px solid black;\"></td>\n",
    "      <td colspan=\"3\">Retourner $-1$ <em>// Valeur non trouvée</em></td>\n",
    "   </tr>\n",
    "</table>"
   ]
  },
  {
   "cell_type": "code",
   "execution_count": null,
   "id": "4a406b3b-72f5-40b1-a44a-89c12b87f4e9",
   "metadata": {},
   "outputs": [
    {
     "data": {
      "text/plain": [
       "False"
      ]
     },
     "execution_count": 4,
     "metadata": {},
     "output_type": "execute_result"
    }
   ],
   "source": [
    "def sous_chaine(texte_principal, sous_chaine):\n",
    "    global suffixes\n",
    "#['A', 'ACA', 'ATTACA', 'CA', 'GATTACA', 'TACA', 'TTACA']\n",
    "    # Calcul des indices droit et gauche de départ\n",
    "    len_sous = len(sous_chaine) # pour comparer les suffixes / ATTA = 4\n",
    "    gauche = 0 #indice début \n",
    "    droite = len(suffixes) - 1 #indice fin / = 7\n",
    "    \n",
    "    while gauche <= droite: #tant qu'il y a de quoi comparer\n",
    "        millieu = (gauche + droite) // 2 # (0+7) // 2 = 3 \n",
    "        suffixe = suffixes[millieu][:len_sous] # s_chaine = \"ATTA\" et s[m] = \"CA\" \n",
    "        comparaison = ordre_lexico(sous_chaine, suffixe)\n",
    "        if comparaison == 0:\n",
    "            return True\n",
    "        elif comparaison < 0:\n",
    "            droite = millieu -1 # à gauche\n",
    "        else:\n",
    "            gauche = millieu + 1\n",
    "        \n",
    "    return False\n",
    "    \n",
    "\n",
    "texte = \"GATTACA\"\n",
    "suffixes = tableau_suffixes(texte)\n",
    "sous_chaine(texte, \"ATTA\")\n",
    "sous_chaine(texte, \"ATA\")"
   ]
  },
  {
   "cell_type": "markdown",
   "id": "5796d040-e7c4-4ab8-a7d3-46b4d1a4f6e7",
   "metadata": {},
   "source": [
    "Voilà, ça marche&nbsp;! Par contre, à moins de manipuler de très grosses chaînes de caractères (le genre qui intéresse les généticiens), on ne va pas tellement sentir la différence. Pour information, Python offre une méthode similaire, `find` qui implémente l'[algorithme de Boyer-Moore-Horspool](https://fr.wikipedia.org/wiki/Algorithme_de_Boyer-Moore-Horspool), et qui a le bon goût d'occuper beaucoup moins de mémoire. Une fois qu'on a compris le principe, il n'est pas si compliqué à implémenter, vous pourriez essayer."
   ]
  },
  {
   "cell_type": "markdown",
   "id": "f973260e-5f20-475a-a411-4f1492f60798",
   "metadata": {},
   "source": [
    "## 2. Automates finis déterministes\n",
    "\n",
    "On va maintenant s'attaquer à un autre sujet&nbsp;: la vérification de format d'une chaîne de caractères. On ne va pas pousser aussi loin que l'implémentation d'un moteur d'[expression régulière](https://fr.wikipedia.org/wiki/Expression_r%C3%A9guli%C3%A8re) (ce serait faisable, mais complexe, et faute de techniques algorithmiques sophitiquées, on risquerait d'avoir un nombre exponentiel d'états), mais on va déjà voir deux exemples, et vous pourrez réutiliser la technique, elle est à la fois très pratique et facile à implémenter.\n",
    "\n",
    "### 2.1 Validation d'adresse email \n",
    "\n",
    "On va écrire une fonction qui vérifie si un texte est une adresse email. Il faut vérifier ce format&nbsp;: `<compte>@<domaine>.<extension>`. Commencez par dessiner l'automate à états fini qui valide ce format. pour simplifier, on va considérer que seules les lettres minuscules sont autorisées dans les noms de compte et de domaine. Vous pouvez noter `a-z` cet ensemble, et `$` la fin du texte, ce sont des notations standards. Et notez l'état final avec un double cercle, comme dans le cours. Un outil comme [draw.io](https://app.diagrams.net/) pourra vous aider à générer le diagramme (un conseil&nbsp;: sauvegardez-le en SVG), et vous pourrez même le glisser-déposer sur cette cellule pour garder le résultat dans le Notebook.\n",
    "\n",
    "<em></em>\n",
    "\n",
    "Bien, maintenant, on va simplement implémenter une structure de données Python pour représenter ce [graphe](https://fr.wikipedia.org/wiki/Graphe_(math%C3%A9matiques_discr%C3%A8tes)). On va implémenter une solution à mi-chemin entre une [liste d'adjacence](https://fr.wikipedia.org/wiki/Liste_d%27adjacence) et une [matrice d'adjacence](https://fr.wikipedia.org/wiki/Matrice_d%27adjacence), en exploitant les capacités de Python&nbsp;: On va représenter le graphe par un dictionnaire dont les clés sont les sommets. Pour chaque sommet, il faudra ajouter sa liste de transitions, là aussi sous forme de dictionnaire. Dans ce sous-dictionnaire, la clé est le symbole en entrée, et la valeur est le sommet de sortie.\n",
    "\n",
    "Par exemple, pour cet automate&nbsp;:<br><br>\n",
    "<img src=\"data:image/svg+xml,%3Csvg%20xmlns%3D%22http%3A%2F%2Fwww.w3.org%2F2000%2Fsvg%22%20width%3D%22260%22%20height%3D%2271%22%20overflow%3D%22hidden%22%20xmlns%3Av%3D%22https%3A%2F%2Fvecta.io%2Fnano%22%3E%3Cstyle%3E%3C!%5BCDATA%5B.B%7Bfill%3A%23940654%7D.C%7Bfont-family%3ACambria%20Math%2CCambria%20Math_MSFontService%2Csans-serif%7D.D%7Bfont-style%3Aoblique%7D.E%7Bstroke-width%3A2.667%7D.F%7Bstroke-miterlimit%3A8%7D%5D%5D%3E%3C%2Fstyle%3E%3Cuse%20href%3D%22%23B%22%20stroke%3D%22%2369043b%22%20fill%3D%22none%22%20class%3D%22E%20F%22%2F%3E%3Ctext%20font-size%3D%2224%22%20transform%3D%22translate(27%2044)%22%20class%3D%22B%20C%20D%22%3Ea%3C%2Ftext%3E%3Cpath%20d%3D%22M68.5%2034.167h111.889v2.666H68.5zm110.556-5.334l13.333%206.667-13.333%206.667z%22%20fill%3D%22%2369043b%22%2F%3E%3Ctext%20font-size%3D%2221%22%20transform%3D%22translate(115.88%2028)%22%20class%3D%22B%20C%20D%22%3E0%3C%2Ftext%3E%3Ctext%20font-size%3D%2221%22%20transform%3D%22translate(127.714%2028)%22%20class%3D%22B%20C%20D%22%3E-%3C%2Ftext%3E%3Ctext%20font-size%3D%2221%22%20transform%3D%22translate(134.88%2028)%22%20class%3D%22B%20C%20D%22%3E9%3C%2Ftext%3E%3Cuse%20href%3D%22%23B%22%20x%3D%22190%22%20stroke%3D%22%2369043b%22%20fill%3D%22none%22%20class%3D%22E%20F%22%2F%3E%3Ctext%20font-size%3D%2224%22%20transform%3D%22translate(216.353%2044)%22%20class%3D%22B%20C%20D%22%3Eb%3C%2Ftext%3E%3Cdefs%20%3E%3Cpath%20id%3D%22B%22%20d%3D%22M2.5%2035.5c0-18.225%2014.775-33%2033-33s33%2014.775%2033%2033-14.775%2033-33%2033-33-14.775-33-33z%22%2F%3E%3C%2Fdefs%3E%3C%2Fsvg%3E\">\n",
    "\n",
    "On aura&nbsp;:\n",
    "```python\n",
    "{\n",
    "    \"a\": {\n",
    "        \"0\": \"b\",\n",
    "        \"1\": \"b\",\n",
    "        ...,\n",
    "        \"9\": \"b\",\n",
    "     },\n",
    "    \"b\": {}\n",
    "}\n",
    "```\n",
    "Notez que le dictionnaire vide associé au sommet `b` est important, même si `b` n'a pas de successeurs.\n",
    "\n",
    "Implémentez le graphe correspondant à votre automate. Mais on ne va pas implémenter les 26 transitions correspondant aux 26 lettres de l'alphabet, ce serait trop long, donc restreignez-vous aux 3 première lettres."
   ]
  },
  {
   "cell_type": "code",
   "execution_count": null,
   "id": "9164ee5d-33bb-4b0b-8b60-9f2f58e3a4f1",
   "metadata": {},
   "outputs": [],
   "source": [
    "automate = {\n",
    "    \"d\": {\n",
    "        \"a\": \"compte\", \"b\": \"compte\", \"c\": \"compte\" \n",
    "    },\n",
    "    \"compte\":{\n",
    "        \"a\": \"compte\", \"b\": \"compte\", \"c\": \"compte\",\n",
    "        \"@\": \"arobase\"\n",
    "    },\n",
    "    \"arobase\":{\n",
    "        \"a\": \"domaine\", \"b\": \"domaine\", \"c\": \"domaine\",\n",
    "    },\n",
    "    \"domaine\":{\n",
    "        \"a\": \"domaine\", \"b\": \"domaine\", \"c\": \"domaine\",\n",
    "        \".\": \"point\"\n",
    "    },\n",
    "    \"point\":{\n",
    "        \"a\": \"extension\", \"b\": \"extension\", \"c\": \"extension\"\n",
    "    },\n",
    "    \"extension\":{\n",
    "        \"a\": \"extension\", \"b\": \"extension\", \"c\": \"extension\",\n",
    "        \"$\": \"final\"\n",
    "    },\n",
    "    \"f\" : {}\n",
    "}"
   ]
  },
  {
   "cell_type": "markdown",
   "id": "c233dd3b-5cd6-4baa-af8f-c59510501e16",
   "metadata": {},
   "source": [
    "Bien, maintenant, il ne reste plus qu'à implémenter un _parcours_ sur ce graphe, en partant de l'état initial. À chaque itération, on lit un nouveau caractère dans la chaîne, et on passe d'un sommet du graphe au suivant selon le caractère lu. Si on termine la lecture sur l'état final, c'est que la chaîne respecte le format, sinon c'est que la chaîne est invalide.\n",
    "\n",
    "Et on va tester cette fonction sur un certain nombre de cas, pour vérifier si on ne s'est pas trompé."
   ]
  },
  {
   "cell_type": "code",
   "execution_count": 14,
   "id": "acd5a6fc-9c21-43c8-a79b-066d02be367f",
   "metadata": {},
   "outputs": [
    {
     "name": "stdout",
     "output_type": "stream",
     "text": [
      "abc@bac.bc est une adresse email valide\n",
      "abc@.bac est une adresse email invalide\n",
      "abc@bac est une adresse email invalide\n",
      "abc@bac. est une adresse email invalide\n",
      "@bac.bc est une adresse email invalide\n",
      "bac.ba est une adresse email invalide\n"
     ]
    }
   ],
   "source": [
    "\n",
    "def verif_adresse(adresse):\n",
    "    automate = {\n",
    "    \"d\": {\n",
    "        \"a\": \"compte\", \"b\": \"compte\", \"c\": \"compte\" \n",
    "    },\n",
    "    \"compte\":{\n",
    "        \"a\": \"compte\", \"b\": \"compte\", \"c\": \"compte\",\n",
    "        \"@\": \"arobase\"\n",
    "    },\n",
    "    \"arobase\":{\n",
    "        \"a\": \"domaine\", \"b\": \"domaine\", \"c\": \"domaine\",\n",
    "    },\n",
    "    \"domaine\":{\n",
    "        \"a\": \"domaine\", \"b\": \"domaine\", \"c\": \"domaine\",\n",
    "        \".\": \"point\"\n",
    "    },\n",
    "    \"point\":{\n",
    "        \"a\": \"extension\", \"b\": \"extension\", \"c\": \"extension\"\n",
    "    },\n",
    "    \"extension\":{\n",
    "        \"a\": \"extension\", \"b\": \"extension\", \"c\": \"extension\",\n",
    "        \"$\": \"f\"\n",
    "    },\n",
    "    \"f\" : {}\n",
    "}\n",
    "    etat_final = \"f\"\n",
    "\n",
    "    etat = \"d\"\n",
    "\n",
    "    # Parcours du graphe\n",
    "    for caractere in adresse + \"$\":\n",
    "        if caractere in automate[etat]:\n",
    "            etat = automate[etat][caractere]\n",
    "        else:\n",
    "            return False\n",
    "    return etat == etat_final\n",
    "\n",
    "for a in \"abc@bac.bc\", \"abc@.bac\", \"abc@bac\", \"abc@bac.\", \"@bac.bc\", \"bac.ba\":\n",
    "    print(f\"{a} est une adresse email {\"valide\" if verif_adresse(a) else \"invalide\"}\")\n"
   ]
  },
  {
   "cell_type": "markdown",
   "id": "91eab2e3-f87e-4a19-867e-39e76c8c535d",
   "metadata": {},
   "source": [
    "Pour ceux qui sont motivés, voici une solution pour générer toutes les transitions des symboles alphabétiques&nbsp;:\n",
    "```python\n",
    "lettres = set(\"abcdefghijklmnopqrstuvwxyz\")\n",
    "\n",
    "automate = {\"état 1\": {c: \"état 2\" for c in lettres} |\n",
    "                      {\"autre symbole\": \"état 3\"},\n",
    "            \"état 2\":{...}\n",
    "    }\n",
    "\n",
    "```\n",
    "Cette solution utilise&nbsp;:\n",
    " * une compréhension pour générer un dictionnaire de transitions d'un symbole alphabétique vers <code class=\"language-python\"><span class=\"ͼ12\">\"état 2\"</span></code>\n",
    " * l'opérateur de fusion de dictionnaires <code class=\"language-python\"><span class=\"ͼ10\">|</span></code> pour ajouter à ce dictionnaire une autre transition vers <code class=\"language-python\"><span class=\"ͼ12\">\"état 3\"</span> </code>\n",
    " \n",
    "et associe le dictionnaire généré à <code class=\"language-python\"><span class=\"ͼ12\">\"état 1\"</span></code>. D'ailleurs, cette technique permet de faire des vérifications un peu plus poussées, en incluant tous les caractères autorisés dans une adresse (dont les chiffres, <code class=\"language-python\"><span class=\"ͼ12\">\"_\"</span></code>, <code class=\"language-python\"><span class=\"ͼ12\">\"-\"</span></code>, <code class=\"language-python\"><span class=\"ͼ12\">\".\"</span></code>etc.).\n",
    "\n",
    "\n",
    "### 2.2 Validation d'expression arithmétique\n",
    "\n",
    "Bon, ça c'était un format facile à vérifier. Maintenant, on va reprendre la vérification d'expression arithmétique du cours, et on va ajouter&nbsp;:\n",
    " * La gestion des nombres réels\n",
    " * La gestion des nombres négatifs\n",
    "\n",
    "Comme la fois précédente, commencez par trouver l'automate, le reste suivra facilement.\n",
    "\n",
    "<em></em>\n",
    "\n",
    "Maintenant, il ne reste plus qu'à réimplémenter la vérification. Ce serait presque un copier-coller du code précédent (à part l'automate lui-même bien sûr), à un petit détail près... Lequel&nbsp;?\n",
    "\n",
    "<em>À COMPLÉTER</em>\n",
    "\n",
    "Cette fois, couvrez tous les caractères possibles, en utilisant la technique mentionnée au dessus pour les chiffres, mais aussi les opérations. Au pire, ajoutez une cellule de code et entrainez-vous sur cet exemple avant d'implémenter la vérification."
   ]
  },
  {
   "cell_type": "code",
   "execution_count": 15,
   "id": "2de90b6d-4d29-4474-8bf8-73b1c543b952",
   "metadata": {},
   "outputs": [
    {
     "name": "stdout",
     "output_type": "stream",
     "text": [
      "3+14 est un calcul valide\n",
      "-3/8 est un calcul valide\n",
      "17,45x-8 est un calcul valide\n",
      "75,2 est un calcul valide\n",
      "3+, est un calcul invalide\n",
      "-5,+4 est un calcul invalide\n"
     ]
    }
   ],
   "source": [
    "def verif_calcul(calcul):\n",
    "    chiffres = set(\"0123456789\")\n",
    "    operations = set(\"+-x/\")\n",
    "    automate = {\n",
    "        \"d\": {c: \"entier\" for c in chiffres} |\n",
    "             {\"-\": \"neg\"},\n",
    "        \"neg\": {c: \"entier\" for c in chiffres},\n",
    "        \"entier\" : {c: \"entier\" for c in chiffres} |\n",
    "            {\",\" : \"decimal\", \"+\" : \"operateur\", \"-\" : \"operateur\", \"x\": \"operateur\", \"/\": \"operateur\"},\n",
    "        \"decimal\":{c: \"entier\" for c in chiffres},\n",
    "        \"operateur\":{c: \"entier\" for c in chiffres} | {\"-\": \"neg\"},\n",
    "        \"f\" : {}\n",
    "\n",
    "    }\n",
    "    etats_finaux = {\"entier\", \"decimal\"}\n",
    "    etat = \"d\"\n",
    "\n",
    "    for caractere in calcul:\n",
    "        if caractere in automate[etat]:\n",
    "            etat = automate[etat][caractere]\n",
    "        else:\n",
    "            return False\n",
    "    return etat in etats_finaux   \n",
    "\t\n",
    "for c in \"3+14\", \"-3/8\", \"17,45x-8\", \"75,2\", \"3+,\", \"-5,+4\":\n",
    "    print(f\"{c} est un calcul {\"valide\" if verif_calcul(c) else \"invalide\"}\")"
   ]
  },
  {
   "cell_type": "markdown",
   "id": "6ffb36b5-835a-4f41-9a9a-220b377cc391",
   "metadata": {},
   "source": [
    "Ce qui serait intéressant, ce serait de pouvoir aussi vérifier les calculs utilisant des parenthèses. Pourquoi un automate à états finis ne suffit pas&nbsp;?\n",
    "\n",
    "<em>À COMPLÉTER</em>\n",
    "\n",
    "Comment pourrait-on adapter l'algorithme utilisant un automate pour gérer ce problème&nbsp;?\n",
    "\n",
    "<em>À COMPLÉTER</em>\n",
    "\n",
    "Implémentez cette validation, et vérifiez si elle fonctionne."
   ]
  },
  {
   "cell_type": "code",
   "execution_count": 30,
   "id": "2f804abb-79ba-4208-9a7b-004b5edb7f4d",
   "metadata": {},
   "outputs": [],
   "source": [
    "def verif_calcul(calcul):\n",
    "    #À COMPLÉTER\n",
    "\n",
    "for c in \"3+14\", \"-3/8\", \"17,45x-8\", \"75,2\", \"3+,\", \"-5,+4\", \"(3+5)\", \"3+(4x(2-1,5))\", \"3+(4x(2-1,5)\", \"3+4)\", \")(3+5\", \"())\", \"()\":\n",
    "    print(f\"{c} est un calcul {'valide' if verif_calcul(c) else 'invalide'}\")"
   ]
  },
  {
   "cell_type": "markdown",
   "id": "edac0e16-6ccd-4247-8a43-448eb8c14290",
   "metadata": {},
   "source": [
    "## Conclusion\n",
    "\n",
    "Si on voulait aller plus loin, il faudrait se doter d'outils mathématiques et algorithmiques plus puissants (issus notamment de la théorie des langages algébriques). Mais ces automates à états finis déterministes (oui, parce qu'il en existe aussi avec des probabilités de transition...) offrent déjà beaucoup de possibilités, et sont souvent très utiles, gardez-les en tête&nbsp;!"
   ]
  }
 ],
 "metadata": {
  "kernelspec": {
   "display_name": "base",
   "language": "python",
   "name": "python3"
  },
  "language_info": {
   "codemirror_mode": {
    "name": "ipython",
    "version": 3
   },
   "file_extension": ".py",
   "mimetype": "text/x-python",
   "name": "python",
   "nbconvert_exporter": "python",
   "pygments_lexer": "ipython3",
   "version": "3.12.9"
  }
 },
 "nbformat": 4,
 "nbformat_minor": 5
}
