{
 "cells": [
  {
   "cell_type": "markdown",
   "metadata": {},
   "source": [
    "<img style=\"position: absolute;right: 0;\" src=\"data:image/svg+xml,%3Csvg%20height%3D%2295.834%22%20width%3D%2289.004%22%20xml%3Aspace%3D%22preserve%22%20xmlns%3D%22http%3A%2F%2Fwww.w3.org%2F2000%2Fsvg%22%3E%3Cpath%20style%3D%22fill%3A%230092bd%3Bfill-opacity%3A1%3Bfill-rule%3Anonzero%3Bstroke%3Anone%3Bstroke-width%3A.721541%22%20d%3D%22m39.987%200%204.506%2056.336L48.986%200ZM0%2041.473c7.22%205.11%2030.7%2021.33%2030.7%2021.33L0%2032.02Zm0-11.61%2032.69%2031.06L0%2016.767ZM29.056%200l12.985%2056.536L38.711%200Zm10.6%2057.1L27.769%200H6.177c-3.4%200-6.17%202.9-6.17%206.475v8.1l34.915%2044.747L6.458%206.202c.354-.212.688-.426%201.038-.637l29.558%2052.46L16.56%201.037c.359-.153.73-.314%201.1-.46zM0%2071.853c.422.088%201.091.171%202.013.171l24.83.066C19.369%2070.775%202.508%2068.863%200%2068.42Zm0-5.447c3.731.656%2027.2%203.62%2027.2%203.62S4.3%2062.468%200%2061.001zm0-15.54c6.295%203.108%2029.304%2014.059%2029.304%2014.059S6.777%2048.527%200%2043.546zm0%208.139c3.968%201.254%2028.244%208.561%2028.244%208.561S6.312%2056.218%200%2052.914zm86.24%2013.332c1.567%200%202.415-.237%202.764-.4V68.42c-2.588.466-19.182%202.52-26.645%203.854zM82.824%200h-21.59L49.692%2056.966%2071.312.573c.006%200%20.012.01.016.015l.008-.015c.37.146.749.312%201.123.463l-20.155%2057.21%2029.174-52.68c.005.013.009.013.017.018l.013-.018c.34.219.68.425%201.04.636l-27.79%2053.337%2034.245-44.987V6.473C89.003%202.897%2086.226%200%2082.824%200m-26.14%2061.16%2032.318-31.326V16.772Zm32.319-19.705V32.02l-30.64%2031.05c1.523-1.081%2023.69-16.692%2030.64-21.615M50.294%200l-3.01%2056.388L60.234%200Zm38.709%2066.406v-5.41c-4.247%201.447-26.813%208.905-27.178%209.026.87-.129%2023.62-2.998%2027.178-3.616m0-15.558v-7.302c-6.614%204.845-28.127%2020.823-29.264%2021.673%201.365-.679%2023.203-11.375%2029.264-14.37m0%208.149v-6.084c-6.209%203.252-27.195%2014.27-27.9%2014.64%201.215-.383%2024.118-7.365%2027.9-8.556%22%2F%3E%3Cpath%20style%3D%22fill%3A%2380ba27%3Bfill-opacity%3A1%3Bfill-rule%3Anonzero%3Bstroke%3Anone%3Bstroke-width%3A.721541%22%20d%3D%22M88.544%2074.062c-.455.13-1.204.249-2.304.249l-41.284.015L.87%2074.192a6.236%206.236%200%200%201-.842-.118v5.553c0%204.546%203.081%206.827%207.855%208.234%200%200%2032.092%207.973%2037.04%207.973%204.968%200%2036.218-7.973%2036.218-7.973%204.121-1.236%207.863-3.688%207.863-8.234v-5.718c-.106.047-.254.1-.46.153%22%2F%3E%3C%2Fsvg%3E\" alt=\"UVSQ Logo\"/>\n",
    "<h1><center>IN202 – Représentation des données</center></h1>\n",
    "<h2><center>TD 1 – Représentation de nombres</center></h2>"
   ]
  },
  {
   "cell_type": "markdown",
   "metadata": {},
   "source": [
    "Convertir en binaire le nombre 115 (division successive par 2).\n",
    "   \n",
    "<em> 1110011 </em>\n"
   ]
  },
  {
   "cell_type": "markdown",
   "metadata": {},
   "source": [
    "Donner la représentation de -115 en complément à 2 sur 8 bits.\n",
    "   \n",
    "<em>10001101</em>\n"
   ]
  },
  {
   "cell_type": "markdown",
   "metadata": {},
   "source": [
    "Donner la représentation de 12,625 comme un flottant.\n",
    "   \n",
    "<em>À COMPLÉTER</em>\n"
   ]
  },
  {
   "cell_type": "markdown",
   "metadata": {},
   "source": [
    "On représente un entier en binaire par une liste de 0 et de 1. Donner une fonction `conversionBase2(nombre)`\n",
    "qui transforme un entier en sa représentation binaire. Attention, les bits sont calculés dans l'ordre inverse\n",
    "(little endian), il faudra sans doute renverser la liste avec la méthode `.reverse()`."
   ]
  },
  {
   "cell_type": "code",
   "execution_count": 8,
   "metadata": {},
   "outputs": [
    {
     "data": {
      "text/plain": [
       "[1, 1, 1, 0, 0, 1, 1]"
      ]
     },
     "execution_count": 8,
     "metadata": {},
     "output_type": "execute_result"
    }
   ],
   "source": [
    "def conversionBase2(nombre):\n",
    "    if(nombre==0):\n",
    "        return [0]\n",
    "    res = []\n",
    "    while nombre != 0:\n",
    "        res.append(nombre%2)\n",
    "        nombre//=2\n",
    "    res.reverse()\n",
    "    return res\n",
    "\n",
    "conversionBase2(115)"
   ]
  },
  {
   "cell_type": "code",
   "execution_count": null,
   "metadata": {},
   "outputs": [
    {
     "data": {
      "text/plain": [
       "[1, 1, 0, 0, 1, 1, 1]"
      ]
     },
     "execution_count": 7,
     "metadata": {},
     "output_type": "execute_result"
    }
   ],
   "source": [
    "def conversionBase2(nombre):\n",
    "    if(nombre==0):\n",
    "        return [0]\n",
    "    res = []\n",
    "    while nombre != 0:\n",
    "        res.insert(0,nombre%2)\n",
    "        nombre//=2\n",
    "    res.reverse()\n",
    "    return res\n",
    "#revoir\n",
    "conversionBase2(115)"
   ]
  },
  {
   "cell_type": "markdown",
   "metadata": {},
   "source": [
    "Faire une fonction d'affichage d'une liste représentant un nombre en binaire. Pour afficher avec [`print`](https://docs.python.org/3/library/functions.html#print) sans passer à la ligne il faut utiliser l'argument optionnel <code class=\"language-python\">end<span class=\"ͼ10\">=</span><span class=\"ͼ12\">\"\"</span></code>"
   ]
  },
  {
   "cell_type": "code",
   "execution_count": 12,
   "metadata": {},
   "outputs": [
    {
     "name": "stdout",
     "output_type": "stream",
     "text": [
      "1110011\n"
     ]
    }
   ],
   "source": [
    "def afficheBase(liste):\n",
    "    for chiffre in liste:\n",
    "        print(chiffre, end=\"\")\n",
    "    print()\n",
    "afficheBase(conversionBase2(115))"
   ]
  },
  {
   "cell_type": "code",
   "execution_count": 11,
   "metadata": {},
   "outputs": [],
   "source": [
    "#pour modifier une liste tiliser l'index : for i in range(len(a)):\n",
    "                                                #liste[i]"
   ]
  },
  {
   "cell_type": "markdown",
   "metadata": {},
   "source": [
    "Convertir un nombre dans n'importe quelle base $b$ (représentée comme une liste des chiffres dans cette base).\n",
    "Que faut-il changer dans <code class=\"language-python\"><span class=\"ͼv\">conversionBase2</span></code> pour gérer n'importe quelle base ?"
   ]
  },
  {
   "cell_type": "code",
   "execution_count": 13,
   "metadata": {},
   "outputs": [
    {
     "name": "stdout",
     "output_type": "stream",
     "text": [
      "[1, 1, 1, 0, 0, 1, 1]\n"
     ]
    },
    {
     "data": {
      "text/plain": [
       "[1, 1, 0, 2, 1]"
      ]
     },
     "execution_count": 13,
     "metadata": {},
     "output_type": "execute_result"
    }
   ],
   "source": [
    "def conversionBase(nombre, b):\n",
    "    if(nombre==0):\n",
    "        return [0]\n",
    "    res = []\n",
    "    while nombre > 0:\n",
    "        res.append(nombre%b)\n",
    "        nombre//=b\n",
    "    res.reverse()\n",
    "    return res\n",
    "\n",
    "print(conversionBase(115,2))\n",
    "conversionBase(115,3)"
   ]
  },
  {
   "cell_type": "markdown",
   "metadata": {},
   "source": [
    "Quels sont les nombres entiers qu'on peut écrire avec $n$ chiffres en base $b$ ?\n",
    "\n",
    "<em> # b puissance n</em>\n"
   ]
  },
  {
   "cell_type": "markdown",
   "metadata": {},
   "source": [
    "Écrire une fonction d'affichage pour un nombre en Hexadécimal (en base 16). On rappelle que $10$ doit être représenté par `A`, $11$ par `B`..."
   ]
  },
  {
   "cell_type": "code",
   "execution_count": 32,
   "metadata": {},
   "outputs": [
    {
     "name": "stdout",
     "output_type": "stream",
     "text": [
      "[2, 2, 11, 8]\n",
      "22B8\n"
     ]
    }
   ],
   "source": [
    "def afficheBaseHexa(liste):\n",
    "    for v in liste:\n",
    "        if(v<=10):\n",
    "            print(v, end=\"\")\n",
    "        elif(v==10):\n",
    "            print(\"A\",end=\"\")\n",
    "        elif(v==11):\n",
    "            print(\"B\",end=\"\")\n",
    "        elif(v==12):\n",
    "            print(\"C\",end=\"\")\n",
    "        elif(v==13):\n",
    "            print(\"D\",end=\"\")\n",
    "        elif(v==14):\n",
    "            print(\"E\",end=\"\")\n",
    "        elif(v==15):\n",
    "            print(\"F\",end=\"\")\n",
    "    print()\n",
    "print(conversionBase(8888,16))\n",
    "afficheBaseHexa(conversionBase(8888,16))"
   ]
  },
  {
   "cell_type": "code",
   "execution_count": 38,
   "metadata": {},
   "outputs": [
    {
     "name": "stdout",
     "output_type": "stream",
     "text": [
      "22B8\n"
     ]
    }
   ],
   "source": [
    "def afficheBaseHexa(liste):\n",
    "    alphabet = [\"0\",\"1\",\"2\",\"3\",\"4\",\"5\",\"6\",\"7\",\"8\",\"9\",\"A\",\"B\",\"C\",\"D\",\"E\",\"F\"]\n",
    "    for v in liste:\n",
    "        print(alphabet[v],end=\"\")\n",
    "    print()\n",
    "afficheBaseHexa(conversionBase(8888,16))"
   ]
  },
  {
   "cell_type": "code",
   "execution_count": 39,
   "metadata": {},
   "outputs": [
    {
     "name": "stdout",
     "output_type": "stream",
     "text": [
      "22B8\n"
     ]
    }
   ],
   "source": [
    "def afficheBaseHexa(liste):\n",
    "    for v in liste:\n",
    "        if(v<=10):\n",
    "            print(v,end=\"\")\n",
    "        else:\n",
    "            print(chr(v+55),end=\"\")\n",
    "    print()\n",
    "afficheBaseHexa(conversionBase(8888,16))"
   ]
  },
  {
   "cell_type": "markdown",
   "metadata": {},
   "source": [
    "Donner la valeur de $(1001101)_2$ (dans la représentation traditionnelle en base 10).\n",
    "\n",
    "<em>$77_10$</em>\n",
    "\n",
    "Écrire une fonction qui transforme la représentation en base $b$ d'un entier en cet entier."
   ]
  },
  {
   "cell_type": "code",
   "execution_count": null,
   "metadata": {},
   "outputs": [
    {
     "name": "stdout",
     "output_type": "stream",
     "text": [
      "[1, 1, 1, 0, 0, 1, 1]\n"
     ]
    },
    {
     "data": {
      "text/plain": [
       "115"
      ]
     },
     "execution_count": 47,
     "metadata": {},
     "output_type": "execute_result"
    }
   ],
   "source": [
    "#def conversionEntier(liste,b): #on renverse la liste\n",
    "    res = 0\n",
    "    puissance = 0\n",
    "    for i in reversed(liste):\n",
    "        res += i * (b**puissance)\n",
    "        puissance += 1\n",
    "    return res\n",
    "\n",
    "test = conversionBase(115,2)\n",
    "print(test)\n",
    "conversionEntier(test,2)\n",
    "#tant que le b est inférieur ou égal à 10 sinon il faut manipuler des chaîne de charactères"
   ]
  },
  {
   "cell_type": "code",
   "execution_count": 62,
   "metadata": {},
   "outputs": [
    {
     "name": "stdout",
     "output_type": "stream",
     "text": [
      "[1, 1, 1, 0, 0, 1, 1]\n"
     ]
    },
    {
     "data": {
      "text/plain": [
       "115"
      ]
     },
     "execution_count": 62,
     "metadata": {},
     "output_type": "execute_result"
    }
   ],
   "source": [
    "def conversionEntier(liste,b): \n",
    "    res = 0\n",
    "    puissance = (len(liste)-1)\n",
    "    for i in range(len(liste)):\n",
    "        res += liste[i] * (b**puissance)\n",
    "        puissance -= 1\n",
    "    return res\n",
    "\n",
    "test = conversionBase(115,2)\n",
    "print(test)\n",
    "conversionEntier(test,2)"
   ]
  },
  {
   "cell_type": "code",
   "execution_count": null,
   "metadata": {},
   "outputs": [
    {
     "name": "stdout",
     "output_type": "stream",
     "text": [
      "[1, 1, 1, 0, 0, 1, 1]\n"
     ]
    },
    {
     "data": {
      "text/plain": [
       "103"
      ]
     },
     "execution_count": 58,
     "metadata": {},
     "output_type": "execute_result"
    }
   ],
   "source": [
    "#correction rajouter le inverse\n",
    "#def conversionEntier(liste,b): \n",
    "    res = 0\n",
    "    for index in range(len(liste)):\n",
    "        res += (b**index)*liste[index]\n",
    "    return res\n",
    "\n",
    "test = conversionBase(115,2)\n",
    "print(test)\n",
    "conversionEntier(test,2)"
   ]
  },
  {
   "cell_type": "code",
   "execution_count": null,
   "metadata": {},
   "outputs": [
    {
     "name": "stdout",
     "output_type": "stream",
     "text": [
      "[1, 1, 1, 0, 0, 1, 1]\n"
     ]
    },
    {
     "data": {
      "text/plain": [
       "103"
      ]
     },
     "execution_count": 59,
     "metadata": {},
     "output_type": "execute_result"
    }
   ],
   "source": [
    "#correction (plus vite) rajouter le inverse\n",
    "#def conversionEntier(liste,b): \n",
    "    res = 0\n",
    "    for index,val in enumerate(liste):\n",
    "        res += (b**index)*val\n",
    "    return res\n",
    "\n",
    "test = conversionBase(115,2)\n",
    "print(test)\n",
    "conversionEntier(test,2)\n"
   ]
  },
  {
   "cell_type": "code",
   "execution_count": null,
   "metadata": {},
   "outputs": [],
   "source": [
    "#correction\n",
    "#res = res *b +val (algo/méthode orner ?) démontrer par récurrence : avec 1 chiffres, puis n+1"
   ]
  },
  {
   "cell_type": "markdown",
   "metadata": {},
   "source": [
    "Additionner $(10001101)_2$ et $(10111001)_2$ à la main.\n",
    "\n",
    "<em>101000110</em>\n"
   ]
  },
  {
   "cell_type": "markdown",
   "metadata": {},
   "source": [
    "On a `l` un nombre en base $b$ et on veut l'écrire sur n chiffres (en ajoutant des 0 devant). Donner une fonction pour réaliser cette transformation."
   ]
  },
  {
   "cell_type": "code",
   "execution_count": 90,
   "metadata": {},
   "outputs": [
    {
     "data": {
      "text/plain": [
       "[[0, 0, 0], 1, 1, 1, 0, 0, 1, 1]"
      ]
     },
     "execution_count": 90,
     "metadata": {},
     "output_type": "execute_result"
    }
   ],
   "source": [
    "def etendreEcriture(l,n):\n",
    "    a=[]\n",
    "    b=n-len(l)\n",
    "    a.append(b*[0])\n",
    "    for i in l:\n",
    "        a.append(i)\n",
    "    return a\n",
    "\n",
    "#(len(l)-n)*[0]\n",
    "#(n-l)*0\n",
    "etendreEcriture(test,10)\n"
   ]
  },
  {
   "cell_type": "markdown",
   "metadata": {},
   "source": [
    "Réaliser ensuite un programme qui additionne la représentation en base $b$ de deux entiers."
   ]
  },
  {
   "cell_type": "code",
   "execution_count": null,
   "metadata": {},
   "outputs": [],
   "source": [
    "def addition(l1, l2, b):\n",
    "    length = max(len(l1), len(l2))\n",
    "    l1 = etendreEcriture(l1, length+1)\n",
    "    l2 = etendreEcriture(l2, length+1)\n",
    "    res=[]\n",
    "    retenue=0\n",
    "    for i in range(length):\n",
    "        r=(l1[i]+l2[i])//b\n",
    "        v=(l1[i]+l2[i])%b\n",
    "#à finir   \n",
    "\n",
    "    return res\n",
    "\n",
    "test1 = conversionBase(15,2)\n",
    "test2 = conversionBase(6,2)\n",
    "\n",
    "addition(test1,test2,2)"
   ]
  },
  {
   "cell_type": "markdown",
   "metadata": {},
   "source": [
    "La multiplication Égyptienne est basée sur la propriété suivante:\n",
    "* si $x$ est pair, $x\\times y = (x/2)\\times(y\\times2)$\n",
    "* si $x$ est impair, $x\\times y = (x/2)\\times(y\\times2) + y$\n",
    "\n",
    "Implémenter la multiplication et la division par 2 d'un nombre en binaire. \n",
    "S'en servir pour implémenter la multiplication Égyptienne en base 2. "
   ]
  },
  {
   "cell_type": "code",
   "execution_count": null,
   "metadata": {},
   "outputs": [],
   "source": [
    "def division(l):\n",
    "    #À COMPLÉTER\n",
    "\n",
    "def multiplication(l):\n",
    "    #À COMPLÉTER\n",
    "    \n",
    "def est_pair(l):\n",
    "    #À COMPLÉTER\n",
    "\n",
    "def est_zero(l):\n",
    "    #À COMPLÉTER\n",
    "\n",
    "def multiplication_egyptienne(l1, l2):\n",
    "    z = [0]\n",
    "    #À COMPLÉTER\n",
    "    return z \n",
    "\n",
    "\n",
    "test1 = conversionBase(15, 2)\n",
    "test2 = conversionBase(6, 2)\n",
    "print(multiplication_egyptienne(test1, test2))\n",
    "\n",
    "#"
   ]
  }
 ],
 "metadata": {
  "kernelspec": {
   "display_name": "l1-python",
   "language": "python",
   "name": "python3"
  },
  "language_info": {
   "codemirror_mode": {
    "name": "ipython",
    "version": 3
   },
   "file_extension": ".py",
   "mimetype": "text/x-python",
   "name": "python",
   "nbconvert_exporter": "python",
   "pygments_lexer": "ipython3",
   "version": "3.12.5"
  }
 },
 "nbformat": 4,
 "nbformat_minor": 4
}
