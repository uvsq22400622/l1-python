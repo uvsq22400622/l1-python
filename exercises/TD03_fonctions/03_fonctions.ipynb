{
 "cells": [
  {
   "cell_type": "markdown",
   "metadata": {},
   "source": [
    "# Instructions Générales\n",
    "\n",
    "Ce TD doit être réalisé en créant un fichier td3.py, que vous éditerez dans VSCode. Vous ne remplirez pas les cellules de ce notebook, mais vous les copierez progressivement dans votre fichier afin de les compléter.\n",
    "\n",
    "Vous respecterez au mieux les règles de bonne pratique en matière d'écriture de code : chaque fonction devra comporter un docstring, des commentaires si nécessaire, et les noms de variables devront être explicites quant à leur usage. Vous utiliserez les outils de débogage disponibles (comme flake8, mypy, le débogueur intégré à VSCode, PythonTutor, etc.) pour corriger vos erreurs."
   ]
  },
  {
   "cell_type": "markdown",
   "metadata": {},
   "source": [
    "# Gestion du temps\n",
    "\n",
    "Nous allons créer un petit logiciel de gestion du temps et des dates.\n",
    "Pour cela nous aurons besoin de créer un certain nombre de fonctions utilitaires.\n",
    "\n",
    "Un temps a le format suivant: (jour: int, heure: int, minute: int, seconde: int).\n",
    "C'est un tuple de 4 éléments. Par exemple (4, 3, 13, 20) correspond à 4 jours, 3 heures, 13 minutes et 20 secondes.\n",
    "Si on a une variable temps = (4, 3, 13, 20), pour accéder au premier élément on fait temps\\[0\\] ce qui donne 4,\n",
    "le nombre de jours.\n",
    "\n",
    "Créer la fonction qui prend comme argument le temps et renvoie le nombre de seconde total correspondant à ce temps.\n",
    "Créer la fonction qui prend un nombre de secondes et renvoie le temps correspondant."
   ]
  },
  {
   "cell_type": "code",
   "execution_count": 4,
   "metadata": {},
   "outputs": [
    {
     "name": "stdout",
     "output_type": "stream",
     "text": [
      "<class 'tuple'>\n",
      "None\n"
     ]
    },
    {
     "ename": "TypeError",
     "evalue": "'NoneType' object is not subscriptable",
     "output_type": "error",
     "traceback": [
      "\u001b[1;31m---------------------------------------------------------------------------\u001b[0m",
      "\u001b[1;31mTypeError\u001b[0m                                 Traceback (most recent call last)",
      "Cell \u001b[1;32mIn[4], line 16\u001b[0m\n\u001b[0;32m     13\u001b[0m     \u001b[38;5;28;01mpass\u001b[39;00m\n\u001b[0;32m     15\u001b[0m temps \u001b[38;5;241m=\u001b[39m secondeEnTemps(\u001b[38;5;241m100000\u001b[39m)\n\u001b[1;32m---> 16\u001b[0m \u001b[38;5;28mprint\u001b[39m(temps[\u001b[38;5;241m0\u001b[39m],\u001b[38;5;124m\"\u001b[39m\u001b[38;5;124mjours\u001b[39m\u001b[38;5;124m\"\u001b[39m,temps[\u001b[38;5;241m1\u001b[39m],\u001b[38;5;124m\"\u001b[39m\u001b[38;5;124mheures\u001b[39m\u001b[38;5;124m\"\u001b[39m,temps[\u001b[38;5;241m2\u001b[39m],\u001b[38;5;124m\"\u001b[39m\u001b[38;5;124mminutes\u001b[39m\u001b[38;5;124m\"\u001b[39m,temps[\u001b[38;5;241m3\u001b[39m],\u001b[38;5;124m\"\u001b[39m\u001b[38;5;124msecondes\u001b[39m\u001b[38;5;124m\"\u001b[39m)\n",
      "\u001b[1;31mTypeError\u001b[0m: 'NoneType' object is not subscriptable"
     ]
    }
   ],
   "source": [
    "#temps[0] : jours, temps[1]: heures, temps[2]: minutes, temps[3]: secondes\n",
    "\n",
    "def tempsEnSeconde(temps):\n",
    "    \"\"\" Renvoie la valeur en seconde de temps donné comme jour, heure, minute, seconde.\"\"\"\n",
    "    pass\n",
    "\n",
    "temps = (3,23,1,34)\n",
    "print(type(temps))\n",
    "print(tempsEnSeconde(temps))   \n",
    "\n",
    "def secondeEnTemps(seconde):\n",
    "    \"\"\"Renvoie le temps (jour, heure, minute, seconde) qui correspond au nombre de seconde passé en argument\"\"\"\n",
    "    pass\n",
    "    \n",
    "temps = secondeEnTemps(100000)\n",
    "print(temps[0],\"jours\",temps[1],\"heures\",temps[2],\"minutes\",temps[3],\"secondes\")"
   ]
  },
  {
   "cell_type": "markdown",
   "metadata": {},
   "source": [
    "Créer une fonction d'affichage d'un temps `afficheTemps`. Attention, les mots jour, heure et seconde doivent être au pluriel s'il y en a plusieurs. S'il y en a zéro, ils ne doivent pas apparaître.\n",
    "`print(message, end=\"\")` permet de ne pas sauter une ligne après un print. \n",
    "Vous pouvez écrire une fonction qui affiche un mot au pluriel ou non, appelée ensuite plusieurs fois par `afficheTemps` pour simplifier votre code.\n"
   ]
  },
  {
   "cell_type": "code",
   "execution_count": null,
   "metadata": {},
   "outputs": [],
   "source": [
    "#fonction auxiliaire ici\n",
    "\n",
    "def afficheTemps(temps):\n",
    "    pass\n",
    "    \n",
    "afficheTemps((1,0,14,23))"
   ]
  },
  {
   "cell_type": "markdown",
   "metadata": {},
   "source": [
    "Ecrire une fonction qui demande à l'utilisateur de rentrer un nombre de jours, d'heures, de minutes et\n",
    "de secondes et qui renvoie un temps. Attention, si l'entrée utilisateur n'est pas correcte, par exemple 80 minutes,\n",
    "afficher un message d'erreur et s'arrêter.\n",
    "\n",
    "(Optionnel) Au lieu d'arêter le programme, demander de rentrer une nouvelle valeur, tant que \n",
    "ce n'est pas une valeur correcte."
   ]
  },
  {
   "cell_type": "code",
   "execution_count": null,
   "metadata": {},
   "outputs": [],
   "source": [
    "def demandeTemps():\n",
    "    pass\n",
    "\n",
    "afficheTemps(demandeTemps())"
   ]
  },
  {
   "cell_type": "markdown",
   "metadata": {},
   "source": [
    "On veut être capable d'additionner deux temps. Donner une fonction qui fait ce calcul,\n",
    "en utilisant les fonctions précédentes."
   ]
  },
  {
   "cell_type": "code",
   "execution_count": null,
   "metadata": {},
   "outputs": [],
   "source": [
    "def sommeTemps(temps1,temps2):\n",
    "    pass\n",
    "\n",
    "sommeTemps((2,3,4,25),(5,22,57,1))"
   ]
  },
  {
   "cell_type": "code",
   "execution_count": 35,
   "metadata": {},
   "outputs": [
    {
     "name": "stdout",
     "output_type": "stream",
     "text": [
      "Le total est de 302523 secondes.\n",
      "(11, 826, 46, 0)\n",
      "Il y a  1  jour, 14 minutes et 23 secondes !\n",
      "Il y a  9.0  jours, 179.0 minutes et !"
     ]
    }
   ],
   "source": [
    "def temps_secondes(temps):\n",
    "    \"\"\" Renvoie le total du jour, de l'heure, de la minute et la seconde en secondes.\"\"\"    \n",
    "    temps = temps[0] * 24 * 60 * 60 + temps[1] * 60 * 60 + temps[2] * 60 + temps[3]\n",
    "    return temps\n",
    "\n",
    "\n",
    "temps = ( 3, 12, 2, 3)\n",
    "print(\"Le total est de\", temps_secondes(temps), \"secondes.\")\n",
    "\n",
    "\n",
    "def secondes_temps(seconde):\n",
    "    \"\"\"Renvoie le total des secondes en jours, en heures, en minutes et en secondes.\"\"\"\n",
    "    temps = (seconde // 86400, (seconde % 86400) // 60 , ((seconde % 86400) // 60 ) % 60, (((seconde % 86400) // 60 ) % 60) // 60)\n",
    "    return temps\n",
    "\n",
    "temps = 1000000\n",
    "print(secondes_temps(temps))\n",
    "#print(temps[0],\"jours\",temps[1],\"heures\",temps[2],\"minutes\",temps[3],\"secondes\")\n",
    "\n",
    "def afficheTemps(temps):\n",
    "    \"\"\" Affiche le temps\"\"\"\n",
    "    if temps[0] > 1: \n",
    "        print(\"Il y a \", temps[0], \" jours, \", end=\"\")\n",
    "    elif temps[0] == 1:\n",
    "        print(\"Il y a \", temps[0], \" jour, \", end=\"\")\n",
    "    elif temps[0] == 0:\n",
    "        print(\"Il y a \",end=\"\")\n",
    "    if temps[1] > 1:\n",
    "        print(temps[1], \"heures, \", end=\"\")\n",
    "    elif temps[1] == 0:\n",
    "        print(end=\"\")\n",
    "    if temps[2] > 1:\n",
    "        print(temps[2], \"minutes et \", end=\"\")\n",
    "    elif temps[2] == 0:\n",
    "        print(end=\"\")\n",
    "    if temps[3] > 1:\n",
    "        print(temps[3], \"secondes !\")\n",
    "    elif temps[3] == 0:\n",
    "        print(\"!\",end=\"\")              \n",
    "    \n",
    "afficheTemps((1,0,14,23))\n",
    "\n",
    "\n",
    "def proportionTemps(temps, proportion):\n",
    "    temps = (temps[0] // proportion, temps[1] // proportion, temps[2] // proportion, temps[3] // proportion)\n",
    "    return temps\n",
    "afficheTemps(proportionTemps((2,0,36,0),0.2))"
   ]
  },
  {
   "cell_type": "markdown",
   "metadata": {},
   "source": [
    "On veut maintenant calculer un pourcentage d'un temps. Par exemple, 20% de\n",
    "2 jours et 36 minutes correspond à 9 heures, 43 minutes et 12 secondes.\n",
    "\n",
    "Implémenter la fonction `proportionTemps` puis appeler cette fonction en échangeant l'ordre des arguments mais en les nommant."
   ]
  },
  {
   "cell_type": "code",
   "execution_count": 27,
   "metadata": {},
   "outputs": [
    {
     "ename": "TypeError",
     "evalue": "unsupported operand type(s) for //: 'tuple' and 'float'",
     "output_type": "error",
     "traceback": [
      "\u001b[1;31m---------------------------------------------------------------------------\u001b[0m",
      "\u001b[1;31mTypeError\u001b[0m                                 Traceback (most recent call last)",
      "Cell \u001b[1;32mIn[27], line 4\u001b[0m\n\u001b[0;32m      2\u001b[0m     temps\u001b[38;5;241m/\u001b[39m\u001b[38;5;241m/\u001b[39m\u001b[38;5;241m0.2\u001b[39m\n\u001b[0;32m      3\u001b[0m     \u001b[38;5;28;01mreturn\u001b[39;00m proportionTemps\n\u001b[1;32m----> 4\u001b[0m afficheTemps(proportionTemps((\u001b[38;5;241m2\u001b[39m,\u001b[38;5;241m0\u001b[39m,\u001b[38;5;241m36\u001b[39m,\u001b[38;5;241m0\u001b[39m),\u001b[38;5;241m0.2\u001b[39m))\n",
      "Cell \u001b[1;32mIn[27], line 2\u001b[0m, in \u001b[0;36mproportionTemps\u001b[1;34m(temps, proportion)\u001b[0m\n\u001b[0;32m      1\u001b[0m \u001b[38;5;28;01mdef\u001b[39;00m \u001b[38;5;21mproportionTemps\u001b[39m(temps,proportion):\n\u001b[1;32m----> 2\u001b[0m     temps\u001b[38;5;241m/\u001b[39m\u001b[38;5;241m/\u001b[39m\u001b[38;5;241m0.2\u001b[39m\n\u001b[0;32m      3\u001b[0m     \u001b[38;5;28;01mreturn\u001b[39;00m proportionTemps\n",
      "\u001b[1;31mTypeError\u001b[0m: unsupported operand type(s) for //: 'tuple' and 'float'"
     ]
    }
   ],
   "source": [
    "def proportionTemps(temps,proportion):\n",
    "    temps//0.2\n",
    "    return proportionTemps\n",
    "afficheTemps(proportionTemps((2,0,36,0),0.2))"
   ]
  },
  {
   "cell_type": "code",
   "execution_count": null,
   "metadata": {},
   "outputs": [],
   "source": []
  },
  {
   "cell_type": "markdown",
   "metadata": {},
   "source": [
    "On veut maintenant afficher un temps sous forme de date, en supposant \n",
    "que le temps 0 est le 1 janvier 1970 à 00:00:00.\n",
    "\n",
    "* Implémenter une fonction `tempsEnDate`qui donne la date sous la forme (année, jour, heure, minute, seconde).\n",
    "* Implémenter la fonction `afficheDate`qui affiche la date. \n",
    "* (Optionnel) Gérer également les mois."
   ]
  },
  {
   "cell_type": "code",
   "execution_count": 7,
   "metadata": {},
   "outputs": [],
   "source": [
    "def tempsEnDate(temps):\n",
    "    \"\"\"Donne la date sous la forme (année, jour, heure, minute, seconde), retourne un tuple (année, mois, jour, heure, minute, seconde)\"\"\"\n",
    "    annee = 1970\n",
    "    jour_annee = 0\n",
    "    jour_par_annee = 365\n",
    "    \n",
    "    #année\n",
    "    while temps >= jour_par_annee * 60 * 60 * 24:\n",
    "        annee += 1\n",
    "        temps -= jour_par_annee * 60 * 60 * 24\n",
    "        if annee % 4 == 0 and (annee % 100 != 0 or annee % 400 == 0):\n",
    "            jour_par_annee = 366\n",
    "        else:\n",
    "            jour_par_annee = 365\n",
    "    #jour\n",
    "    jour_par_annee = temps // (60 * 60 * 24 )\n",
    "    #heures,minutes,secondes\n",
    "    reste = temps % (60 * 60 * 24)\n",
    "    heure = reste // (60 * 60)\n",
    "    reste %= (60 * 60)\n",
    "    minute = reste // 60\n",
    "    seconde = reste % 60\n",
    "    mois = jour_annee // 30 + 1\n",
    "    date = (annee, mois, jour_annee + 1, heure, minute, seconde)\n",
    "    print(date)\n",
    "    return date\n",
    "\n",
    "\n"
   ]
  },
  {
   "cell_type": "code",
   "execution_count": 8,
   "metadata": {},
   "outputs": [
    {
     "name": "stdout",
     "output_type": "stream",
     "text": [
      "Le total est de 302523 secondes.\n",
      "(11, 826, 46, 0)\n",
      "Il y a  1  jour, 14 minutes et 23 secondes !\n",
      "Il y a  34  jours, 4 heures, 45 minutes et 4 secondes !\n",
      "Il y a  7  jours, 44 heures, 61 minutes et 26 secondes !\n",
      "Il y a  9.0  jours, 179.0 minutes et !Il y a  11574  jours, 106 heures, 46 minutes et !"
     ]
    },
    {
     "ename": "TypeError",
     "evalue": "'>=' not supported between instances of 'tuple' and 'int'",
     "output_type": "error",
     "traceback": [
      "\u001b[1;31m---------------------------------------------------------------------------\u001b[0m",
      "\u001b[1;31mTypeError\u001b[0m                                 Traceback (most recent call last)",
      "Cell \u001b[1;32mIn[8], line 111\u001b[0m\n\u001b[0;32m    109\u001b[0m temps \u001b[38;5;241m=\u001b[39m secondesEnTemps(\u001b[38;5;241m1000000000\u001b[39m)\n\u001b[0;32m    110\u001b[0m afficheTemps(temps)\n\u001b[1;32m--> 111\u001b[0m afficheDate(tempsEnDate(temps))\n\u001b[0;32m    112\u001b[0m afficheDate()\n",
      "Cell \u001b[1;32mIn[8], line 86\u001b[0m, in \u001b[0;36mtempsEnDate\u001b[1;34m(temps)\u001b[0m\n\u001b[0;32m     83\u001b[0m jour_par_annee \u001b[38;5;241m=\u001b[39m \u001b[38;5;241m365\u001b[39m\n\u001b[0;32m     85\u001b[0m \u001b[38;5;66;03m#année\u001b[39;00m\n\u001b[1;32m---> 86\u001b[0m \u001b[38;5;28;01mwhile\u001b[39;00m temps \u001b[38;5;241m>\u001b[39m\u001b[38;5;241m=\u001b[39m jour_par_annee \u001b[38;5;241m*\u001b[39m \u001b[38;5;241m60\u001b[39m \u001b[38;5;241m*\u001b[39m \u001b[38;5;241m60\u001b[39m \u001b[38;5;241m*\u001b[39m \u001b[38;5;241m24\u001b[39m:\n\u001b[0;32m     87\u001b[0m     annee \u001b[38;5;241m+\u001b[39m\u001b[38;5;241m=\u001b[39m \u001b[38;5;241m1\u001b[39m\n\u001b[0;32m     88\u001b[0m     temps \u001b[38;5;241m-\u001b[39m\u001b[38;5;241m=\u001b[39m jour_par_annee \u001b[38;5;241m*\u001b[39m \u001b[38;5;241m60\u001b[39m \u001b[38;5;241m*\u001b[39m \u001b[38;5;241m60\u001b[39m \u001b[38;5;241m*\u001b[39m \u001b[38;5;241m24\u001b[39m\n",
      "\u001b[1;31mTypeError\u001b[0m: '>=' not supported between instances of 'tuple' and 'int'"
     ]
    }
   ],
   "source": [
    "def tempsEnSecondes(temps):\n",
    "    \"\"\" Renvoie le total du jour, de l'heure, de la minute et la seconde en secondes.\"\"\"    \n",
    "    temps = temps[0] * 24 * 60 * 60 + temps[1] * 60 * 60 + temps[2] * 60 + temps[3]\n",
    "    return temps\n",
    "\n",
    "\n",
    "temps = ( 3, 12, 2, 3)\n",
    "print(\"Le total est de\", tempsEnSecondes(temps), \"secondes.\")\n",
    "\n",
    "\n",
    "def secondesEnTemps(seconde):\n",
    "    \"\"\"Renvoie le total des secondes en jours, en heures, en minutes et en secondes.\"\"\"\n",
    "    temps = (seconde // 86400, (seconde % 86400) // 60 , ((seconde % 86400) // 60 ) % 60, (((seconde % 86400) // 60 ) % 60) // 60)\n",
    "    return temps\n",
    "\n",
    "temps = 1000000\n",
    "print(secondesEnTemps(temps))\n",
    "#print(temps[0],\"jours\",temps[1],\"heures\",temps[2],\"minutes\",temps[3],\"secondes\")\n",
    "\n",
    "def afficheTemps(temps):\n",
    "    \"\"\" Affiche le temps\"\"\"\n",
    "    if temps[0] > 1: \n",
    "        print(\"Il y a \", temps[0], \" jours, \", end=\"\")\n",
    "    elif temps[0] == 1:\n",
    "        print(\"Il y a \", temps[0], \" jour, \", end=\"\")\n",
    "    elif temps[0] == 0:\n",
    "        print(\"Il y a \",end=\"\")\n",
    "    if temps[1] > 1:\n",
    "        print(temps[1], \"heures, \", end=\"\")\n",
    "    elif temps[1] == 0:\n",
    "        print(end=\"\")\n",
    "    if temps[2] > 1:\n",
    "        print(temps[2], \"minutes et \", end=\"\")\n",
    "    elif temps[2] == 0:\n",
    "        print(end=\"\")\n",
    "    if temps[3] > 1:\n",
    "        print(temps[3], \"secondes !\")\n",
    "    elif temps[3] == 0:\n",
    "        print(\"!\",end=\"\")              \n",
    "    \n",
    "afficheTemps((1,0,14,23))\n",
    "\n",
    "def demandeTemps():\n",
    "    \"\"\"Demande à l'utilisateur d'entrer un nombre de jours, d'heures, de minutes, et de secondes.\"\"\"\n",
    "    jours = int(input(\"jours\"))\n",
    "    heures = int(input(\"heures\"))\n",
    "    minutes = int(input(\"minutes\"))\n",
    "    secondes = int(input(\"secondes\"))\n",
    "    duree = [jours, heures, minutes, secondes]\n",
    "    for i in duree :\n",
    "        if heures > 24:\n",
    "            heures = int(input(\"Entrer une valeur entre 0 et 23 !\"))\n",
    "        else:\n",
    "            continue\n",
    "        if minutes > 60:\n",
    "            minutes = int(input(\"Entrer une valeur entre 0 et 59 !\"))\n",
    "        else:\n",
    "            continue\n",
    "        if secondes > 60:\n",
    "            secondes = int(input(\"Entrer une valeur entre 0 et 59 !\"))\n",
    "    durée = [jours, heures, minutes, secondes]\n",
    "    return duree\n",
    "\n",
    "afficheTemps(demandeTemps())\n",
    "\n",
    "def sommeTemps(temps1,temps2):\n",
    "    \"\"\"Effectue la somme de deux temps donnés.\"\"\"\n",
    "    somme = (temps1[0] + temps2[0],temps2[1]+temps2[1],temps1[2]+temps2[2],temps1[3]+temps2[3])\n",
    "    afficheTemps(somme)\n",
    "\n",
    "sommeTemps((2,3,4,25),(5,22,57,1))\n",
    "\n",
    "def proportionTemps(temps, proportion):\n",
    "    \"\"\"Donne la proportion d'un temps.\"\"\"\n",
    "    temps = (temps[0] // proportion, temps[1] // proportion, temps[2] // proportion, temps[3] // proportion)\n",
    "    return temps\n",
    "afficheTemps(proportionTemps((2,0,36,0),0.2))\n",
    "\n",
    "def tempsEnDate(temps):\n",
    "    \"\"\"Donne la date sous la forme (année, jour, heure, minute, seconde), retourne un tuple (année, mois, jour, heure, minute, seconde)\"\"\"\n",
    "    annee = 1970\n",
    "    jour_annee = 0\n",
    "    jour_par_annee = 365\n",
    "    \n",
    "    #année\n",
    "    while temps >= jour_par_annee * 60 * 60 * 24:\n",
    "        annee += 1\n",
    "        temps -= jour_par_annee * 60 * 60 * 24\n",
    "        if annee % 4 == 0 and (annee % 100 != 0 or annee % 400 == 0):\n",
    "            jour_par_annee = 366\n",
    "        else:\n",
    "            jour_par_annee = 365\n",
    "    #jour\n",
    "    jour_par_annee = temps // (60 * 60 * 24 )\n",
    "    #heures,minutes,secondes\n",
    "    reste = temps % (60 * 60 * 24)\n",
    "    heure = reste // (60 * 60)\n",
    "    reste %= (60 * 60)\n",
    "    minute = reste // 60\n",
    "    seconde = reste % 60\n",
    "    mois = jour_annee // 30 + 1\n",
    "    date = (annee, mois, jour_annee + 1, heure, minute, seconde)\n",
    "    return date\n",
    "\n",
    "\n",
    "def afficheDate(date = -1):\n",
    "    print(tempsEnDate())\n",
    "    \n",
    "temps = secondesEnTemps(1000000000)\n",
    "afficheTemps(temps)\n",
    "afficheDate(tempsEnDate(temps))\n",
    "afficheDate()\n",
    "\n",
    "\n",
    "#Implémenter une fonction `tempsEnDate`qui donne la date sous la forme (année, jour, heure, minute, seconde).\n"
   ]
  },
  {
   "cell_type": "code",
   "execution_count": null,
   "metadata": {},
   "outputs": [],
   "source": [
    "def afficheDate(date = -1):\n",
    "    pass\n",
    "    \n",
    "temps = secondeEnTemps(1000000000)\n",
    "afficheTemps(temps)\n",
    "afficheDate(tempsEnDate(temps))\n",
    "afficheDate()"
   ]
  },
  {
   "cell_type": "markdown",
   "metadata": {},
   "source": [
    "Il existe des fonctions dans la librairie `time` pour la gestion du temps. En particulier, il existe\n",
    "une fonction `time` qui donne le temps écoulé depuis 1970 en secondes. \n",
    "La trouver avec la [documentation python](https://docs.python.org/fr/3/library/time.html#module-time) et la tester en utilisant `afficheDate`. \n",
    "Tester de la même manière la fonction `time.gmtime` qui réalise une tâche similaire à `tempsEnDate`.\n",
    "Que constatez vous ?"
   ]
  },
  {
   "cell_type": "code",
   "execution_count": null,
   "metadata": {},
   "outputs": [],
   "source": [
    "#tester ici les fonctions de la librairie time\n",
    "import time\n",
    "time.gmtime(0)\n"
   ]
  },
  {
   "cell_type": "markdown",
   "metadata": {},
   "source": [
    "Attention, tous les 4 ans les années sont bisextiles (un jour de plus) sauf les multiples de 100 qui ne sont pas des multiples de 400.\n",
    "Donner un code qui prend un nombre de jours et affiche toutes les années bisextiles depuis 1 janvier 1970 à 00:00:00 jusqu'à la fin de ces jours."
   ]
  },
  {
   "cell_type": "code",
   "execution_count": null,
   "metadata": {},
   "outputs": [],
   "source": [
    "def bisextile(jour):\n",
    "    pass\n",
    "        \n",
    "bisextile(20000)"
   ]
  },
  {
   "cell_type": "code",
   "execution_count": null,
   "metadata": {},
   "outputs": [],
   "source": [
    "def bisextile(jour):\n",
    "    \"\"\"Affiche toutes les années bisextile depuis le 1er janvier 1970 jusqu'à un nombre donnée de jours.\"\"\"\n",
    "    jour = int(input(\"nombre de jour\"))\n",
    "    jour_par_annee = 365\n",
    "    secondes_par_jour = 24 * 60 * 60\n",
    "    temps = 0\n",
    "    annee = 1970\n",
    "    while temps <= jour * secondes_par_jour:\n",
    "        if annee % 4 == 0 and (annee % 100 != 0 or annee % 400 == 0):\n",
    "            print(annee)\n",
    "        annee += 1\n",
    "        temps += jour_par_annee * 60   \n",
    "        if annee % 4 == 0 and (annee % 100 != 0 or annee % 400 == 0):\n",
    "            jour_par_annee = 366\n",
    "        else:\n",
    "            jour_par_annee = 365\n",
    "    return \n",
    "        \n",
    "bisextile(20000)"
   ]
  },
  {
   "cell_type": "markdown",
   "metadata": {},
   "source": [
    "Implémenter une fonction `nombreBisextile` qui calcule le nombre d'années bisextiles pour un nombre de jour donnés pour corriger votre fonction de calcul de la date."
   ]
  },
  {
   "cell_type": "code",
   "execution_count": null,
   "metadata": {},
   "outputs": [],
   "source": [
    "def nombreBisextile(jour):\n",
    "    pass\n",
    "\n",
    "def tempsEnDateBisextile(temps):\n",
    "    pass\n",
    "   \n",
    "temps = secondeEnTemps(1000000000)\n",
    "afficheTemps(temps)\n",
    "afficheDate(tempsEnDateBisextile(temps))"
   ]
  },
  {
   "cell_type": "code",
   "execution_count": 16,
   "metadata": {},
   "outputs": [],
   "source": [
    "\n",
    "def nombreBisextile(jour):\n",
    "    \"\"\"Calcule le nombre d'années bisextiles pour un nombre de jour donnés.\"\"\"\n",
    "    jour = int(input(\"nombre de jour\"))\n",
    "    jour_par_annee = 365\n",
    "    secondes_par_jour = 24 * 60 * 60\n",
    "    temps = 0\n",
    "    annee = 1970\n",
    "    nb_année = 0\n",
    "    while temps <= jour * secondes_par_jour:\n",
    "        if annee % 4 == 0 and (annee % 100 != 0 or annee % 400 == 0):\n",
    "            print(annee)\n",
    "        annee += 1\n",
    "        temps += jour_par_annee * 60   \n",
    "        if annee % 4 == 0 and (annee % 100 != 0 or annee % 400 == 0):\n",
    "            jour_par_annee = 366\n",
    "            nb_année +=1\n",
    "        else:\n",
    "            jour_par_annee = 365\n",
    "    return nb_année\n"
   ]
  },
  {
   "cell_type": "markdown",
   "metadata": {},
   "source": [
    "Ajouter des valeurs par défaut dans le code de `afficheDate` afin de pouvoir ommettre\n",
    "l'argument de ces fonctions. Dans ce cas là, on affichera la date actuelle en utilisant la fonction `time`."
   ]
  },
  {
   "cell_type": "markdown",
   "metadata": {},
   "source": [
    "On va maintenant inspecter notre code pour améliorer sa qualité:\n",
    "\n",
    "* Regarder tous les warnings donnés par flake8 et essayer de les régler.\n",
    "* Utiliser le debugger (F5) pour étudier le fonctionnement de votre fonction nombreBisextile.\n",
    "* Mettre les annotations de type des arguments et du retour de la fonction pour nombreBisextile et une autre fonction de votre choix. Vérifier avec mypy que tout fonctionne bien."
   ]
  },
  {
   "cell_type": "markdown",
   "metadata": {},
   "source": [
    "Donner une fonction qui vérifie la charge horaire d'un employé, donnée sous forme d'une liste de temps travaillé chaque semaine dans un mois. Il ne faut pas dépasser 48h par semaine et 140h par mois (qu'on considère ici de 4 semaines).\n",
    "\n",
    "(Optionnel) S'adapter à une liste qui peut contenir plusieurs mois."
   ]
  },
  {
   "cell_type": "code",
   "execution_count": null,
   "metadata": {},
   "outputs": [],
   "source": [
    "def verifie(liste_temps):\n",
    "    pass\n",
    "\n",
    "\n",
    "liste_temps = [[1,2,39,34],[0,1,9,4],[0,29,39,51],[0,31,13,46]]\n",
    "verifie(liste_temps)"
   ]
  }
 ],
 "metadata": {
  "kernelspec": {
   "display_name": "l1-python",
   "language": "python",
   "name": "python3"
  },
  "language_info": {
   "codemirror_mode": {
    "name": "ipython",
    "version": 3
   },
   "file_extension": ".py",
   "mimetype": "text/x-python",
   "name": "python",
   "nbconvert_exporter": "python",
   "pygments_lexer": "ipython3",
   "version": "3.12.5"
  }
 },
 "nbformat": 4,
 "nbformat_minor": 4
}
