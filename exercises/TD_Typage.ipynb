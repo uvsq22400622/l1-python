{
 "cells": [
  {
   "cell_type": "markdown",
   "metadata": {},
   "source": [
    "# Typage en Python"
   ]
  },
  {
   "cell_type": "markdown",
   "metadata": {},
   "source": [
    "Python est un langage de programmation à typage dynamique : les erreurs de type sont détectées par\n",
    "l’interpréteur pendant l’exécution et signalée avec des exceptions de la classe TypeError. Dans ce sujet nous allons explorer le typage en Python, via les annotations de type et l’analyseur statique mypy."
   ]
  },
  {
   "cell_type": "markdown",
   "metadata": {},
   "source": [
    "Sur votre Bureau, créez un dossier nommé \"Typage\". Ouvrez Visual Studio Code (VSCode), puis accédez au dossier \"Typage\" via File > Open Folder.... Dans ce dossier, créez un nouveau fichier Python en cliquant sur New File et nommez-le avec l'extension .py, par exemple script_typage.py. Ensuite, copiez le code de la cellule suivante et collez-le dans ce fichier. Une fois cela fait, enregistrez le fichier avec Ctrl + S (ou Cmd + S sur Mac). "
   ]
  },
  {
   "cell_type": "code",
   "execution_count": 1,
   "metadata": {},
   "outputs": [
    {
     "data": {
      "text/plain": [
       "'Hello Alice'"
      ]
     },
     "execution_count": 1,
     "metadata": {},
     "output_type": "execute_result"
    }
   ],
   "source": [
    "def greeting(name): # dynamically typed (no type annotations)\n",
    "    return \"Hello \" + name\n",
    "greeting(\"Alice\")"
   ]
  },
  {
   "cell_type": "markdown",
   "metadata": {},
   "source": [
    "Une fonction Python qui ne contient pas des annotations de type reste typée dynamiquement et sera (sauf erreurs de type flagrantes) ignoré par mypy."
   ]
  },
  {
   "cell_type": "markdown",
   "metadata": {},
   "source": [
    "Dans VSCode, ouvrez le terminal intégré avec Ctrl + \\`` (ou Cmd + `sur Mac) ou via *View > Terminal*. Assurez-vous que mypy est installé en tapant pip install mypy. Ensuite, dans le terminal, exécutez la commande mypy script_typage.py pour analyser votre fichier Python. Les résultats apparaîtront dans le terminal, indiquant les éventuelles erreurs de typage à corriger.\n",
    "\n",
    "Le script ci-dessous doit produire le résultat suivant : <span style=\"color:green\">**Success: no issues found in 1 source file** </span>\n",
    "\n",
    "Ajoutez maintenant l'instruction suivante à votre script, puis testez-le à nouveau avec mypy : "
   ]
  },
  {
   "cell_type": "code",
   "execution_count": null,
   "metadata": {},
   "outputs": [],
   "source": [
    "greeting(42) # type error not detected by mypy"
   ]
  },
  {
   "cell_type": "markdown",
   "metadata": {},
   "source": [
    "Le script ci-dessus doit produire le résultat suivant : <span style=\"color:green\">**Success: no issues found in 1 source file** </span>\n",
    "\n",
    "Le problème de type n'a pas été détecté par mypy.\n",
    "\n",
    "Exécutez également la commande suivante dans le terminal : python script_typage.py\n",
    "\n",
    "Le résultat doit être le suivant :\n",
    "\n",
    "**...**\n",
    "\n",
    "**TypeError: can only concatenate str (not \"int\") to str**"
   ]
  },
  {
   "cell_type": "markdown",
   "metadata": {},
   "source": [
    "Vous pouvez annoter la fonction greeting pour indiquer qu’elle attend un argument de type string (str) et qu’elle retourne une valeur du même type. Cela rend la fonction **typée statiquement** et permet à mypy des reconnaître certains usages incorrectes de la fonction. "
   ]
  },
  {
   "cell_type": "code",
   "execution_count": null,
   "metadata": {},
   "outputs": [
    {
     "data": {
      "text/plain": [
       "'Hello Alice'"
      ]
     },
     "execution_count": 1,
     "metadata": {},
     "output_type": "execute_result"
    }
   ],
   "source": [
    "def greeting(name: str) -> str: # statically typed\n",
    "    return \"Hello \" + name\n",
    "greeting(\"Alice\") # OK\n",
    "greeting(42) # type error detected by mypy"
   ]
  },
  {
   "cell_type": "markdown",
   "metadata": {},
   "source": [
    "Le script ci-dessous doit produire le résultat suivant : \n",
    "\n",
    "<span style=\"color:red\">**error:** </span>  Argument 1 to **\"greeting\"** has incompatible type **\"int\"**; expected **\"str\"**  <span style=\"color:green\">[arg-type]</span> \n",
    "\n",
    "<span style=\"color:red\">**Found 1 error in 1 file (checked 1 source file)** </span>  \n",
    "\n",
    "Exécutez également la fonction suivante en tapant la commande suivante dans le terminal : python script_typage.py\n",
    "\n",
    "Le résultat doit être le suivant :\n",
    "\n",
    "**...**\n",
    "\n",
    "**TypeError: can only concatenate str (not \"int\") to str**"
   ]
  },
  {
   "cell_type": "markdown",
   "metadata": {},
   "source": [
    "Voici d’autres exemples d’annotations de type, notamment pour les fonctions qui peuvent retourner None, pour les arguments avec des valeurs par défaut"
   ]
  },
  {
   "cell_type": "code",
   "execution_count": null,
   "metadata": {},
   "outputs": [],
   "source": [
    "def p() -> None:\n",
    "    print(\"hello\")\n",
    "    \n",
    "a = p() # Error: \"p\" does not return a value\n",
    "# ----------------------------------------------------------------------\n",
    "\n",
    "def f():\n",
    "    1 + \"x\" # No type error, because f is dynamically typed\n",
    "\n",
    "def g() -> None:\n",
    "    1 + \"x\" # Type error, because f is statically typed (due to annotation)\n",
    "# ----------------------------------------------------------------------"
   ]
  },
  {
   "cell_type": "markdown",
   "metadata": {},
   "source": [
    "Résultats :\n",
    "\n",
    "<span style=\"color:red\">**error:** </span>  **\"p\"** does not return a value (it only ever returns None)  <span style=\"color:green\">[func-returns-value]</span>   \n",
    "\n",
    "<span style=\"color:red\">**error:** </span>  Unsupported operand types for + (**\"int\"** and **\"str\"**)  <span style=\"color:green\">[operator]</span>  \n",
    "\n",
    "<span style=\"color:red\">**Found 2 errors in 1 file (checked 1 source file)** </span>  "
   ]
  },
  {
   "cell_type": "markdown",
   "metadata": {},
   "source": [
    "Les types conteneurs (listes, tuples, ensemble, . . . ) peuvent aussi être annotée avec des types génériques, en utilisant les crochets pour indiquer le type (uniforme !) de leur contenu :"
   ]
  },
  {
   "cell_type": "code",
   "execution_count": null,
   "metadata": {},
   "outputs": [],
   "source": [
    "def greet_all(names: list[str]) -> None:\n",
    "    for name in names:\n",
    "        print(\"Hello \" + name)\n",
    "\n",
    "names = [\"Alice\", \"Bob\", \"Charlie\"]\n",
    "ages = [10, 20, 30]\n",
    "\n",
    "greet_all(names) # Ok!\n",
    "greet_all(ages) # Error due to incompatible types"
   ]
  }
 ],
 "metadata": {
  "kernelspec": {
   "display_name": "Python 3",
   "language": "python",
   "name": "python3"
  },
  "language_info": {
   "codemirror_mode": {
    "name": "ipython",
    "version": 3
   },
   "file_extension": ".py",
   "mimetype": "text/x-python",
   "name": "python",
   "nbconvert_exporter": "python",
   "pygments_lexer": "ipython3",
   "version": "3.12.5"
  }
 },
 "nbformat": 4,
 "nbformat_minor": 2
}
