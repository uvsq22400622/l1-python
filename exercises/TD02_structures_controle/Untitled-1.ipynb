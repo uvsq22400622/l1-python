{
 "cells": [
  {
   "cell_type": "markdown",
   "metadata": {},
   "source": [
    "UESTIONS DE COURS\n",
    "Exercice 1. Quelle est la différence entre ces deux opérateurs : / et // ?\n",
    "Exercice 2. Soient deux variables var1 et var2, initialisées à var1=4.5 et var2= \"2.0\". Quel est le résultat \n",
    "de l’instruction suivante : print(var1+var2) ? Expliquez.\n",
    "Exercice 3. Qu'affiche l'expression print(5 * 3 == 15 or 4 * 2 == 9 and 18 // 6 == 2) ? Expliquez.\n",
    "Exercice 4. Qu'affiche l'expression print(type(12 = 3 * 4)) ? Expliquez.\n",
    "Exercice 5. Parmi les noms de variables suivants, lesquels ne seront pas acceptés par Python et \n",
    "pourquoi ? \n",
    "• ma-variable \n",
    "• mavariable \n",
    "• MAVARIABLE1 \n",
    "• MaVariable1\n",
    "• 1Mavariable"
   ]
  },
  {
   "cell_type": "markdown",
   "metadata": {},
   "source": [
    "/ division flottante\n",
    "// division entière\n",
    "\n",
    "erreur\n",
    "\n",
    "true\n",
    "\n",
    "erreur\n",
    "\n",
    "\n"
   ]
  },
  {
   "cell_type": "markdown",
   "metadata": {},
   "source": [
    "Exercice 1.\n",
    "\n",
    " Écrire un programme qui demande à un utilisateur de saisir deux nombres entiers dans les \n",
    "variables a et b. Il se peut que l'utilisateur n'ait pas entré a < b. Comment faire pour que votre \n",
    "programme les remette dans l'ordre (c'est-à-dire échange le contenu de a et de b) ?\n",
    "\n",
    "\n",
    "Exercice 2. \n",
    "\n",
    "Écrire un programme qui génère de manière aléatoire un nombre à deux chiffres, puis \n",
    "demande à l'utilisateur de saisir un nombre à un chiffre. Le programme affiche \"Diviseur\" si le nombre \n",
    "donné par l'utilisateur est plus grand que 1 et qu'il divise le nombre aléatoire. Proposez une solution \n",
    "en utilisant une seule instruction if.\n",
    "\n",
    "\n",
    "Exercice 3. \n",
    "\n",
    "Considérons deux variables entières var1 et var2. Écrire un programme qui permute les \n",
    "contenus de var1 et var2 si elles ont le même signe. Sinon, le programme met la somme des puissances \n",
    "des deux dans var1 et leur produit dans var2"
   ]
  },
  {
   "cell_type": "code",
   "execution_count": 1,
   "metadata": {},
   "outputs": [
    {
     "name": "stdout",
     "output_type": "stream",
     "text": [
      "3 5\n"
     ]
    }
   ],
   "source": [
    "a = int(input(\"\"))\n",
    "b = int(input(\"\"))\n",
    "if a > b:\n",
    "    a, b = b, a\n",
    "print(a,b)"
   ]
  },
  {
   "cell_type": "code",
   "execution_count": 11,
   "metadata": {},
   "outputs": [
    {
     "name": "stdout",
     "output_type": "stream",
     "text": [
      "80\n",
      "Diviseur\n"
     ]
    }
   ],
   "source": [
    "import random\n",
    "num = random.randint(10,99)\n",
    "print(num)\n",
    "uti = int(input(\"un nombre à un chiffre\"))\n",
    "if uti > 1 and num % uti == 0:\n",
    "    print(\"Diviseur\")"
   ]
  },
  {
   "cell_type": "code",
   "execution_count": 12,
   "metadata": {},
   "outputs": [
    {
     "name": "stdout",
     "output_type": "stream",
     "text": [
      "7 5\n"
     ]
    }
   ],
   "source": [
    "var1 = int(input(\"\"))\n",
    "var2 = int(input(\"\"))\n",
    "if var1 >= 0 and var2 >= 0 or var1 < 0 and var2 < 0:\n",
    "    var1, var2 = var2, var1\n",
    "else:\n",
    "    var1, var2 = (var1**2 + var2**2), (var1*var2)\n",
    "print(var1, var2)"
   ]
  },
  {
   "cell_type": "markdown",
   "metadata": {},
   "source": [
    "Exercice 1.\n",
    "\n",
    " Ecrire un programme qui calcule le PGCD de deux entiers. Le PGCD (Plus Grand Commun\n",
    "Diviseur) est le plus grand nombre qui divise deux entiers sans laisser de reste. Si le PGCD de ces deux \n",
    "nombres est égal à 1, cela signifie qu'ils sont premiers entre eux, c'est-à-dire qu'ils n'ont aucun diviseur \n",
    "commun autre que 1. Pour trouver le PGCD, il est utile de commencer par identifier une borne \n",
    "supérieure ou inférieure qui pourrait être le PGCD, puis affiner la recherche."
   ]
  },
  {
   "cell_type": "code",
   "execution_count": 13,
   "metadata": {},
   "outputs": [
    {
     "name": "stdout",
     "output_type": "stream",
     "text": [
      "10\n"
     ]
    }
   ],
   "source": [
    "a = int(input(\"\"))\n",
    "b = int(input(\"\"))\n",
    "while b != 0:\n",
    "    reste = a % b\n",
    "    a = b\n",
    "    b = reste\n",
    "print(a)"
   ]
  },
  {
   "cell_type": "markdown",
   "metadata": {},
   "source": [
    "Exercice 2. \n",
    "\n",
    "Un père décide d'ouvrir un compte bancaire pour son enfant lors de sa naissance. Ensuite, \n",
    "à chaque anniversaire de l'enfant, le père verse sur ce compte 120€ auxquels il ajoute le triple de l'âge\n",
    "de l'enfant. Ecrire un programme qui permet de calculer quelle somme aura son enfant lors de son \n",
    "n"
   ]
  },
  {
   "cell_type": "code",
   "execution_count": 17,
   "metadata": {},
   "outputs": [
    {
     "name": "stdout",
     "output_type": "stream",
     "text": [
      "123\n"
     ]
    }
   ],
   "source": [
    "compte = 0\n",
    "n = int(input(\"\"))\n",
    "for i in range(1, n+1):\n",
    "    compte += 120 + i*3\n",
    "print(compte)"
   ]
  },
  {
   "cell_type": "markdown",
   "metadata": {},
   "source": [
    "Exercice 3. \n",
    "\n",
    "Ecrire un programme qui demande un nombre de départ à l'utilisateur et qui affiche ensuite\n",
    "les dix nombres précédents. Par exemple, si l'utilisateur entre le nombre 20, le programme affichera \n",
    "les nombres de 19 à 10"
   ]
  },
  {
   "cell_type": "code",
   "execution_count": 3,
   "metadata": {},
   "outputs": [
    {
     "name": "stdout",
     "output_type": "stream",
     "text": [
      "19\n",
      "18\n",
      "17\n",
      "16\n",
      "15\n",
      "14\n",
      "13\n",
      "12\n",
      "11\n",
      "10\n"
     ]
    }
   ],
   "source": [
    "num = int(input(\"\"))\n",
    "for i in range(10):\n",
    "    num -= 1\n",
    "    print(num)"
   ]
  },
  {
   "cell_type": "code",
   "execution_count": 27,
   "metadata": {},
   "outputs": [
    {
     "name": "stdout",
     "output_type": "stream",
     "text": [
      "2\n"
     ]
    }
   ],
   "source": [
    "a = [3, 4] + [[1,2]]*2\n",
    "print(a[-1][-1])"
   ]
  },
  {
   "cell_type": "code",
   "execution_count": 2,
   "metadata": {},
   "outputs": [
    {
     "name": "stdout",
     "output_type": "stream",
     "text": [
      "0.0\n"
     ]
    }
   ],
   "source": [
    "print((3/2)*(2//3))"
   ]
  },
  {
   "cell_type": "code",
   "execution_count": 31,
   "metadata": {},
   "outputs": [
    {
     "name": "stdout",
     "output_type": "stream",
     "text": [
      "9\n"
     ]
    }
   ],
   "source": [
    "def f(x, y=2, z=5):\n",
    "    return x + y + z\n",
    "res= f(3, z=4)\n",
    "print(res)"
   ]
  },
  {
   "cell_type": "code",
   "execution_count": 3,
   "metadata": {},
   "outputs": [
    {
     "name": "stdout",
     "output_type": "stream",
     "text": [
      "popipi\n"
     ]
    }
   ],
   "source": [
    "x = \"po\"\n",
    "y = \"pi\"\n",
    "print(x + y * 2)"
   ]
  },
  {
   "cell_type": "code",
   "execution_count": 32,
   "metadata": {},
   "outputs": [
    {
     "ename": "UnboundLocalError",
     "evalue": "cannot access local variable 'y' where it is not associated with a value",
     "output_type": "error",
     "traceback": [
      "\u001b[1;31m---------------------------------------------------------------------------\u001b[0m",
      "\u001b[1;31mUnboundLocalError\u001b[0m                         Traceback (most recent call last)",
      "Cell \u001b[1;32mIn[32], line 4\u001b[0m\n\u001b[0;32m      2\u001b[0m     x, y \u001b[38;5;241m=\u001b[39m x\u001b[38;5;241m+\u001b[39m\u001b[38;5;241m1\u001b[39m, y\u001b[38;5;241m+\u001b[39m\u001b[38;5;241m1\u001b[39m\n\u001b[0;32m      3\u001b[0m x, y \u001b[38;5;241m=\u001b[39m\u001b[38;5;241m1\u001b[39m, \u001b[38;5;241m2\u001b[39m\n\u001b[1;32m----> 4\u001b[0m f(x)\n\u001b[0;32m      5\u001b[0m \u001b[38;5;28mprint\u001b[39m(x,y)\n",
      "Cell \u001b[1;32mIn[32], line 2\u001b[0m, in \u001b[0;36mf\u001b[1;34m(x)\u001b[0m\n\u001b[0;32m      1\u001b[0m \u001b[38;5;28;01mdef\u001b[39;00m \u001b[38;5;21mf\u001b[39m(x):\n\u001b[1;32m----> 2\u001b[0m     x, y \u001b[38;5;241m=\u001b[39m x\u001b[38;5;241m+\u001b[39m\u001b[38;5;241m1\u001b[39m, y\u001b[38;5;241m+\u001b[39m\u001b[38;5;241m1\u001b[39m\n",
      "\u001b[1;31mUnboundLocalError\u001b[0m: cannot access local variable 'y' where it is not associated with a value"
     ]
    }
   ],
   "source": [
    "def f(x):\n",
    "    x, y = x+1, y+1\n",
    "x, y =1, 2\n",
    "f(x)\n",
    "print(x,y)"
   ]
  },
  {
   "cell_type": "code",
   "execution_count": 33,
   "metadata": {},
   "outputs": [
    {
     "name": "stdout",
     "output_type": "stream",
     "text": [
      "6\n"
     ]
    }
   ],
   "source": [
    "a = []\n",
    "for i in range(8):\n",
    "\tb = []\n",
    "\tfor j in range(5):\n",
    "\t\tb.append(2*i+j)\n",
    "\ta.append(b)\n",
    "print(a[2][2])"
   ]
  },
  {
   "cell_type": "code",
   "execution_count": 35,
   "metadata": {},
   "outputs": [
    {
     "name": "stdout",
     "output_type": "stream",
     "text": [
      "4\n"
     ]
    }
   ],
   "source": [
    "def f(x):\n",
    "    return 3 * x + 1\n",
    "def g(x):\n",
    "    return 2 * x - 3\n",
    "print(f(g(2)))"
   ]
  },
  {
   "cell_type": "code",
   "execution_count": 37,
   "metadata": {},
   "outputs": [
    {
     "name": "stdout",
     "output_type": "stream",
     "text": [
      "5 4\n"
     ]
    }
   ],
   "source": [
    "i, j = 0, 9\n",
    "while i < j:\n",
    "    i = i + 1\n",
    "    j = j - 1\n",
    "print(i, j)"
   ]
  },
  {
   "cell_type": "code",
   "execution_count": 38,
   "metadata": {},
   "outputs": [
    {
     "name": "stdout",
     "output_type": "stream",
     "text": [
      "3.143.14\n"
     ]
    }
   ],
   "source": [
    "a = \"3.14\"\n",
    "b = a\n",
    "print(a+b)"
   ]
  },
  {
   "cell_type": "code",
   "execution_count": 39,
   "metadata": {},
   "outputs": [
    {
     "name": "stdout",
     "output_type": "stream",
     "text": [
      "323232\n"
     ]
    }
   ],
   "source": [
    "s = (str(3) + \"2\")*int(\"3\")\n",
    "print(s)"
   ]
  },
  {
   "cell_type": "code",
   "execution_count": 41,
   "metadata": {},
   "outputs": [
    {
     "name": "stdout",
     "output_type": "stream",
     "text": [
      "[7, 5, 6, 9]\n"
     ]
    }
   ],
   "source": [
    "x = [5, 3, 4, 7]\n",
    "y = []\n",
    "for e in x:\n",
    "    y.append(e+2)\n",
    "print(y)"
   ]
  },
  {
   "cell_type": "code",
   "execution_count": 42,
   "metadata": {},
   "outputs": [
    {
     "name": "stdout",
     "output_type": "stream",
     "text": [
      "35\n"
     ]
    }
   ],
   "source": [
    "a = [3, 5, 2, 7]\n",
    "print(a[1]*a[-1])"
   ]
  },
  {
   "cell_type": "code",
   "execution_count": 44,
   "metadata": {},
   "outputs": [
    {
     "name": "stdout",
     "output_type": "stream",
     "text": [
      "0 1\n"
     ]
    }
   ],
   "source": [
    "a = [2, 5, 1]\n",
    "x = 3\n",
    "b, y = a, x\n",
    "a[0] = 0\n",
    "x = 1\n",
    "print(a[0],x)"
   ]
  },
  {
   "cell_type": "code",
   "execution_count": 1,
   "metadata": {},
   "outputs": [
    {
     "name": "stdout",
     "output_type": "stream",
     "text": [
      "1 2\n"
     ]
    }
   ],
   "source": [
    "def f(a, x):\n",
    "    a[0], x=1, 1\n",
    "a=[3,4]\n",
    "x=2\n",
    "f(a,x)\n",
    "print(a[0], x)"
   ]
  },
  {
   "cell_type": "code",
   "execution_count": 48,
   "metadata": {},
   "outputs": [
    {
     "name": "stdout",
     "output_type": "stream",
     "text": [
      "2 8\n"
     ]
    }
   ],
   "source": [
    "a, b = 5, 3\n",
    "b, a = a+b, a-b\n",
    "print(a,b)"
   ]
  },
  {
   "cell_type": "code",
   "execution_count": 49,
   "metadata": {},
   "outputs": [
    {
     "name": "stdout",
     "output_type": "stream",
     "text": [
      "4\n"
     ]
    }
   ],
   "source": [
    "def f(n):\n",
    "    cpt = 0\n",
    "    while n != 1:\n",
    "        cpt+=1\n",
    "        n = n//2\n",
    "    return cpt\n",
    "print(f(18))"
   ]
  },
  {
   "cell_type": "code",
   "execution_count": 50,
   "metadata": {},
   "outputs": [
    {
     "name": "stdout",
     "output_type": "stream",
     "text": [
      "xxxxx\n",
      "xxxx\n",
      "xxx\n",
      "xx\n",
      "x\n"
     ]
    }
   ],
   "source": [
    "for i in range(5):\n",
    "    print(\"x\"*(5-i))"
   ]
  },
  {
   "cell_type": "code",
   "execution_count": null,
   "metadata": {},
   "outputs": [
    {
     "name": "stdout",
     "output_type": "stream",
     "text": [
      "[3, -2, 5, -5]\n"
     ]
    }
   ],
   "source": [
    "def f(x):\n",
    "    if x<0:\n",
    "        return x-1\n",
    "    else:\n",
    "        return x\n",
    "a =[3, -1, 5, -4]\n",
    "b = [ f(x) for x in a]\n",
    "print(b)"
   ]
  },
  {
   "cell_type": "code",
   "execution_count": null,
   "metadata": {},
   "outputs": [],
   "source": []
  }
 ],
 "metadata": {
  "kernelspec": {
   "display_name": "l1-python",
   "language": "python",
   "name": "python3"
  },
  "language_info": {
   "codemirror_mode": {
    "name": "ipython",
    "version": 3
   },
   "file_extension": ".py",
   "mimetype": "text/x-python",
   "name": "python",
   "nbconvert_exporter": "python",
   "pygments_lexer": "ipython3",
   "version": "3.12.5"
  }
 },
 "nbformat": 4,
 "nbformat_minor": 2
}
