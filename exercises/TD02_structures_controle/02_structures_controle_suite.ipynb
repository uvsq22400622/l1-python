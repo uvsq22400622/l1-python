{
 "cells": [
  {
   "cell_type": "markdown",
   "id": "0f68f509",
   "metadata": {},
   "source": [
    "**Exercice 1 :** Supposons que vous souhaitiez développer un programme permettant à un élève de première année de s'entraîner à la soustraction. Le programme génère de manière aléatoire deux entiers d'un seul chiffre, number1 et number2, avec number1 >= number2, et pose à l'élève une question telle que \"Quel est 9 - 2 ?\" Après que l'élève ait saisi la réponse, le programme affiche un message indiquant si elle est correcte. Ecrire un programme qui génère cinq questions et, après qu'un élève y ait répondu, rapporte le nombre de réponses correctes. Le programme affiche également le temps passé sur le test, comme le montre l'exécution d'exemple. Pour mesurer le temps, il faut importer la bibliothèque *Time* (exemple d'utilisation: temps_de_depart = time.time())."
   ]
  },
  {
   "cell_type": "code",
   "execution_count": 43,
   "id": "6211852e",
   "metadata": {},
   "outputs": [
    {
     "name": "stdout",
     "output_type": "stream",
     "text": [
      "2\n",
      "6\n",
      "8\n",
      "2\n",
      "Bravo !\n",
      "Vous avez 1 réponses sur 5.\n",
      "Vous avez mis 4 secondes.\n",
      "Help on built-in function eval in module builtins:\n",
      "\n",
      "eval(source, globals=None, locals=None, /)\n",
      "    Evaluate the given source in the context of globals and locals.\n",
      "\n",
      "    The source may be a string representing a Python expression\n",
      "    or a code object as returned by compile().\n",
      "    The globals must be a dictionary and locals can be any mapping,\n",
      "    defaulting to the current globals and locals.\n",
      "    If only globals is given, locals defaults to it.\n",
      "\n"
     ]
    }
   ],
   "source": [
    "import random\n",
    "import time\n",
    "\n",
    "temps_de_départ = time.time()\n",
    "reponses_correctes = 0\n",
    "\n",
    "for i in range(1, 6):\n",
    "    num1 = random.randint(0, 9)\n",
    "    num2 = random.randint(0, 9)\n",
    "    if num1 < num2:\n",
    "        num1, num2 = num2, num1\n",
    "    r = eval(input(\"Quel est\" + str(num1) + \"-\" + str(num2) + \"?\"))\n",
    "    if num1 - num2 == r:\n",
    "        print(\"Bravo !\")\n",
    "        reponses_correctes += 1\n",
    "    else:\n",
    "        print(num1 - num2)\n",
    "temps_de_fin = time.time()\n",
    "durée = int(temps_de_fin - temps_de_départ)\n",
    "print(\"Vous avez\",reponses_correctes,\"réponses sur 5.\")\n",
    "print(\"Vous avez mis\", durée, \"secondes.\")\n",
    "help(eval)"
   ]
  },
  {
   "cell_type": "markdown",
   "id": "03509ef4",
   "metadata": {},
   "source": [
    "**Exercice 2 :**  L'exemple précédent exécute la boucle cinq fois. Si vous souhaitez que l'utilisateur décide s'il souhaite prendre une autre question, vous pouvez proposer une confirmation à l'utilisateur (en tapant 'Y' pour continuer)."
   ]
  },
  {
   "cell_type": "code",
   "execution_count": 29,
   "id": "1b568d44",
   "metadata": {},
   "outputs": [
    {
     "name": "stdout",
     "output_type": "stream",
     "text": [
      "Le jeu démarre !\n",
      "Bravo !\n",
      "Non ! La bonne réponse est 6 !\n",
      "Fin du jeu !\n",
      "Vous avez  1 réponses correctes sur 2 .\n",
      "Vous avez mis 8 secondes.\n"
     ]
    }
   ],
   "source": [
    "import random\n",
    "import time\n",
    "\n",
    "temps_de_départ = time.time() \n",
    "reponses_correctes = 0\n",
    "\n",
    "print(\"Le jeu démarre !\")\n",
    "\n",
    "nb_jeu = \"Y\"\n",
    "nb_q = 0\n",
    "while nb_jeu == \"Y\":\n",
    "    nb_q+=1\n",
    "    num1 = random.randint(0, 9)\n",
    "    num2 = random.randint(0, 9)\n",
    "    if num1 < num2:\n",
    "        num1, num2 = num2, num1\n",
    "    r = eval(input(\"Quel est\" + str(num1) + \"-\" + str(num2) + \"?\"))\n",
    "    if num1 - num2 == r:\n",
    "        print(\"Bravo !\")\n",
    "        reponses_correctes += 1\n",
    "    else:\n",
    "        print(\"Non !\", \"La bonne réponse est\", num1 - num2, \"!\")\n",
    "    nb_jeu = input(\"Si tu veux continuer le jeu appuie sur 'Y'\").upper()\n",
    "temps_de_fin = time.time()\n",
    "print(\"Fin du jeu !\")\n",
    "print(\"Vous avez \",reponses_correctes,\"réponses correctes sur\", nb_q,\".\")\n",
    "print(\"Vous avez mis\",int(temps_de_fin - temps_de_départ),\"secondes.\")\n"
   ]
  },
  {
   "cell_type": "markdown",
   "id": "9535fb00",
   "metadata": {},
   "source": [
    "**Exercice 3 :**  (Trouver les nombres divisibles par 5 et 6) Écrivez un programme qui affiche, dix nombres par ligne, tous les nombres de 100 à 1 000 qui sont divisibles par 5 et 6. Les nombres sont séparés par exactement un espace."
   ]
  },
  {
   "cell_type": "code",
   "execution_count": 34,
   "id": "8a8b97fa",
   "metadata": {},
   "outputs": [
    {
     "name": "stdout",
     "output_type": "stream",
     "text": [
      "120 150 180 210 240 270 300 330 360 390 \n",
      "420 450 480 510 540 570 600 630 660 690 \n",
      "720 750 780 810 840 870 900 930 960 990 \n"
     ]
    }
   ],
   "source": [
    "compteur = 0\n",
    "for i in range(100, 1001):\n",
    "    if i % 5 == 0 and i % 6 == 0:\n",
    "        print(i, end=\" \")\n",
    "        compteur += 1\n",
    "        if compteur % 10 == 0:\n",
    "            print()\n",
    "            compteur = 0\n",
    "if compteur > 0:\n",
    "    print()"
   ]
  },
  {
   "cell_type": "markdown",
   "id": "1f3d3536",
   "metadata": {},
   "source": [
    "**Exercice 4 :**  Écrivez un programme qui joue au populaire jeu ciseaux-pierre-papier. (Un ciseau peut couper du papier, une pierre peut écraser un ciseau, et du papier peut envelopper une pierre.) Le programme génère aléatoirement un nombre 0, 1 ou 2, représentant respectivement ciseaux, pierre et papier. Ensuite, le programme demande à l'utilisateur d'entrer un nombre 0, 1 ou 2, puis affiche un message indiquant si l'utilisateur gagne, perd ou obtient un match nul par rapport à l'ordinateur. Le programme  permet à l'utilisateur de jouer en continu jusqu'à ce que l'utilisateur ou l'ordinateur gagne plus de deux fois."
   ]
  },
  {
   "cell_type": "code",
   "execution_count": 22,
   "id": "463e2c05",
   "metadata": {},
   "outputs": [
    {
     "name": "stdout",
     "output_type": "stream",
     "text": [
      "Vous avez perdu !\n",
      "2\n",
      "Vous avez perdu !\n",
      "0\n",
      "Vous avez perdu !\n",
      "2\n",
      "Vous avez perdu !\n",
      "1\n",
      "Vous avez gagné !\n",
      "1\n",
      "Vous avez gagné !\n",
      "0\n",
      "Vous avez gagné !\n",
      "1\n",
      "Vous avez gagné 2 fois !\n"
     ]
    }
   ],
   "source": [
    "import random\n",
    "uti_record = 0\n",
    "\n",
    "while uti_record <= 2:\n",
    "    \n",
    "    utilisateur = int(input(\"Joue 0 (ciseau), 1 (pierre), 2 (papier)\"))\n",
    "    ordinateur = random.randint(0, 2)\n",
    "\n",
    "    if utilisateur == 0 and ordinateur == 1:\n",
    "        print(\"Vous avez perdu !\")\n",
    "        print(ordinateur)\n",
    "    elif utilisateur == 1 and ordinateur == 2:\n",
    "        print(\"Vous avez perdu !\")\n",
    "        print(ordinateur)\n",
    "    elif utilisateur == 2 and ordinateur == 0:\n",
    "        print(\"Vous avez perdu !\")\n",
    "        print(ordinateur)\n",
    "    elif utilisateur == 0 and ordinateur == 2:\n",
    "        print(\"Vous avez gagné !\")\n",
    "        print(ordinateur)\n",
    "        uti_record += 1\n",
    "    elif utilisateur == 1 and ordinateur == 0:\n",
    "        print(\"Vous avez gagné !\")\n",
    "        print(ordinateur)\n",
    "        uti_record += 1\n",
    "    elif utilisateur == 2 and ordinateur == 1:\n",
    "        print(\"Vous avez gagné !\")\n",
    "        print(ordinateur)\n",
    "        uti_record += 1\n",
    "    elif utilisateur == ordinateur :\n",
    "        print(\"Egalité, recommencez\")\n",
    "print(\"Vous avez gagné 2 fois !\")"
   ]
  },
  {
   "cell_type": "markdown",
   "id": "e5aa5e9e",
   "metadata": {},
   "source": [
    "**Exercice 5 :** Écrivez un programme pour vérifier la validité des mots de passe saisis par les utilisateurs.\n",
    "\n",
    "    -Au moins 1 lettre entre [a-z] et 1 lettre entre [A-Z].\n",
    "    -Au moins 1 chiffre entre [0-9].\n",
    "    -Au moins 1 caractère parmi [$#@].\n",
    "    -Longueur minimale de 6 caractères.\n",
    "    -Longueur maximale de 16 caractères.\n",
    "    \n",
    "La fonction *re.search()* du module *re* en Python est utilisée pour rechercher un motif (expression régulière) dans une chaîne de caractères. Voici la syntaxe simplifiée de re.search() : re.search(pattern, string)\n",
    "\n",
    "    -pattern : C'est le motif (expression régulière) que vous souhaitez rechercher dans la chaîne de caractères.\n",
    "    -string : C'est la chaîne de caractères dans laquelle vous souhaitez effectuer la recherche.\n",
    "    \n",
    "La fonction re.search() renvoie un objet de correspondance (match object) si le motif est trouvé dans la chaîne de caractères. Si le motif n'est pas trouvé, elle renvoie None.    "
   ]
  },
  {
   "cell_type": "code",
   "execution_count": 41,
   "id": "1cf672d7",
   "metadata": {},
   "outputs": [
    {
     "name": "stderr",
     "output_type": "stream",
     "text": [
      "<>:16: SyntaxWarning: invalid escape sequence '\\S'\n",
      "<>:16: SyntaxWarning: invalid escape sequence '\\S'\n",
      "C:\\Users\\lauraadao\\AppData\\Local\\Temp\\ipykernel_1756\\15025872.py:16: SyntaxWarning: invalid escape sequence '\\S'\n",
      "  elif re.search(\"\\S\", mot):\n"
     ]
    },
    {
     "name": "stdout",
     "output_type": "stream",
     "text": [
      "Mdp invalide !\n"
     ]
    }
   ],
   "source": [
    "import re\n",
    "mot = input(\"Entrez un mot de passe\")\n",
    "x = True\n",
    "\n",
    "while x :\n",
    "    if len(mot) < 6 or len(mot) > 16:\n",
    "        break\n",
    "    elif re.search(\"[a-z]\", mot):\n",
    "        break\n",
    "    elif re.search(\"[0-9]\", mot):\n",
    "        break\n",
    "    elif re.search(\"[A-Z]\", mot):\n",
    "        break\n",
    "    elif re.search(\"[$#@]\", mot):\n",
    "        break\n",
    "    elif re.search(\"\\S\", mot):\n",
    "        break\n",
    "    else:\n",
    "        print(\"Mdp valide\")\n",
    "        x = False\n",
    "        break\n",
    "if x == True:\n",
    "        print(\"Mdp invalide !\")\n",
    "# \\S :"
   ]
  }
 ],
 "metadata": {
  "kernelspec": {
   "display_name": "l1-python",
   "language": "python",
   "name": "python3"
  },
  "language_info": {
   "codemirror_mode": {
    "name": "ipython",
    "version": 3
   },
   "file_extension": ".py",
   "mimetype": "text/x-python",
   "name": "python",
   "nbconvert_exporter": "python",
   "pygments_lexer": "ipython3",
   "version": "3.12.5"
  }
 },
 "nbformat": 4,
 "nbformat_minor": 5
}
