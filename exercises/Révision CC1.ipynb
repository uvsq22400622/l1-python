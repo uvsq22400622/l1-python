{
 "cells": [
  {
   "cell_type": "markdown",
   "metadata": {},
   "source": [
    "QUESTIONS DE COURS\n",
    "\n",
    "Exercice 1. Quelle est la différence entre ces deux opérateurs : / et // ?"
   ]
  },
  {
   "cell_type": "code",
   "execution_count": null,
   "metadata": {},
   "outputs": [],
   "source": [
    "# // permet une division entière, / une division flottante"
   ]
  },
  {
   "cell_type": "markdown",
   "metadata": {},
   "source": [
    "Exercice 2. \n",
    "\n",
    "Soient deux variables var1 et var2, initialisées à var1=4.5 et var2= \"2.0\". Quel est le résultat \n",
    "de l’instruction suivante : print(var1+var2) ? Expliquez.\n",
    "\n",
    "Exercice 3. \n",
    "\n",
    "Qu'affiche l'expression print(5 * 3 == 15 or 4 * 2 == 9 and 18 // 6 == 2) ? Expliquez.\n",
    "\n",
    "Exercice 4. \n",
    "\n",
    "Qu'affiche l'expression print(type(12 = 3 * 4)) ? Expliquez.\n",
    "\n",
    "Exercice 5.\n",
    " \n",
    "Parmi les noms de variables suivants, lesquels ne seront pas acceptés par Python et \n",
    "pourquoi ? \n",
    "• ma-variable \n",
    "• mavariable \n",
    "• MAVARIABLE1 \n",
    "• MaVariable1\n",
    "• 1Mavariable\n"
   ]
  },
  {
   "cell_type": "code",
   "execution_count": 98,
   "metadata": {},
   "outputs": [],
   "source": [
    "#erreur\n"
   ]
  },
  {
   "cell_type": "code",
   "execution_count": 3,
   "metadata": {},
   "outputs": [],
   "source": [
    "# true, les opérateurs or, and et == sont utilisés pour des booléens, donc le print nous indique si c'est vrai ou faux."
   ]
  },
  {
   "cell_type": "code",
   "execution_count": null,
   "metadata": {},
   "outputs": [],
   "source": [
    "#Error, le = est un outil d'affectation entre le nom d'une variable à gauche et la valeur de cell-ci à droite."
   ]
  },
  {
   "cell_type": "code",
   "execution_count": 100,
   "metadata": {},
   "outputs": [],
   "source": [
    "#ma-variable, tiret du 6\n",
    "#1Mavariable, on ne peut pas commencer une variable par un chiffre"
   ]
  },
  {
   "cell_type": "markdown",
   "metadata": {},
   "source": [
    "IF ELSE ELIF\n",
    "\n",
    "Exercice 1. Écrire un programme qui demande à un utilisateur de saisir deux nombres entiers dans les \n",
    "variables a et b. Il se peut que l'utilisateur n'ait pas entré a < b. Comment faire pour que votre \n",
    "programme les remette dans l'ordre (c'est-à-dire échange le contenu de a et de b) ?"
   ]
  },
  {
   "cell_type": "code",
   "execution_count": 46,
   "metadata": {},
   "outputs": [
    {
     "name": "stdout",
     "output_type": "stream",
     "text": [
      "4 56\n"
     ]
    }
   ],
   "source": [
    "a = int(input(\"Entre un nombre entier.\"))\n",
    "b = int(input(\"Entre un nombre entier.\"))\n",
    "if a > b :\n",
    "    a, b = b, a\n"
   ]
  },
  {
   "cell_type": "markdown",
   "metadata": {},
   "source": [
    "Exercice 2.\n",
    "\n",
    " Écrire un programme qui génère de manière aléatoire un nombre à deux chiffres, puis \n",
    "demande à l'utilisateur de saisir un nombre à un chiffre. Le programme affiche \"Diviseur\" si le nombre \n",
    "donné par l'utilisateur est plus grand que 1 et qu'il divise le nombre aléatoire. Proposez une solution \n",
    "en utilisant une seule instruction if.\n"
   ]
  },
  {
   "cell_type": "code",
   "execution_count": 131,
   "metadata": {},
   "outputs": [
    {
     "name": "stdout",
     "output_type": "stream",
     "text": [
      "57\n",
      "diviseur\n"
     ]
    }
   ],
   "source": [
    "import random\n",
    "a = random.randint(10, 99)\n",
    "print(a)\n",
    "utilisateur = int(input(\"Entre un nombre à un chiffre\"))\n",
    "if utilisateur > 1 and a % utilisateur == 0 :\n",
    "    print(\"diviseur\")"
   ]
  },
  {
   "cell_type": "markdown",
   "metadata": {},
   "source": [
    "Exercice 3. \n",
    "\n",
    "Considérons deux variables entières var1 et var2. Écrire un programme qui permute les \n",
    "contenus de var1 et var2 si elles ont le même signe. Sinon, le programme met la somme des puissances \n",
    "des deux dans var1 et leur produit dans var2."
   ]
  },
  {
   "cell_type": "code",
   "execution_count": 139,
   "metadata": {},
   "outputs": [
    {
     "name": "stdout",
     "output_type": "stream",
     "text": [
      "32 16\n"
     ]
    }
   ],
   "source": [
    "var1 = int(input())\n",
    "var2 = int(input())\n",
    "if var1 >= 0 and var2 >= 0 or var1 < 0 and var2 < 0:\n",
    "    var1, var2 = var2, var2\n",
    "else:\n",
    "    var1, var2 = (var1**2 + var2**2), (var1 * var2)\n",
    "print(var1, var2)"
   ]
  },
  {
   "cell_type": "markdown",
   "metadata": {},
   "source": [
    "FOR WHILE\n",
    "\n",
    "Exercice 1. Ecrire un programme qui calcule le PGCD de deux entiers. Le PGCD (Plus Grand Commun\n",
    "Diviseur) est le plus grand nombre qui divise deux entiers sans laisser de reste. Si le PGCD de ces deux \n",
    "nombres est égal à 1, cela signifie qu'ils sont premiers entre eux, c'est-à-dire qu'ils n'ont aucun diviseur \n",
    "commun autre que 1. Pour trouver le PGCD, il est utile de commencer par identifier une borne \n",
    "supérieure ou inférieure qui pourrait être le PGCD, puis affiner la recherche."
   ]
  },
  {
   "cell_type": "code",
   "execution_count": 48,
   "metadata": {},
   "outputs": [
    {
     "name": "stdout",
     "output_type": "stream",
     "text": [
      "10\n"
     ]
    }
   ],
   "source": [
    "#correction\n",
    "a = int(input(\"entier\"))\n",
    "b = int(input(\"entier\"))\n",
    "while b != 0:\n",
    "    reste = a % b\n",
    "    a = b\n",
    "    b = reste\n",
    "print(a)"
   ]
  },
  {
   "cell_type": "code",
   "execution_count": null,
   "metadata": {},
   "outputs": [],
   "source": [
    "#pgcd , les diviseurs communs entre deux nombres\n",
    "#donc : diviseurs de 20: 1, 2, 4, 5, 10, 20\n",
    "    #   diviseurs de 30 : 1, 2, 3, 5, 6, 10, 15, 30\n",
    "# donc c'est 10"
   ]
  },
  {
   "cell_type": "markdown",
   "metadata": {},
   "source": [
    "Exercice 2. \n",
    "\n",
    "Un père décide d'ouvrir un compte bancaire pour son enfant lors de sa naissance. Ensuite, \n",
    "à chaque anniversaire de l'enfant, le père verse sur ce compte 120€ auxquels il ajoute le triple de l'âge\n",
    "de l'enfant. Ecrire un programme qui permet de calculer quelle somme aura son enfant lors de son \n",
    "n\n",
    "ième anniversaire, « n » étant saisi par l'utilisateur"
   ]
  },
  {
   "cell_type": "code",
   "execution_count": 168,
   "metadata": {},
   "outputs": [
    {
     "name": "stdout",
     "output_type": "stream",
     "text": [
      "La somme qu'aura son enfant lors de son 2 ième anniversaire est 249 €.\n"
     ]
    }
   ],
   "source": [
    "compte = 0\n",
    "n = int(input(\"n ième anniversaire\"))\n",
    "for i in range(1, n+1):\n",
    "    compte += 120 + 3*i\n",
    "print(\"La somme qu'aura son enfant lors de son\",n,\"ième anniversaire est\",compte,\"€.\")\n"
   ]
  },
  {
   "cell_type": "markdown",
   "metadata": {},
   "source": [
    "Exercice 3. \n",
    "\n",
    "Ecrire un programme qui demande un nombre de départ à l'utilisateur et qui affiche ensuite\n",
    "les dix nombres précédents. Par exemple, si l'utilisateur entre le nombre 20, le programme affichera \n",
    "les nombres de 19 à 10"
   ]
  },
  {
   "cell_type": "code",
   "execution_count": 197,
   "metadata": {},
   "outputs": [
    {
     "name": "stdout",
     "output_type": "stream",
     "text": [
      "19\n",
      "18\n",
      "17\n",
      "16\n",
      "15\n",
      "14\n",
      "13\n",
      "12\n",
      "11\n",
      "10\n"
     ]
    }
   ],
   "source": [
    "n = int(input(\"Entre un nombre de départ\"))\n",
    "for i in range(10):\n",
    "    n -= 1\n",
    "    print(n)"
   ]
  },
  {
   "cell_type": "code",
   "execution_count": 195,
   "metadata": {},
   "outputs": [
    {
     "name": "stdout",
     "output_type": "stream",
     "text": [
      "19\n",
      "18\n",
      "17\n",
      "16\n",
      "15\n",
      "14\n",
      "13\n",
      "12\n",
      "11\n",
      "10\n"
     ]
    }
   ],
   "source": [
    "n = int(input(\"Entre un nombre de départ\"))\n",
    "for i in range(1, 11):\n",
    "    print(n-i)"
   ]
  }
 ],
 "metadata": {
  "kernelspec": {
   "display_name": "l1-python",
   "language": "python",
   "name": "python3"
  },
  "language_info": {
   "codemirror_mode": {
    "name": "ipython",
    "version": 3
   },
   "file_extension": ".py",
   "mimetype": "text/x-python",
   "name": "python",
   "nbconvert_exporter": "python",
   "pygments_lexer": "ipython3",
   "version": "3.12.5"
  }
 },
 "nbformat": 4,
 "nbformat_minor": 2
}
