{
 "cells": [
  {
   "cell_type": "code",
   "execution_count": 25,
   "metadata": {},
   "outputs": [
    {
     "name": "stdout",
     "output_type": "stream",
     "text": [
      "[1, 5, 11, 6, 1, 0, 8, 8, 5, 4, 7, 5, 3, 4, 6, 5, 3, 9, 7, 7, 5, 0, 5, 5, 1, 7, 3, 5, 6, 2, 10, 1, 11, 8, 4, 1, 9, 0, 9, 5, 9, 11, 3, 9, 7, 7, 6, 7, 2]\n"
     ]
    }
   ],
   "source": [
    "#exercice 1\n",
    "import random\n",
    "n=[]\n",
    "n2 = random.randint(0,99)\n",
    "for i in range(n2+1):\n",
    "    n.append(random.randint(0,11))\n",
    "print(n)"
   ]
  },
  {
   "cell_type": "code",
   "execution_count": 29,
   "metadata": {},
   "outputs": [
    {
     "data": {
      "text/plain": [
       "[[1, 8, 3], [3, 5, 3]]"
      ]
     },
     "execution_count": 29,
     "metadata": {},
     "output_type": "execute_result"
    }
   ],
   "source": [
    "#exercice 2\n",
    "def somme_matrice(mat1:list, mat2:list)->list :\n",
    "    \"\"\"Retourne la somme de deux listes/matrices sous forme d'une liste/matrice.\"\"\"\n",
    "    if len(mat1) == len(mat2):\n",
    "        ligne1 = [mat1[0][0]+mat2[0][0], mat1[0][1]+mat2[0][1],mat1[0][2]+mat2[0][2]]\n",
    "        ligne2 = [mat1[1][0]+mat2[1][0], mat1[1][1]+mat2[1][1], mat1[1][2]+mat2[1][2]]\n",
    "        somme=[ligne1,ligne2]\n",
    "        return somme\n",
    "    else:\n",
    "        print(\"erreur\")\n",
    "mat1 = [1,1,1],[3,0,2]\n",
    "mat2 = [0,7,2],[0,5,1]\n",
    "somme_matrice(mat1,mat2)\n"
   ]
  },
  {
   "cell_type": "code",
   "execution_count": null,
   "metadata": {},
   "outputs": [],
   "source": []
  }
 ],
 "metadata": {
  "kernelspec": {
   "display_name": "l1-python",
   "language": "python",
   "name": "python3"
  },
  "language_info": {
   "codemirror_mode": {
    "name": "ipython",
    "version": 3
   },
   "file_extension": ".py",
   "mimetype": "text/x-python",
   "name": "python",
   "nbconvert_exporter": "python",
   "pygments_lexer": "ipython3",
   "version": "3.12.5"
  }
 },
 "nbformat": 4,
 "nbformat_minor": 2
}
